{
 "cells": [
  {
   "cell_type": "code",
   "execution_count": 1,
   "metadata": {},
   "outputs": [],
   "source": [
    "import numpy as np\n",
    "import matplotlib.pyplot as plt\n",
    "from tqdm import tqdm\n",
    "from IPython.display import clear_output\n",
    "import math\n",
    "import copy\n",
    "%matplotlib inline"
   ]
  },
  {
   "cell_type": "markdown",
   "metadata": {},
   "source": [
    "## Question"
   ]
  },
  {
   "cell_type": "code",
   "execution_count": 2,
   "metadata": {},
   "outputs": [],
   "source": [
    "# 1. Environment Description\n",
    "\n",
    "# This exercise aims to familiarize you with two popular Temporal Difference Learning algorithms:\n",
    "# SARSA and Q-Learning. You will solve several variants of the Grid World problem (a sample\n",
    "# world is shown in Figure 2).\n",
    "# This is a grid world with 4 deterministic actions (‘up’, ‘down’, ‘left’, ‘right’). The agent transitions to the next state determined by the direction of the action chosen with a probability of\n",
    "# p ∈ [0, 1]. We also define a parameter called b ∈ [0, 1]. Consider the direction of the action chosen\n",
    "# as the agent’s “North”. For example, if the action is ‘left’, it is the agent’s North, and the agent’s\n",
    "# East would be the direction of the action ‘up’. Figure 1 provides an illustration of the same. The\n",
    "# agent transitions to the state West of the chosen action with probability (1−p)×b, and to the East\n",
    "# of the chosen action with probability (1 − p) × (1 − b).\n",
    "# The environment may also have a wind blowing that can push the agent one additional cell to the\n",
    "# right after transitioning to the new state with a probability of 0.4. An episode is terminated\n",
    "# either when a goal is reached or when the timesteps exceed 100. Transitions that take you off the\n",
    "# grid will not result in any change in state.\n",
    "# The dimensions of the grid are 10 × 10. The following types of states exist:\n",
    "# • Start state: The agent starts from this state.\n",
    "# • Goal state: The goal is to reach one of these states. There are 3 goal states in total.\n",
    "# • Obstructed state: These are walls that prevent entry to the respective cells. Transition to\n",
    "# these states will not result in any change.\n",
    "# • Bad state: Entry into these states will incur a higher penalty than a normal state.\n",
    "# • Restart state: Entry into these states will incur a very high penalty and will cause agent to\n",
    "# teleport to the start state without the episode ending. Once the restart state is reached, no\n",
    "# matter what action is chosen, it goes to the start state at the next step.\n",
    "# • Normal state: None of the above. Entry into these states will incur a small penalty.\n",
    "# Rewards: -1 for normal states, -100 for restart states, -6 for bad states, +10 for goal states.\n",
    "\n",
    "\n",
    "# 2. Additional Information\n",
    "# The env.step() function takes as arguments\n",
    "# the current state and action, and returns the reward and next state. The appropriate termination\n",
    "# conditions have to be specified by the student in the code (as explained in section 1, env.reset ()\n",
    "# resets the environment. In the notebook containing the code, cell 1 contains the environment class,\n",
    "# cell 2 contains the environment instantiation, and cell 3 lists some environment variables. For each\n",
    "# experiment, the start state is fixed and does not change. Different experiments may have different\n",
    "# start states.\n",
    "\n",
    "\n",
    "# 3. Tasks\n",
    "# 1.  Implement SARSA and Q-Learning algorithms.\n",
    "# For each algorithm, run experiments for the start states (0, 4) and (3, 6). Consider the following\n",
    "# three variants of stochasticity for each start state.\n",
    "# 1. wind=False(clear), p = 1.0(deterministic step).\n",
    "# 2. wind=False(clear), p = 0.7(stochastic step).\n",
    "# 3. wind=True(windy), p = 1.0(deterministic step).\n",
    "# In total, you have to conduct 12 different experiments - (3 grid world variants × 2 start\n",
    "# states × 2 algos).\n",
    "\n",
    "# For each of the 12 experiments, determine the best set of hyperparameters({τ in softmax or\n",
    "# ϵ in ϵ-greedy}, learning rate α, and discount factor γ), along with the best action selection\n",
    "# policy(ϵ-greedy or softmax) with justification. You are also required to plot the following (4\n",
    "# plots per exp) for each experiment(with the best hyperparameters and action selection policy):\n",
    "# 1. Reward curves and the number of steps to reach the goal in each episode.\n",
    "# 2. Heatmap of the grid with state visit counts, i.e., the number of times each state was\n",
    "# visited throughout the training phase.\n",
    "# 3. Heatmap of the grid with Q values after training is complete, and optimal actions for\n",
    "# the best policy.\n",
    "\n",
    "# Note: Each plot should be obtained by training the agent for at least 5000 episodes and\n",
    "# the plots reported should be averaged over 5 runs. For the reward and steps plot, mean and\n",
    "# standard deviation should be shown as in Figure 3. The mean values are denoted by the line\n",
    "# graph and the shaded region above and below the line denotes the range of values within one\n",
    "# standard deviation of the mean. For the heatmaps, it suffices to report mean state-visits and\n",
    "# Q values.\n",
    "\n",
    "# Code for the environment is provided in the next cell. You are required to implement the\n",
    "# algorithms and the plots in the subsequent cells. You are free to add additional cells for\n",
    "# implementation purposes."
   ]
  },
  {
   "cell_type": "markdown",
   "metadata": {},
   "source": [
    "## Environment"
   ]
  },
  {
   "cell_type": "code",
   "execution_count": 3,
   "metadata": {},
   "outputs": [],
   "source": [
    "def row_col_to_seq(row_col, num_cols):  #Converts state number to row_column format\n",
    "    return row_col[:,0] * num_cols + row_col[:,1]\n",
    "\n",
    "def seq_to_col_row(seq, num_cols): #Converts row_column format to state number\n",
    "    r = math.floor(seq / num_cols)\n",
    "    c = seq - r * num_cols\n",
    "    return np.array([[r, c]])\n",
    "\n",
    "class GridWorld:\n",
    "    \"\"\"\n",
    "    Creates a gridworld object to pass to an RL algorithm.\n",
    "    Parameters\n",
    "    ----------\n",
    "    num_rows : int\n",
    "        The number of rows in the gridworld.\n",
    "    num_cols : int\n",
    "        The number of cols in the gridworld.\n",
    "    start_state : numpy array of shape (1, 2), np.array([[row, col]])\n",
    "        The start state of the gridworld (can only be one start state)\n",
    "    goal_states : numpy arrany of shape (n, 2)\n",
    "        The goal states for the gridworld where n is the number of goal\n",
    "        states.\n",
    "    \"\"\"\n",
    "    def __init__(self, num_rows, num_cols, start_state, goal_states, wind = False):\n",
    "        self.num_rows = num_rows\n",
    "        self.num_cols = num_cols\n",
    "        self.start_state = start_state\n",
    "        self.goal_states = goal_states\n",
    "        self.obs_states = None\n",
    "        self.bad_states = None\n",
    "        self.num_bad_states = 0\n",
    "        self.p_good_trans = None\n",
    "        self.bias = None\n",
    "        self.r_step = None\n",
    "        self.r_goal = None\n",
    "        self.r_dead = None\n",
    "        self.gamma = 1 # default is no discounting\n",
    "        self.wind = wind\n",
    "\n",
    "    def add_obstructions(self, obstructed_states=None, bad_states=None, restart_states=None):\n",
    "\n",
    "        self.obs_states = obstructed_states\n",
    "        self.bad_states = bad_states\n",
    "        if bad_states is not None:\n",
    "            self.num_bad_states = bad_states.shape[0]\n",
    "        else:\n",
    "            self.num_bad_states = 0\n",
    "        self.restart_states = restart_states\n",
    "        if restart_states is not None:\n",
    "            self.num_restart_states = restart_states.shape[0]\n",
    "        else:\n",
    "            self.num_restart_states = 0\n",
    "\n",
    "    def add_transition_probability(self, p_good_transition, bias):\n",
    "\n",
    "        self.p_good_trans = p_good_transition\n",
    "        self.bias = bias\n",
    "\n",
    "    def add_rewards(self, step_reward, goal_reward, bad_state_reward=None, restart_state_reward = None):\n",
    "\n",
    "        self.r_step = step_reward\n",
    "        self.r_goal = goal_reward\n",
    "        self.r_bad = bad_state_reward\n",
    "        self.r_restart = restart_state_reward\n",
    "\n",
    "\n",
    "    def create_gridworld(self):\n",
    "\n",
    "        self.num_actions = 4\n",
    "        self.num_states = self.num_cols * self.num_rows# +1\n",
    "        self.start_state_seq = row_col_to_seq(self.start_state, self.num_cols)\n",
    "        self.goal_states_seq = row_col_to_seq(self.goal_states, self.num_cols)\n",
    "\n",
    "        # rewards structure\n",
    "        self.R = self.r_step * np.ones((self.num_states, 1))\n",
    "        #self.R[self.num_states-1] = 0\n",
    "        self.R[self.goal_states_seq] = self.r_goal\n",
    "\n",
    "        for i in range(self.num_bad_states):\n",
    "            if self.r_bad is None:\n",
    "                raise Exception(\"Bad state specified but no reward is given\")\n",
    "            bad_state = row_col_to_seq(self.bad_states[i,:].reshape(1,-1), self.num_cols)\n",
    "            #print(\"bad states\", bad_state)\n",
    "            self.R[bad_state, :] = self.r_bad\n",
    "        for i in range(self.num_restart_states):\n",
    "            if self.r_restart is None:\n",
    "                raise Exception(\"Restart state specified but no reward is given\")\n",
    "            restart_state = row_col_to_seq(self.restart_states[i,:].reshape(1,-1), self.num_cols)\n",
    "            #print(\"restart_state\", restart_state)\n",
    "            self.R[restart_state, :] = self.r_restart\n",
    "\n",
    "        # probability model\n",
    "        if self.p_good_trans == None:\n",
    "            raise Exception(\"Must assign probability and bias terms via the add_transition_probability method.\")\n",
    "\n",
    "        self.P = np.zeros((self.num_states,self.num_states,self.num_actions))\n",
    "        for action in range(self.num_actions):\n",
    "            for state in range(self.num_states):\n",
    "\n",
    "\n",
    "                # check if the state is the goal state or an obstructed state - transition to end\n",
    "                row_col = seq_to_col_row(state, self.num_cols)\n",
    "                if self.obs_states is not None:\n",
    "                    end_states = np.vstack((self.obs_states, self.goal_states))\n",
    "                else:\n",
    "                    end_states = self.goal_states\n",
    "\n",
    "                if any(np.sum(np.abs(end_states-row_col), 1) == 0):\n",
    "                    self.P[state, state, action] = 1\n",
    "\n",
    "                # else consider stochastic effects of action\n",
    "                else:\n",
    "                    for dir in range(-1,2,1):\n",
    "\n",
    "                        direction = self._get_direction(action, dir)\n",
    "                        next_state = self._get_state(state, direction)\n",
    "                        if dir == 0:\n",
    "                            prob = self.p_good_trans\n",
    "                        elif dir == -1:\n",
    "                            prob = (1 - self.p_good_trans)*(self.bias)\n",
    "                        elif dir == 1:\n",
    "                            prob = (1 - self.p_good_trans)*(1-self.bias)\n",
    "\n",
    "                        self.P[state, next_state, action] += prob\n",
    "\n",
    "                # make restart states transition back to the start state with\n",
    "                # probability 1\n",
    "                if self.restart_states is not None:\n",
    "                    if any(np.sum(np.abs(self.restart_states-row_col),1)==0):\n",
    "                        next_state = row_col_to_seq(self.start_state, self.num_cols)\n",
    "                        self.P[state,:,:] = 0\n",
    "                        self.P[state,next_state,:] = 1\n",
    "        return self\n",
    "\n",
    "    def _get_direction(self, action, direction):\n",
    "\n",
    "        left = [2,3,1,0]\n",
    "        right = [3,2,0,1]\n",
    "        if direction == 0:\n",
    "            new_direction = action\n",
    "        elif direction == -1:\n",
    "            new_direction = left[action]\n",
    "        elif direction == 1:\n",
    "            new_direction = right[action]\n",
    "        else:\n",
    "            raise Exception(\"getDir received an unspecified case\")\n",
    "        return new_direction\n",
    "\n",
    "    def _get_state(self, state, direction):\n",
    "\n",
    "        row_change = [-1,1,0,0]\n",
    "        col_change = [0,0,-1,1]\n",
    "        row_col = seq_to_col_row(state, self.num_cols)\n",
    "        row_col[0,0] += row_change[direction]\n",
    "        row_col[0,1] += col_change[direction]\n",
    "\n",
    "        # check for invalid states\n",
    "        if self.obs_states is not None:\n",
    "            if (np.any(row_col < 0) or\n",
    "                np.any(row_col[:,0] > self.num_rows-1) or\n",
    "                np.any(row_col[:,1] > self.num_cols-1) or\n",
    "                np.any(np.sum(abs(self.obs_states - row_col), 1)==0)):\n",
    "                next_state = state\n",
    "            else:\n",
    "                next_state = row_col_to_seq(row_col, self.num_cols)[0]\n",
    "        else:\n",
    "            if (np.any(row_col < 0) or\n",
    "                np.any(row_col[:,0] > self.num_rows-1) or\n",
    "                np.any(row_col[:,1] > self.num_cols-1)):\n",
    "                next_state = state\n",
    "            else:\n",
    "                next_state = row_col_to_seq(row_col, self.num_cols)[0]\n",
    "\n",
    "        return next_state\n",
    "\n",
    "    def reset(self):\n",
    "      return int(self.start_state_seq)\n",
    "\n",
    "    def step(self, state, action):\n",
    "        p, r = 0, np.random.random()\n",
    "        for next_state in range(self.num_states):\n",
    "\n",
    "            p += self.P[state, next_state, action]\n",
    "\n",
    "            if r <= p:\n",
    "                break\n",
    "\n",
    "        if(self.wind and np.random.random() < 0.4):\n",
    "\n",
    "          arr = self.P[next_state, :, 3]\n",
    "          next_next = np.where(arr == np.amax(arr))\n",
    "          next_next = next_next[0][0]\n",
    "          return next_next, self.R[next_next]\n",
    "        else:\n",
    "          return next_state, self.R[next_state]\n"
   ]
  },
  {
   "cell_type": "code",
   "execution_count": 4,
   "metadata": {},
   "outputs": [],
   "source": [
    "# specify world parameters\n",
    "num_cols = 10\n",
    "num_rows = 10\n",
    "obstructions = np.array([[0,7],[1,1],[1,2],[1,3],[1,7],[2,1],[2,3],\n",
    "                         [2,7],[3,1],[3,3],[3,5],[4,3],[4,5],[4,7],\n",
    "                         [5,3],[5,7],[5,9],[6,3],[6,9],[7,1],[7,6],\n",
    "                         [7,7],[7,8],[7,9],[8,1],[8,5],[8,6],[9,1]])\n",
    "bad_states = np.array([[1,9],[4,2],[4,4],[7,5],[9,9]])\n",
    "restart_states = np.array([[3,7],[8,2]])\n",
    "start_state = np.array([[0,4]])\n",
    "goal_states = np.array([[0,9],[2,2],[8,7]])\n",
    "\n",
    "# create model\n",
    "gw = GridWorld(num_rows=num_rows,\n",
    "               num_cols=num_cols,\n",
    "               start_state=start_state,\n",
    "               goal_states=goal_states, wind = False)\n",
    "gw.add_obstructions(obstructed_states=obstructions,\n",
    "                    bad_states=bad_states,\n",
    "                    restart_states=restart_states)\n",
    "gw.add_rewards(step_reward=-1,\n",
    "               goal_reward=10,\n",
    "               bad_state_reward=-6,\n",
    "               restart_state_reward=-100)\n",
    "gw.add_transition_probability(p_good_transition=0.7,\n",
    "                              bias=0.5)\n",
    "env = gw.create_gridworld()"
   ]
  },
  {
   "cell_type": "code",
   "execution_count": 5,
   "metadata": {},
   "outputs": [
    {
     "name": "stdout",
     "output_type": "stream",
     "text": [
      "Number of actions 4\n",
      "Number of states 100\n",
      "start state [4]\n",
      "goal state(s) [ 9 22 87]\n"
     ]
    }
   ],
   "source": [
    "print(\"Number of actions\", env.num_actions) #0 -> UP, 1-> DOWN, 2 -> LEFT, 3-> RIGHT\n",
    "print(\"Number of states\", env.num_states)\n",
    "print(\"start state\", env.start_state_seq)\n",
    "print(\"goal state(s)\", env.goal_states_seq)"
   ]
  },
  {
   "cell_type": "code",
   "execution_count": 6,
   "metadata": {},
   "outputs": [
    {
     "data": {
      "image/png": "[encoded data removed]",
      "text/plain": [
       "<Figure size 576x576 with 1 Axes>"
      ]
     },
     "metadata": {
      "needs_background": "light"
     },
     "output_type": "display_data"
    }
   ],
   "source": [
    "# visualize the gridworld\n",
    "\n",
    "def visualize():\n",
    "\n",
    "    grid = np.ones((num_rows, num_cols, 3))\n",
    "    grid[obstructions[:,0], obstructions[:,1], :] = 0\n",
    "    grid[bad_states[:,0], bad_states[:,1], 0] = 1\n",
    "    grid[bad_states[:,0], bad_states[:,1], 1] = 0\n",
    "    grid[bad_states[:,0], bad_states[:,1], 2] = 0\n",
    "    grid[restart_states[:,0], restart_states[:,1], 0] = 0\n",
    "    grid[restart_states[:,0], restart_states[:,1], 1] = 0\n",
    "    grid[restart_states[:,0], restart_states[:,1], 2] = 1\n",
    "    grid[goal_states[:,0], goal_states[:,1], 0] = 0\n",
    "    grid[goal_states[:,0], goal_states[:,1], 1] = 1\n",
    "    grid[goal_states[:,0], goal_states[:,1], 2] = 0\n",
    "    grid[start_state[0,0], start_state[0,1], 0] = 1\n",
    "    grid[start_state[0,0], start_state[0,1], 1] = 1\n",
    "    grid[start_state[0,0], start_state[0,1], 2] = 0\n",
    "    plt.figure(figsize=(8,8))\n",
    "    plt.imshow(grid)\n",
    "    plt.show()\n",
    "\n",
    "\n",
    "visualize()"
   ]
  },
  {
   "cell_type": "code",
   "execution_count": null,
   "metadata": {},
   "outputs": [],
   "source": []
  },
  {
   "cell_type": "code",
   "execution_count": 7,
   "metadata": {},
   "outputs": [],
   "source": [
    "# Task 1: Implement SARSA algorithm.\n"
   ]
  },
  {
   "cell_type": "markdown",
   "metadata": {},
   "source": [
    "## Policy"
   ]
  },
  {
   "cell_type": "code",
   "execution_count": 8,
   "metadata": {},
   "outputs": [],
   "source": [
    "def softmax_choose_action(Q, tau=1.0):\n",
    "    # scaling may be needed\n",
    "    p = np.exp(Q/tau) / np.sum(np.exp(Q/tau))\n",
    "    return np.random.choice(len(Q), p=p)\n",
    "\n",
    "def epsilon_greedy_choose_action(Q, epsilon):\n",
    "    if np.random.random() < epsilon:\n",
    "        return np.random.randint(len(Q))\n",
    "    else:\n",
    "        return np.argmax(Q)\n",
    "    "
   ]
  },
  {
   "cell_type": "code",
   "execution_count": 9,
   "metadata": {},
   "outputs": [
    {
     "data": {
      "text/plain": [
       "False"
      ]
     },
     "execution_count": 9,
     "metadata": {},
     "output_type": "execute_result"
    }
   ],
   "source": [
    "env.goal_states_seq\n",
    "env.reset() in env.goal_states_seq"
   ]
  },
  {
   "cell_type": "markdown",
   "metadata": {},
   "source": [
    "### Sarsa\n",
    "$$\n",
    "Q(s_t,a_t) \\leftarrow  Q(s_t, a_t) + \\alpha[r_t + \\gamma Q(s_{t+1}, a_{t+1}) - Q(s_t, a_t)]\n",
    "$$"
   ]
  },
  {
   "cell_type": "code",
   "execution_count": null,
   "metadata": {},
   "outputs": [],
   "source": [
    "# Hyperparameters\n",
    "Q = np.zeros((env.num_states, env.num_actions))\n",
    "alpha = 0.1\n",
    "gamma = 0.9\n",
    "epsilon = 0.1\n",
    "tau = 0.1\n",
    "max_steps = 100\n",
    "\n",
    "# SARSA\n",
    "def sarsa(env, num_episodes, alpha, gamma, epsilon=epsilon, tau=tau, choose_action=softmax_choose_action):\n",
    "  rewards = []\n",
    "  steps = []\n",
    "  for episode in range(num_episodes):\n",
    "    state = env.reset()\n",
    "    done = False\n",
    "    total_reward = 0\n",
    "    total_steps = 0\n",
    "    action = choose_action(Q[state], tau)\n",
    "    while not done:\n",
    "      next_state, reward = env.step(state, action)\n",
    "      total_reward += reward\n",
    "      total_steps += 1\n",
    "\n",
    "      # # Epsilon-greedy action selection\n",
    "      # next_action = epsilon_greedy(Q[next_state], epsilon)\n",
    "\n",
    "      # Softmax action selection\n",
    "      next_action = choose_action(Q[next_state], tau)\n",
    "\n",
    "      # SARSA update\n",
    "      Q[state, action] += alpha * (reward + gamma * Q[next_state, next_action] - Q[state, action])\n",
    "      \n",
    "      state = next_state\n",
    "      action = next_action\n",
    "      done = (state in env.goal_states_seq) or (total_steps > max_steps)\n",
    "    rewards.append(total_reward)\n",
    "    steps.append(total_steps)\n",
    "  return rewards, steps\n"
   ]
  },
  {
   "cell_type": "markdown",
   "metadata": {},
   "source": [
    "#### Q-Learning"
   ]
  },
  {
   "cell_type": "code",
   "execution_count": 11,
   "metadata": {},
   "outputs": [],
   "source": [
    "def Q_Learning(env, num_episodes, alpha, gamma, epsilon=epsilon, tau=tau, choose_action=softmax_choose_action):\n",
    "  rewards = []\n",
    "  steps = []\n",
    "  for episode in range(num_episodes):\n",
    "    state = env.reset()\n",
    "    done = False\n",
    "    total_reward = 0\n",
    "    total_steps = 0\n",
    "    while not done:\n",
    "      # Epsilon-greedy action selection\n",
    "      action = choose_action(Q[state], tau)\n",
    "      next_state, reward = env.step(state, action)\n",
    "      total_reward += reward\n",
    "      total_steps += 1\n",
    "      # Q-Learning update\n",
    "      Q[state, action] += alpha * (reward + gamma * np.max(Q[next_state]) - Q[state, action])\n",
    "      state = next_state\n",
    "      done = (state in env.goal_states_seq) or (total_steps > max_steps)\n",
    "    rewards.append(total_reward)\n",
    "    steps.append(total_steps)\n",
    "  return rewards, steps\n"
   ]
  },
  {
   "cell_type": "code",
   "execution_count": 23,
   "metadata": {},
   "outputs": [
    {
     "name": "stdout",
     "output_type": "stream",
     "text": [
      "Run 5/5 complete\n"
     ]
    },
    {
     "data": {
      "image/png": "[encoded data removed]",
      "text/plain": [
       "<Figure size 720x360 with 2 Axes>"
      ]
     },
     "metadata": {
      "needs_background": "light"
     },
     "output_type": "display_data"
    }
   ],
   "source": [
    "# Run experiments for the start states (0, 4) and (3, 6). Consider the following three variants of stochasticity for each start state.\n",
    "# 1. wind=False(clear), p = 1.0(deterministic step).\n",
    "# we need :\n",
    "#  Reward curves and the number of steps to reach the goal in each episode.\n",
    "# 2. Heatmap of the grid with state visit counts, i.e., the number of times each state was\n",
    "# visited throughout the training phase.\n",
    "# 3. Heatmap of the grid with Q values after training is complete, and optimal actions for\n",
    "# the best policy.\n",
    "\n",
    "\n",
    "# Experiment 1\n",
    "\n",
    "gw = GridWorld(num_rows=num_rows, num_cols=num_cols, start_state=np.array([[0,4]]), goal_states=goal_states, wind = False)\n",
    "gw.add_obstructions(obstructed_states=obstructions, bad_states=bad_states, restart_states=restart_states)\n",
    "gw.add_rewards(step_reward=-1, goal_reward=10, bad_state_reward=-6, restart_state_reward=-100)\n",
    "gw.add_transition_probability(p_good_transition=1.0, bias=0.5)\n",
    "env = gw.create_gridworld()\n",
    "\n",
    "# Initialization\n",
    "num_runs = 5\n",
    "num_episodes = 5000\n",
    "alpha = 0.1\n",
    "gamma = 0.9\n",
    "epsilon = 0.1\n",
    "tau = 0.1\n",
    "Q = np.zeros((env.num_states, env.num_actions))\n",
    "\n",
    "\n",
    "rewards = np.zeros((num_runs, num_episodes))\n",
    "steps = np.zeros((num_runs, num_episodes))\n",
    "\n",
    "for run in range(num_runs):\n",
    "  rewards[run, :], steps[run, :] = sarsa(env, num_episodes, alpha, gamma, epsilon, tau, softmax_choose_action)\n",
    "  clear_output(wait=True)\n",
    "  print(f\"Run {run+1}/{num_runs} complete\")\n",
    "\n",
    "# Plot results\n",
    "mean_rewards = np.mean(rewards, axis=0)\n",
    "std_rewards = np.std(rewards, axis=0)\n",
    "mean_steps = np.mean(steps, axis=0)\n",
    "std_steps = np.std(steps, axis=0)\n",
    "\n",
    "plt.figure(figsize=(10, 5))\n",
    "plt.subplot(1, 2, 1)\n",
    "plt.plot(mean_rewards)\n",
    "plt.fill_between(range(num_episodes), mean_rewards - std_rewards, mean_rewards + std_rewards, alpha=0.3)\n",
    "plt.title(\"Mean Reward\")\n",
    "plt.xlabel(\"Episode\")\n",
    "plt.ylabel(\"Reward\")\n",
    "\n",
    "plt.subplot(1, 2, 2)\n",
    "plt.plot(mean_steps)\n",
    "plt.fill_between(range(num_episodes), mean_steps - std_steps, mean_steps + std_steps, alpha=0.3)\n",
    "plt.title(\"Mean Steps\")\n",
    "plt.xlabel(\"Episode\")\n",
    "plt.ylabel(\"Steps\")\n",
    "\n",
    "plt.tight_layout()\n",
    "plt.show()\n"
   ]
  },
  {
   "cell_type": "code",
   "execution_count": 24,
   "metadata": {},
   "outputs": [
    {
     "data": {
      "image/png": "[encoded data removed]",
      "text/plain": [
       "<Figure size 360x360 with 2 Axes>"
      ]
     },
     "metadata": {
      "needs_background": "light"
     },
     "output_type": "display_data"
    }
   ],
   "source": [
    "\n",
    "# Heatmap of the grid with state visit counts, i.e., the number of times each state was visited throughout the training phase.\n",
    "state_visits = np.zeros((env.num_rows, env.num_cols))\n",
    "for state in range(env.num_states):\n",
    "  row_col = seq_to_col_row(state, env.num_cols)\n",
    "  state_visits[row_col[0, 0], row_col[0, 1]] = np.sum(steps[:, -1] >= state)\n",
    "\n",
    "plt.figure(figsize=(5, 5))\n",
    "plt.imshow(state_visits, cmap=\"hot\")\n",
    "plt.title(\"State Visits\")\n",
    "plt.colorbar()\n",
    "plt.show()\n"
   ]
  },
  {
   "cell_type": "code",
   "execution_count": 25,
   "metadata": {},
   "outputs": [],
   "source": [
    "\n",
    "# num_episodes = 5000\n",
    "# num_runs = 5\n",
    "# rewards = np.zeros((num_runs, num_episodes))\n",
    "# steps = np.zeros((num_runs, num_episodes))\n",
    "# for run in range(num_runs):\n",
    "#   rewards[run], steps[run] = sarsa(env, num_episodes, alpha, gamma, epsilon, tau)\n",
    "#   clear_output(wait=True)\n",
    "#   print(f\"Run {run+1}/{num_runs} complete\")\n",
    "\n",
    "# # Plot reward curves and the number of steps to reach the goal in each episode\n",
    "# mean_rewards = np.mean(rewards, axis=0)\n",
    "# std_rewards = np.std(rewards, axis=0)\n",
    "# mean_steps = np.mean(steps, axis=0)\n",
    "# std_steps = np.std(steps, axis=0)\n",
    "# plt.figure(figsize=(15, 5))\n",
    "# plt.subplot(1, 2, 1)\n",
    "# plt.plot(mean_rewards)\n",
    "# plt.fill_between(range(num_episodes), mean_rewards + std_rewards, mean_rewards - std_rewards, alpha=0.5)\n",
    "# plt.title(\"Reward\")\n",
    "# plt.xlabel(\"Episode\")\n",
    "# plt.ylabel(\"Total Reward\")\n",
    "# plt.subplot(1, 2, 2)\n",
    "# plt.plot(mean_steps)\n",
    "# plt.fill_between(range(num_episodes), mean_steps + std_steps, mean_steps - std_steps, alpha=0.5)\n",
    "# plt.title(\"Steps\")\n",
    "# plt.xlabel(\"Episode\")\n",
    "# plt.ylabel(\"Total Steps\")\n",
    "# plt.show()\n"
   ]
  },
  {
   "cell_type": "code",
   "execution_count": 26,
   "metadata": {},
   "outputs": [
    {
     "data": {
      "image/png": "[encoded data removed]",
      "text/plain": [
       "<Figure size 720x720 with 2 Axes>"
      ]
     },
     "metadata": {
      "needs_background": "light"
     },
     "output_type": "display_data"
    }
   ],
   "source": [
    "\n",
    "# Heatmap of the grid with state visit counts\n",
    "visit_counts = np.zeros((num_rows, num_cols))\n",
    "for state in range(env.num_states):\n",
    "  row_col = seq_to_col_row(state, num_cols)\n",
    "  visit_counts[row_col[0, 0], row_col[0, 1]] = np.sum([1 for step in steps.flatten() if step > state])\n",
    "plt.figure(figsize=(10, 10))\n",
    "plt.imshow(visit_counts, cmap='magma', interpolation='none')\n",
    "plt.title(\"State Visit Counts\")\n",
    "plt.colorbar()\n",
    "plt.show()\n",
    "\n"
   ]
  },
  {
   "cell_type": "code",
   "execution_count": 27,
   "metadata": {},
   "outputs": [
    {
     "name": "stdout",
     "output_type": "stream",
     "text": [
      "[0 7]\n"
     ]
    }
   ],
   "source": [
    "print(env.obs_states[0])"
   ]
  },
  {
   "cell_type": "code",
   "execution_count": 28,
   "metadata": {},
   "outputs": [
    {
     "name": "stdout",
     "output_type": "stream",
     "text": [
      "[0 7]\n",
      "yes\n"
     ]
    }
   ],
   "source": [
    "state = 7\n",
    "row_col = seq_to_col_row(state, env.num_cols)\n",
    "# make cell_state of type env.obs_states[0] so that it can be compared with env.obs_states\n",
    "cell_state = np.array([row_col[0,0], row_col[0,1]])\n",
    "print(cell_state)\n",
    "# check if cell_state is in env.obs_states\n",
    "if np.any(np.sum(np.abs(env.obs_states - cell_state), 1) == 0):\n",
    "    print(\"yes\")\n",
    "else:\n",
    "    print(\"no\")"
   ]
  },
  {
   "cell_type": "code",
   "execution_count": 29,
   "metadata": {},
   "outputs": [
    {
     "data": {
      "text/plain": [
       "array([[9, 9]])"
      ]
     },
     "execution_count": 29,
     "metadata": {},
     "output_type": "execute_result"
    }
   ],
   "source": [
    "seq_to_col_row(99, 10)"
   ]
  },
  {
   "cell_type": "code",
   "execution_count": 30,
   "metadata": {},
   "outputs": [
    {
     "data": {
      "image/png": "[encoded data removed]",
      "text/plain": [
       "<Figure size 720x720 with 2 Axes>"
      ]
     },
     "metadata": {
      "needs_background": "light"
     },
     "output_type": "display_data"
    },
    {
     "data": {
      "image/png": "[encoded data removed]",
      "text/plain": [
       "<Figure size 720x720 with 1 Axes>"
      ]
     },
     "metadata": {
      "needs_background": "light"
     },
     "output_type": "display_data"
    }
   ],
   "source": [
    "# Heatmap of the grid with Q values after training is complete, and optimal actions for the best policy\n",
    "# mark arrow directions for optimal actions\n",
    "optimal_actions = np.argmax(Q, axis=1)\n",
    "optimal_action_dir = np.array([[\"\" for _ in range(env.num_cols)] for _ in range(env.num_rows)])\n",
    "# print(optimal_actions)\n",
    "# print(optimal_action_dir)\n",
    "for state in range(env.num_states):\n",
    "    row_col = seq_to_col_row(state, env.num_cols)\n",
    "    cell_state = np.array([row_col[0, 0], row_col[0, 1]])\n",
    "    if np.any(np.sum(np.abs(env.obs_states - cell_state), 1) == 0):\n",
    "        optimal_action_dir[row_col[0, 0], row_col[0, 1]] = \"X\"\n",
    "    else:\n",
    "        action = optimal_actions[state]\n",
    "        if action == 0:\n",
    "            optimal_action_dir[row_col[0, 0], row_col[0, 1]] = \"↑\"\n",
    "        elif action == 1:\n",
    "            optimal_action_dir[row_col[0, 0], row_col[0, 1]] = \"↓\"\n",
    "        elif action == 2:\n",
    "            optimal_action_dir[row_col[0, 0], row_col[0, 1]] = \"←\"\n",
    "        elif action == 3:\n",
    "            optimal_action_dir[row_col[0, 0], row_col[0, 1]] = \"→\"\n",
    "\n",
    "# Heatmap of the grid with Q values along with optimal_action_dir\n",
    "plt.figure(figsize=(10, 10))\n",
    "plt.imshow(np.mean(Q, axis=1).reshape(num_rows, num_cols), cmap='magma')\n",
    "for i in range(num_rows):\n",
    "    for j in range(num_cols):\n",
    "        plt.text(j, i, optimal_action_dir[i, j], ha='center', va='center', color='black')\n",
    "plt.title(\"Q Values\")\n",
    "plt.colorbar()\n",
    "plt.show()\n",
    "\n",
    "# Plot only optimal_action_dir on a white background grid\n",
    "plt.figure(figsize=(10, 10))\n",
    "plt.imshow(np.ones((num_rows, num_cols, 3)))\n",
    "for i in range(num_rows):\n",
    "    for j in range(num_cols):\n",
    "        plt.text(j, i, optimal_action_dir[i, j], ha='center', va='center', color='black')\n",
    "plt.title(\"Optimal Actions\")\n",
    "plt.show()\n",
    "\n"
   ]
  },
  {
   "cell_type": "code",
   "execution_count": 31,
   "metadata": {},
   "outputs": [
    {
     "data": {
      "image/png": "[encoded data removed]",
      "text/plain": [
       "<Figure size 576x576 with 1 Axes>"
      ]
     },
     "metadata": {
      "needs_background": "light"
     },
     "output_type": "display_data"
    }
   ],
   "source": [
    "# Plot the optimal path from the start state to the goal state\n",
    "state = env.start_state_seq.item()\n",
    "path = [state]\n",
    "done = False\n",
    "while not done:\n",
    "    action = optimal_actions[state]\n",
    "    next_state, _ = env.step(state, action)\n",
    "    path.append(next_state)\n",
    "    state = next_state\n",
    "    done = (state in env.goal_states_seq)\n",
    "\n",
    "\n",
    "# Plot the path on the grid\n",
    "grid = np.ones((num_rows, num_cols, 3))\n",
    "grid[obstructions[:,0], obstructions[:,1], :] = 0\n",
    "grid[bad_states[:,0], bad_states[:,1], 0] = 1\n",
    "grid[bad_states[:,0], bad_states[:,1], 1] = 0\n",
    "grid[bad_states[:,0], bad_states[:,1], 2] = 0\n",
    "grid[restart_states[:,0], restart_states[:,1], 0] = 0\n",
    "grid[restart_states[:,0], restart_states[:,1], 1] = 0\n",
    "grid[restart_states[:,0], restart_states[:,1], 2] = 1\n",
    "grid[goal_states[:,0], goal_states[:,1], 0] = 0\n",
    "grid[goal_states[:,0], goal_states[:,1], 1] = 1\n",
    "grid[goal_states[:,0], goal_states[:,1], 2] = 0\n",
    "grid[start_state[0,0], start_state[0,1], 0] = 1\n",
    "grid[start_state[0,0], start_state[0,1], 1] = 1\n",
    "grid[start_state[0,0], start_state[0,1], 2] = 0\n",
    "for state in path:\n",
    "    row_col = seq_to_col_row(state, num_cols)\n",
    "    grid[row_col[0, 0], row_col[0, 1], :] = 0.5\n",
    "plt.figure(figsize=(8, 8))\n",
    "plt.imshow(grid)\n",
    "plt.title(\"Optimal Path\")\n",
    "plt.show()\n",
    "\n"
   ]
  },
  {
   "cell_type": "code",
   "execution_count": null,
   "metadata": {},
   "outputs": [],
   "source": []
  },
  {
   "cell_type": "code",
   "execution_count": 21,
   "metadata": {},
   "outputs": [],
   "source": [
    "# Heatmap of the grid with Q values after training is complete, and optimal actions for the best policy\n",
    "# mark arrow directions for optimal actions\n",
    "\n",
    "\n",
    "# optimal_actions = np.argmax(Q, axis=1)\n",
    "# Q_values = np.max(Q, axis=1).reshape(num_rows, num_cols)\n",
    "# plt.figure(figsize=(10, 10))\n",
    "# plt.imshow(Q_values, cmap='magma', interpolation='nearest')\n",
    "# plt.title(\"Q Values\")\n",
    "# plt.colorbar()\n",
    "# plt.show()\n",
    "# plt.figure(figsize=(10, 10))\n",
    "# plt.imshow(optimal_actions.reshape(num_rows, num_cols), cmap='magma', interpolation='nearest')\n",
    "# plt.title(\"Optimal Actions\")\n",
    "# plt.colorbar()\n",
    "# plt.show()"
   ]
  },
  {
   "cell_type": "code",
   "execution_count": 22,
   "metadata": {},
   "outputs": [
    {
     "data": {
      "text/plain": [
       "101.0"
      ]
     },
     "execution_count": 22,
     "metadata": {},
     "output_type": "execute_result"
    }
   ],
   "source": [
    "steps[0][1]"
   ]
  },
  {
   "cell_type": "code",
   "execution_count": null,
   "metadata": {},
   "outputs": [],
   "source": []
  }
 ],
 "metadata": {
  "kernelspec": {
   "display_name": "Python 3",
   "language": "python",
   "name": "python3"
  },
  "language_info": {
   "codemirror_mode": {
    "name": "ipython",
    "version": 3
   },
   "file_extension": ".py",
   "mimetype": "text/x-python",
   "name": "python",
   "nbconvert_exporter": "python",
   "pygments_lexer": "ipython3",
   "version": "3.10.2"
  }
 },
 "nbformat": 4,
 "nbformat_minor": 2
}
