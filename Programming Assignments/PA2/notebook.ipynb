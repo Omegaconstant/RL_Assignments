{
 "cells": [
  {
   "cell_type": "code",
   "execution_count": 82,
   "metadata": {},
   "outputs": [],
   "source": [
    "# 1 Environments\n",
    "# In this programming task, you’ll utilize the following Gymnasium environments for training\n",
    "# and evaluating your policies:\n",
    "# • Acrobot-v1: The system consists of two links connected linearly to form a chain, with\n",
    "# one end of the chain fixed. The joint between the two links is actuated. The goal is to\n",
    "# apply torques on the actuated joint to swing the free end of the linear chain above a\n",
    "# given height while starting from the initial state of hanging downwards.\n",
    "# • CartPole-v1: A pole is attached by an un-actuated joint to a cart, which moves along\n",
    "# a frictionless track. The pendulum is placed upright on the cart and the goal is to\n",
    "# balance the pole by applying forces in the left and right direction on the cart.\n",
    "\n",
    "# 2 Algorithms\n",
    "# You are tasked with training two variants of each Dueling-DQN and Monte-Carlo REINFORCE and assessing their comparative performance.\n",
    "\n",
    "# 2.1 Dueling-DQN\n",
    "# Dueling DQN is an extension of the DQN algorithm, designed to improve learning efficiency\n",
    "# by decomposing the Q-value function into two separate streams: one estimating the state\n",
    "# value and the other estimating the advantage of each action. The update equation for the\n",
    "# dueling network is:\n",
    "# Q(s, a; θ) = V (s; θ) + (A(s, a; θ) − 1/|A| sum_a′∈|A| A(s, a′; θ)) -> (Type-1)\n",
    "# Where Q(s, a; θ) represents the dueling Q-function with parameters θ.\n",
    "# Following is another way to estimate the Q-values:\n",
    "# Q(s, a; θ) = V (s; θ) +  A(s, a; θ) − max_{a′∈|A|} A(s, a′; θ) -> (Type-2)\n",
    "\n",
    "# Implement both update rules (Type-1) & (Type-2) and compare their performance in both the environments.\n",
    "\n",
    "\n",
    "\n",
    "# 2.2 Monte-Carlo REINFORCE\n",
    "# The MC-REINFORCE (Chapter 13) algorithm utilizes Monte Carlo sampling to estimate\n",
    "# gradients for policy optimization. The update equation of its policy parameter θ is given by\n",
    "# θ = θ + αGt ∇π(At |St , θ) / π(At |St , θ) -> (w/o Baseline)\n",
    "# In the presence of baseline, V (·; Φ) , the update equation is given by\n",
    "# θ = θ + α(Gt − V (St ; Φ)) ∇π(At |St , θ) / π(At |St , θ) -> (w/ Baseline)\n",
    "\n",
    "# The baseline V (·; Φ) is updated by TD(0) method.\n",
    "# Implement MC REINFORCE with both update methods ((w/o Baseline) &\n",
    "# (w/ Baseline)) and compare their performance in both the environments.\n",
    "\n",
    "# 3 Instructions\n",
    "# Four results plots (2 environments × 2 algorithms) (Ex. Plot 1 should compare (Type-1)\n",
    "# & (Type-2) Dueling DQN in Acrobot environment)\n",
    "# Use γ = 0.99 for all experiments\n",
    "# • Tune the hyper-parameter to minimize the regret in all experiments\n",
    "# • To account for stochasticity, use the average of 5 random seeds for each experiment/plot\n",
    "# • Plot the episodic return versus episodic number for every experiment\n",
    "# • The plots should consist the mean and variance across the 5 runs/seeds\n",
    "\n"
   ]
  },
  {
   "cell_type": "code",
   "execution_count": 83,
   "metadata": {},
   "outputs": [],
   "source": [
    "# Importing required libraries\n",
    "import os\n",
    "import gym\n",
    "import numpy as np\n",
    "import torch\n",
    "import torch.nn as nn\n",
    "import torch.optim as optim\n",
    "import matplotlib.pyplot as plt\n",
    "from collections import deque\n",
    "import torch.nn.functional as F\n",
    "import torch.optim as optim\n",
    "import torch.nn.utils as nn_utils\n",
    "import math\n",
    "import random\n",
    "import copy\n",
    "import time\n",
    "import warnings\n",
    "from tqdm import tqdm\n",
    "import matplotlib.pyplot as plt\n",
    "\n",
    "warnings.filterwarnings(\"ignore\")\n",
    "%matplotlib inline"
   ]
  },
  {
   "cell_type": "code",
   "execution_count": 84,
   "metadata": {},
   "outputs": [],
   "source": [
    "# Random \n",
    "seed = 87+122\n",
    "def seed_all(seed=87+122):\n",
    "    torch.manual_seed(seed)\n",
    "    np.random.seed(seed)\n",
    "    random.seed(seed)\n",
    "    \n",
    "seed_all()"
   ]
  },
  {
   "cell_type": "markdown",
   "metadata": {},
   "source": [
    "## Parameters"
   ]
  },
  {
   "cell_type": "code",
   "execution_count": 85,
   "metadata": {},
   "outputs": [],
   "source": [
    "# Device\n",
    "device = torch.device(\"cpu\")\n",
    "\n",
    "# Hyperparameters\n",
    "gamma = 0.99\n",
    "lr = 1e-3\n",
    "batch_size = 64\n",
    "buffer_size = int(1e5)\n",
    "update_freq = 4\n",
    "target_update_freq = 1000\n",
    "max_episodes = 100\n",
    "max_steps = 200\n",
    "runs = 5\n",
    "epsilon0 = 0.1\n",
    "min_epsilon = 0.01\n",
    "epsilon_decay = 0.999\n",
    "print_freq = 20\n",
    "replay_buffer = deque(maxlen=buffer_size)\n",
    "seed_all(seed)"
   ]
  },
  {
   "cell_type": "markdown",
   "metadata": {},
   "source": [
    "## Dueling DQN"
   ]
  },
  {
   "cell_type": "code",
   "execution_count": 86,
   "metadata": {},
   "outputs": [],
   "source": [
    "# Experience Replay Buffer\n",
    "class ReplayBuffer:\n",
    "    def __init__(self, buffer_size):\n",
    "        self.buffer = deque(maxlen=buffer_size)\n",
    "        \n",
    "    def add(self, state, action, reward, next_state, done):\n",
    "        self.buffer.append((state, action, reward, next_state, done))\n",
    "        \n",
    "    def sample(self, batch_size):\n",
    "        states, actions, rewards, next_states, dones = zip(*random.sample(self.buffer, batch_size))\n",
    "        return np.array(states), np.array(actions), np.array(rewards), np.array(next_states), np.array(dones)\n",
    "    \n",
    "    def __len__(self):\n",
    "        return len(self.buffer)\n"
   ]
  },
  {
   "cell_type": "code",
   "execution_count": 87,
   "metadata": {},
   "outputs": [],
   "source": [
    "# Dueling DQN\n",
    "class DuelingDQN(nn.Module):\n",
    "    def __init__(self, state_dim, action_dim, update_type=1):\n",
    "        super(DuelingDQN, self).__init__()\n",
    "        self.fc1 = nn.Linear(state_dim, 128)\n",
    "        self.fc2 = nn.Linear(128, 128)\n",
    "        \n",
    "        self.value = nn.Linear(128, 1)\n",
    "        self.advantage = nn.Linear(128, action_dim)\n",
    "        self.update_type = update_type\n",
    "        \n",
    "        \n",
    "    def forward(self, x):\n",
    "        x = F.relu(self.fc1(x))\n",
    "        x = F.relu(self.fc2(x))\n",
    "        \n",
    "        value = self.value(x)\n",
    "        advantage = self.advantage(x)\n",
    "\n",
    "        if self.update_type == 1:\n",
    "            q = value + (advantage - advantage.mean(dim=-1, keepdim=True))\n",
    "        elif self.update_type == 2:\n",
    "            q = value + (advantage - advantage.max(dim=-1, keepdim=True)[0])\n",
    "        else:\n",
    "            raise NotImplementedError(\"Update type not implemented\")\n",
    "            \n",
    "        return q\n"
   ]
  },
  {
   "cell_type": "code",
   "execution_count": 92,
   "metadata": {},
   "outputs": [],
   "source": [
    "# Dueling DQN Agent\n",
    "class DuelingDQNAgent:\n",
    "    def __init__(self, state_dim, action_dim, update_type=1):\n",
    "        self.state_dim = state_dim\n",
    "        self.action_dim = action_dim\n",
    "        self.update_type = update_type\n",
    "        self.q_net = DuelingDQN(state_dim, action_dim, update_type).to(device)\n",
    "        self.target_net = copy.deepcopy(self.q_net)\n",
    "        self.target_net.eval()\n",
    "        self.optimizer = optim.Adam(self.q_net.parameters(), lr=lr)\n",
    "        self.loss_fn = nn.MSELoss()\n",
    "        self.steps = 0\n",
    "        \n",
    "    def act(self, state, epsilon):\n",
    "        if np.random.rand() < epsilon:\n",
    "            return np.random.choice(self.action_dim)\n",
    "        state = torch.FloatTensor(state).unsqueeze(0).to(device)\n",
    "        q_values = self.q_net(state)\n",
    "        return q_values.max(dim=-1)[1].item()\n",
    "    \n",
    "    def update(self, state, action, reward, next_state, done):\n",
    "        replay_buffer.add(state, action, reward, next_state, done)\n",
    "        if len(replay_buffer) < batch_size:\n",
    "            return 0\n",
    "        \n",
    "        states, actions, rewards, next_states, dones = replay_buffer.sample(batch_size)\n",
    "        states = torch.FloatTensor(states).to(device)\n",
    "        actions = torch.LongTensor(actions).to(device)\n",
    "        rewards = torch.FloatTensor(rewards).to(device)\n",
    "        next_states = torch.FloatTensor(next_states).to(device)\n",
    "        dones = torch.FloatTensor(dones).to(device)\n",
    "        \n",
    "        q_values = self.q_net(states)\n",
    "        next_q_values = self.target_net(next_states).detach()\n",
    "        \n",
    "        q_value = q_values.gather(1, actions.unsqueeze(1)).squeeze(1)\n",
    "        next_q_value = next_q_values.max(dim=-1)[0]\n",
    "        target = rewards + gamma * next_q_value * (1 - dones)\n",
    "        \n",
    "        loss = self.loss_fn(q_value, target)\n",
    "        self.optimizer.zero_grad()\n",
    "        loss.backward()\n",
    "        self.optimizer.step()\n",
    "        \n",
    "        self.steps += 1\n",
    "        if self.steps % target_update_freq == 0:\n",
    "            self.target_net.load_state_dict(self.q_net.state_dict())\n",
    "            \n",
    "        return loss.item()\n",
    "    \n",
    "    def save(self, path):\n",
    "        torch.save(self.q_net.state_dict(), path)\n",
    "        \n",
    "    def load(self, path):\n",
    "        self.q_net.load_state_dict(torch.load(path))\n",
    "        self.target_net = copy.deepcopy(self.q_net)\n",
    "        self.target_net.eval()\n",
    "\n"
   ]
  },
  {
   "cell_type": "markdown",
   "metadata": {},
   "source": [
    "## Monte-Carlo REINFORCE"
   ]
  },
  {
   "cell_type": "code",
   "execution_count": null,
   "metadata": {},
   "outputs": [],
   "source": [
    "class PolicyNetwork(nn.Module):\n",
    "    def __init__(self, state_dim, action_dim):\n",
    "        super(PolicyNetwork, self).__init__()\n",
    "        self.fc1 = nn.Linear(state_dim, 128)\n",
    "        self.fc2 = nn.Linear(128, 128)\n",
    "        self.fc3 = nn.Linear(128, action_dim)\n",
    "        \n",
    "    def forward(self, x):\n",
    "        x = F.relu(self.fc1(x))\n",
    "        x = F.relu(self.fc2(x))\n",
    "        x = self.fc3(x)\n",
    "        return F.softmax(x, dim=-1)\n"
   ]
  },
  {
   "cell_type": "code",
   "execution_count": null,
   "metadata": {},
   "outputs": [],
   "source": [
    "class ValueNetwork(nn.Module):\n",
    "    def __init__(self, state_dim):\n",
    "        super(ValueNetwork, self).__init__()\n",
    "        self.fc1 = nn.Linear(state_dim, 128)\n",
    "        self.fc2 = nn.Linear(128, 128)\n",
    "        self.fc3 = nn.Linear(128, 1)\n",
    "        \n",
    "    def forward(self, x):\n",
    "        x = F.relu(self.fc1(x))\n",
    "        x = F.relu(self.fc2(x))\n",
    "        x = self.fc3(x)\n",
    "        return x\n"
   ]
  },
  {
   "cell_type": "code",
   "execution_count": null,
   "metadata": {},
   "outputs": [],
   "source": [
    "class MonteCarloREINFORCEAgent:\n",
    "    def __init__(self, state_dim, action_dim, baseline=False):\n",
    "        self.state_dim = state_dim\n",
    "        self.action_dim = action_dim\n",
    "        self.policy_net = PolicyNetwork(state_dim, action_dim).to(device)\n",
    "        self.value_net = ValueNetwork(state_dim).to(device)\n",
    "        self.optimizer = optim.Adam(list(self.policy_net.parameters()) + list(self.value_net.parameters()), lr=lr)\n",
    "        self.baseline = baseline\n",
    "        self.loss_fn = nn.MSELoss()\n",
    "        self.steps = 0\n",
    "        \n",
    "    def act(self, state):\n",
    "        state = torch.FloatTensor(state).unsqueeze(0).to(device)\n",
    "        probs = self.policy_net(state)\n",
    "        return torch.distributions.Categorical(probs).sample().item()\n",
    "    \n",
    "    def update(self, trajectory):\n",
    "        states, actions, rewards = zip(*trajectory)\n",
    "        states = torch.FloatTensor(states).to(device)\n",
    "        actions = torch.LongTensor(actions).to(device)\n",
    "        rewards = torch.FloatTensor(rewards).to(device)\n",
    "        \n",
    "        returns = []\n",
    "        G = 0\n",
    "        for r in reversed(rewards):\n",
    "            G = r + gamma * G\n",
    "            returns.insert(0, G)\n",
    "        returns = torch.FloatTensor(returns).to(device)\n",
    "        \n",
    "        probs = self.policy_net(states)\n",
    "        log_probs = torch.log(probs.gather(1, actions.unsqueeze(1)).squeeze(1))\n",
    "        \n",
    "        if self.baseline:\n",
    "            values = self.value_net(states).squeeze(1)\n",
    "            advantages = returns - values\n",
    "            loss = -torch.sum(log_probs * advantages)\n",
    "            value_loss = self.loss_fn(values, returns)\n",
    "            loss += value_loss\n",
    "        else:\n",
    "            loss = -torch.sum(log_probs * returns)\n",
    "            \n",
    "        self.optimizer.zero_grad()\n",
    "        loss.backward()\n",
    "        self.optimizer.step()\n",
    "        \n",
    "        self.steps += 1\n",
    "        return loss.item()\n",
    "    \n",
    "    def save(self, path):\n",
    "        torch.save(self.policy_net.state_dict(), path)\n",
    "        \n",
    "    def load(self, path):\n",
    "        self.policy_net.load_state_dict(torch.load(path))\n"
   ]
  },
  {
   "cell_type": "markdown",
   "metadata": {},
   "source": [
    "## Trainer"
   ]
  },
  {
   "cell_type": "code",
   "execution_count": null,
   "metadata": {},
   "outputs": [],
   "source": [
    "# Training for Dueling DQN and REINFORCE\n",
    "class Trainer:\n",
    "    def __init__(self, env_name, agent_type, update_type=None, baseline=False):\n",
    "        self.env_name = env_name\n",
    "        self.agent_type = agent_type\n",
    "        self.update_type = update_type\n",
    "        self.baseline = baseline\n",
    "        self.env = gym.make(env_name)\n",
    "        self.state_dim = self.env.observation_space.shape[0]\n",
    "        self.action_dim = self.env.action_space.n\n",
    "        self.agent = self.get_agent()\n",
    "        \n",
    "    def get_agent(self):\n",
    "        if self.agent_type == \"dueling_dqn\":\n",
    "            return DuelingDQNAgent(self.state_dim, self.action_dim, self.update_type)\n",
    "        elif self.agent_type == \"reinforce\":\n",
    "            return MonteCarloREINFORCEAgent(self.state_dim, self.action_dim, self.baseline)\n",
    "        else:\n",
    "            raise NotImplementedError(\"Agent not implemented\")\n",
    "            \n",
    "    def train(self):\n",
    "        # run for 5 random seeds and average the results\n",
    "        # reinstaniate the agent for each run\n",
    "        rewards = np.zeros((runs, max_episodes))\n",
    "        losses = np.zeros((runs, max_episodes))\n",
    "        for run in range(runs):\n",
    "            seed_all(seed+10*run)\n",
    "            self.agent = self.get_agent()\n",
    "            rewards[run], losses[run] = self.train_single_run()\n",
    "        return rewards.mean(axis=0), rewards.std(axis=0), losses.mean(axis=0), losses.std(axis=0)\n",
    "    \n",
    "    def train_single_run(self):\n",
    "        rewards = []\n",
    "        losses = []\n",
    "        for episode in range(max_episodes):\n",
    "            state = self.env.reset()\n",
    "            episode_reward = 0\n",
    "            trajectory = []\n",
    "            for step in range(max_steps):\n",
    "                epsilon = max(min_epsilon, epsilon0 * epsilon_decay**self.agent.steps)\n",
    "                action = self.agent.act(state, epsilon)\n",
    "                next_state, reward, done, _ = self.env.step(action)\n",
    "                trajectory.append((state, action, reward))\n",
    "                loss = self.agent.update(state, action, reward, next_state, done)\n",
    "                state = next_state\n",
    "                episode_reward += reward\n",
    "                if done:\n",
    "                    break\n",
    "            rewards.append(episode_reward)\n",
    "            if self.agent_type == \"reinforce\":\n",
    "                loss = self.agent.update(trajectory)\n",
    "            losses.append(loss)\n",
    "            if episode % print_freq == 0:\n",
    "                print(\"Episode: {}, Reward: {}\".format(episode, episode_reward))\n",
    "        return rewards, losses\n",
    "    \n",
    "    def save(self, path):\n",
    "        self.agent.save(path)\n",
    "\n",
    "    def load(self, path):\n",
    "        self.agent.load(path)"
   ]
  },
  {
   "cell_type": "code",
   "execution_count": 98,
   "metadata": {},
   "outputs": [],
   "source": [
    "# # Training for Dueling DQN\n",
    "# class Trainer:\n",
    "#     def __init__(self, env, agent, update_type=1):\n",
    "#         self.env = env\n",
    "#         self.agent = agent\n",
    "#         self.update_type = update_type\n",
    "        \n",
    "#     def train(self):\n",
    "#         losses = np.zeros((runs, max_episodes))\n",
    "#         returns = np.zeros((runs, max_episodes))\n",
    "#         for run in tqdm(range(runs)):\n",
    "#             # reinstantiate the agent for each run\n",
    "#             seed_all(seed+10*run)\n",
    "#             self.agent = DuelingDQNAgent(self.agent.state_dim, self.agent.action_dim, self.update_type)\n",
    "\n",
    "#             for episode in range(max_episodes):\n",
    "#                 state, _ = self.env.reset()\n",
    "#                 done = False\n",
    "#                 total_reward = 0\n",
    "#                 total_loss = 0\n",
    "#                 epsilon = epsilon0\n",
    "#                 for step in range(max_steps):\n",
    "#                     action = self.agent.act(state, epsilon)\n",
    "#                     next_state, reward, done, _ , _= self.env.step(action)\n",
    "#                     loss = self.agent.update(state, action, reward, next_state, done)\n",
    "#                     total_loss += loss\n",
    "#                     total_reward += reward\n",
    "#                     state = next_state\n",
    "#                     epsilon = max(min_epsilon, epsilon * epsilon_decay)\n",
    "#                     if done:\n",
    "#                         break\n",
    "#                 losses[run, episode] = total_loss\n",
    "#                 returns[run, episode] = total_reward\n",
    "#                 if episode % print_freq == 0:\n",
    "#                     print(f\"Run: {run+1}, Episode: {episode}, Return: {total_reward}\")\n",
    "#         return losses, returns\n",
    "    \n",
    "#     def save(self, path):\n",
    "#         self.agent.save(path)\n",
    "\n",
    "#     def load(self, path):\n",
    "#         self.agent.load(path)"
   ]
  },
  {
   "cell_type": "code",
   "execution_count": null,
   "metadata": {},
   "outputs": [],
   "source": [
    "def plot_returns(rewards1, rewards_std1, rewards2, rewards_std2, title, save_path=None):\n",
    "    plt.figure(figsize=(10, 6))\n",
    "    plt.plot(rewards1, label=\"Type-1\")\n",
    "    plt.fill_between(np.arange(len(rewards1)), rewards1 - rewards_std1, rewards1 + rewards_std1, alpha=0.3)\n",
    "    plt.plot(rewards2, label=\"Type-2\")\n",
    "    plt.fill_between(np.arange(len(rewards2)), rewards2 - rewards_std2, rewards2 + rewards_std2, alpha=0.3)\n",
    "    plt.xlabel(\"Episodes\")\n",
    "    plt.ylabel(\"Episodic Return\")\n",
    "    plt.title(title)\n",
    "    plt.legend()\n",
    "    if save_path:\n",
    "        os.makedirs(os.path.dirname(save_path), exist_ok=True)\n",
    "        plt.savefig(f\"{save_path}.pdf\", format=\"pdf\", bbox_inches=\"tight\")\n",
    "    plt.show()\n",
    "\n",
    "def plot_losses(losses1, losses_std1, losses2, losses_std2, title, save_path=None):\n",
    "    plt.figure(figsize=(10, 6))\n",
    "    plt.plot(losses1, label=\"Type-1\")\n",
    "    plt.fill_between(np.arange(len(losses1)), losses1 - losses_std1, losses1 + losses_std1, alpha=0.3)\n",
    "    plt.plot(losses2, label=\"Type-2\")\n",
    "    plt.fill_between(np.arange(len(losses2)), losses2 - losses_std2, losses2 + losses_std2, alpha=0.3)\n",
    "    plt.xlabel(\"Episodes\")\n",
    "    plt.ylabel(\"Loss\")\n",
    "    plt.title(title)\n",
    "    plt.legend()\n",
    "    if save_path:\n",
    "        os.makedirs(os.path.dirname(save_path), exist_ok=True)\n",
    "        plt.savefig(f\"{save_path}.pdf\", format=\"pdf\", bbox_inches=\"tight\")\n",
    "    plt.show()"
   ]
  },
  {
   "cell_type": "markdown",
   "metadata": {},
   "source": [
    "## Hyperparameter Tuning"
   ]
  },
  {
   "cell_type": "code",
   "execution_count": null,
   "metadata": {},
   "outputs": [],
   "source": []
  },
  {
   "cell_type": "markdown",
   "metadata": {},
   "source": [
    "## Experiments"
   ]
  },
  {
   "cell_type": "code",
   "execution_count": 99,
   "metadata": {},
   "outputs": [
    {
     "name": "stderr",
     "output_type": "stream",
     "text": [
      "  0%|          | 0/5 [00:00<?, ?it/s]"
     ]
    },
    {
     "name": "stdout",
     "output_type": "stream",
     "text": [
      "Run: 1, Episode: 0, Return: -200.0\n",
      "Run: 1, Episode: 20, Return: -200.0\n",
      "Run: 1, Episode: 40, Return: -200.0\n",
      "Run: 1, Episode: 60, Return: -200.0\n",
      "Run: 1, Episode: 80, Return: -148.0\n"
     ]
    },
    {
     "name": "stderr",
     "output_type": "stream",
     "text": [
      " 20%|██        | 1/5 [02:46<11:07, 166.90s/it]"
     ]
    },
    {
     "name": "stdout",
     "output_type": "stream",
     "text": [
      "Run: 2, Episode: 0, Return: -200.0\n",
      "Run: 2, Episode: 20, Return: -200.0\n",
      "Run: 2, Episode: 40, Return: -200.0\n",
      "Run: 2, Episode: 60, Return: -200.0\n",
      "Run: 2, Episode: 80, Return: -198.0\n"
     ]
    },
    {
     "name": "stderr",
     "output_type": "stream",
     "text": [
      " 40%|████      | 2/5 [06:18<09:39, 193.12s/it]"
     ]
    },
    {
     "name": "stdout",
     "output_type": "stream",
     "text": [
      "Run: 3, Episode: 0, Return: -119.0\n",
      "Run: 3, Episode: 20, Return: -109.0\n",
      "Run: 3, Episode: 40, Return: -200.0\n",
      "Run: 3, Episode: 60, Return: -200.0\n",
      "Run: 3, Episode: 80, Return: -132.0\n"
     ]
    },
    {
     "name": "stderr",
     "output_type": "stream",
     "text": [
      " 60%|██████    | 3/5 [09:17<06:13, 186.86s/it]"
     ]
    },
    {
     "name": "stdout",
     "output_type": "stream",
     "text": [
      "Run: 4, Episode: 0, Return: -200.0\n",
      "Run: 4, Episode: 20, Return: -200.0\n",
      "Run: 4, Episode: 40, Return: -200.0\n",
      "Run: 4, Episode: 60, Return: -146.0\n",
      "Run: 4, Episode: 80, Return: -200.0\n"
     ]
    },
    {
     "name": "stderr",
     "output_type": "stream",
     "text": [
      " 80%|████████  | 4/5 [12:19<03:04, 184.86s/it]"
     ]
    },
    {
     "name": "stdout",
     "output_type": "stream",
     "text": [
      "Run: 5, Episode: 0, Return: -164.0\n",
      "Run: 5, Episode: 20, Return: -200.0\n",
      "Run: 5, Episode: 40, Return: -200.0\n",
      "Run: 5, Episode: 60, Return: -200.0\n",
      "Run: 5, Episode: 80, Return: -139.0\n"
     ]
    },
    {
     "name": "stderr",
     "output_type": "stream",
     "text": [
      "100%|██████████| 5/5 [15:42<00:00, 188.40s/it]\n"
     ]
    },
    {
     "data": {
      "image/png": "[encoded data removed]",
      "text/plain": [
       "<Figure size 720x360 with 1 Axes>"
      ]
     },
     "metadata": {
      "needs_background": "light"
     },
     "output_type": "display_data"
    }
   ],
   "source": [
    "# Dueling DQN\n",
    "# Acrobot-v1 using Type-1 update\n",
    "env_name = \"Acrobot-v1\"\n",
    "agent_type = \"dueling_dqn\"\n",
    "trainer = Trainer(env_name, agent_type, update_type=1)\n",
    "rewards1, rewards_std1, losses1, losses_std1 = trainer.train()\n",
    "\n",
    "# Acrobot-v1 using Type-2 update\n",
    "env_name = \"Acrobot-v1\"\n",
    "agent_type = \"dueling_dqn\"\n",
    "trainer = Trainer(env_name, agent_type, update_type=2)\n",
    "rewards2, rewards_std2, losses2, losses_std2 = trainer.train()\n",
    "\n",
    "# Plots\n",
    "plot_returns(rewards1, rewards_std1, rewards2, rewards_std2, \"Acrobot-v1 Dueling DQN\", \"plots/dueling_dqn_acrobot_returns\")\n",
    "plot_losses(losses1, losses_std1, losses2, losses_std2, \"Acrobot-v1 Dueling DQN\", \"plots/dueling_dqn_acrobot_losses\")\n"
   ]
  },
  {
   "cell_type": "code",
   "execution_count": null,
   "metadata": {},
   "outputs": [],
   "source": [
    "# Dueling DQN\n",
    "# CartPole-v1 using Type-1 update\n",
    "env_name = \"CartPole-v1\"\n",
    "agent_type = \"dueling_dqn\"\n",
    "trainer = Trainer(env_name, agent_type, update_type=1)\n",
    "rewards1, rewards_std1, losses1, losses_std1 = trainer.train()\n",
    "\n",
    "# CartPole-v1 using Type-2 update\n",
    "env_name = \"CartPole-v1\"\n",
    "agent_type = \"dueling_dqn\"\n",
    "trainer = Trainer(env_name, agent_type, update_type=2)\n",
    "rewards2, rewards_std2, losses2, losses_std2 = trainer.train()\n",
    "\n",
    "# Plots\n",
    "plot_returns(rewards1, rewards_std1, rewards2, rewards_std2, \"CartPole-v1 Dueling DQN\", \"plots/dueling_dqn_cartpole_returns\")\n",
    "plot_losses(losses1, losses_std1, losses2, losses_std2, \"CartPole-v1 Dueling DQN\", \"plots/dueling_dqn_cartpole_losses\")\n"
   ]
  },
  {
   "cell_type": "code",
   "execution_count": null,
   "metadata": {},
   "outputs": [],
   "source": [
    "# Monte Carlo REINFORCE\n",
    "# Acrobot-v1 without baseline\n",
    "env_name = \"Acrobot-v1\"\n",
    "agent_type = \"reinforce\"\n",
    "trainer = Trainer(env_name, agent_type, baseline=False)\n",
    "rewards1, rewards_std1, losses1, losses_std1 = trainer.train()\n",
    "\n",
    "# Acrobot-v1 with baseline\n",
    "env_name = \"Acrobot-v1\"\n",
    "agent_type = \"reinforce\"\n",
    "trainer = Trainer(env_name, agent_type, baseline=True)\n",
    "rewards2, rewards_std2, losses2, losses_std2 = trainer.train()\n",
    "\n",
    "# Plots\n",
    "plot_returns(rewards1, rewards_std1, rewards2, rewards_std2, \"Acrobot-v1 REINFORCE\", \"plots/reinforce_acrobot_returns\")\n",
    "plot_losses(losses1, losses_std1, losses2, losses_std2, \"Acrobot-v1 REINFORCE\", \"plots/reinforce_acrobot_losses\")\n"
   ]
  },
  {
   "cell_type": "code",
   "execution_count": null,
   "metadata": {},
   "outputs": [],
   "source": [
    "# Monte Carlo REINFORCE\n",
    "# CartPole-v1 without baseline\n",
    "env_name = \"CartPole-v1\"\n",
    "agent_type = \"reinforce\"\n",
    "trainer = Trainer(env_name, agent_type, baseline=False)\n",
    "rewards1, rewards_std1, losses1, losses_std1 = trainer.train()\n",
    "\n",
    "# CartPole-v1 with baseline\n",
    "env_name = \"CartPole-v1\"\n",
    "agent_type = \"reinforce\"\n",
    "trainer = Trainer(env_name, agent_type, baseline=True)\n",
    "rewards2, rewards_std2, losses2, losses_std2 = trainer.train()\n",
    "\n",
    "# Plots\n",
    "plot_returns(rewards1, rewards_std1, rewards2, rewards_std2, \"CartPole-v1 REINFORCE\", \"plots/reinforce_cartpole_returns\")\n",
    "plot_losses(losses1, losses_std1, losses2, losses_std2, \"CartPole-v1 REINFORCE\", \"plots/reinforce_cartpole_losses\")\n"
   ]
  },
  {
   "cell_type": "code",
   "execution_count": null,
   "metadata": {},
   "outputs": [],
   "source": []
  }
 ],
 "metadata": {
  "kernelspec": {
   "display_name": "Python 3",
   "language": "python",
   "name": "python3"
  },
  "language_info": {
   "codemirror_mode": {
    "name": "ipython",
    "version": 3
   },
   "file_extension": ".py",
   "mimetype": "text/x-python",
   "name": "python",
   "nbconvert_exporter": "python",
   "pygments_lexer": "ipython3",
   "version": "3.10.2"
  }
 },
 "nbformat": 4,
 "nbformat_minor": 2
}
