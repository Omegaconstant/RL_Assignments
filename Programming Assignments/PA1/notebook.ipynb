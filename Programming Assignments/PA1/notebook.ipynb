{
 "cells": [
  {
   "cell_type": "code",
   "execution_count": 1,
   "metadata": {},
   "outputs": [],
   "source": [
    "import numpy as np\n",
    "import matplotlib.pyplot as plt\n",
    "from tqdm import tqdm\n",
    "from IPython.display import clear_output\n",
    "import math\n",
    "import copy\n",
    "%matplotlib inline"
   ]
  },
  {
   "cell_type": "code",
   "execution_count": 2,
   "metadata": {},
   "outputs": [],
   "source": []
  },
  {
   "cell_type": "markdown",
   "metadata": {},
   "source": [
    "## Environment"
   ]
  },
  {
   "cell_type": "code",
   "execution_count": 3,
   "metadata": {},
   "outputs": [],
   "source": [
    "def row_col_to_seq(row_col, num_cols):  #Converts state number to row_column format\n",
    "    return row_col[:,0] * num_cols + row_col[:,1]\n",
    "\n",
    "def seq_to_col_row(seq, num_cols): #Converts row_column format to state number\n",
    "    r = math.floor(seq / num_cols)\n",
    "    c = seq - r * num_cols\n",
    "    return np.array([[r, c]])\n",
    "\n",
    "class GridWorld:\n",
    "    \"\"\"\n",
    "    Creates a gridworld object to pass to an RL algorithm.\n",
    "    Parameters\n",
    "    ----------\n",
    "    num_rows : int\n",
    "        The number of rows in the gridworld.\n",
    "    num_cols : int\n",
    "        The number of cols in the gridworld.\n",
    "    start_state : numpy array of shape (1, 2), np.array([[row, col]])\n",
    "        The start state of the gridworld (can only be one start state)\n",
    "    goal_states : numpy arrany of shape (n, 2)\n",
    "        The goal states for the gridworld where n is the number of goal\n",
    "        states.\n",
    "    \"\"\"\n",
    "    def __init__(self, num_rows, num_cols, start_state, goal_states, wind = False):\n",
    "        self.num_rows = num_rows\n",
    "        self.num_cols = num_cols\n",
    "        self.start_state = start_state\n",
    "        self.goal_states = goal_states\n",
    "        self.obs_states = None\n",
    "        self.bad_states = None\n",
    "        self.num_bad_states = 0\n",
    "        self.p_good_trans = None\n",
    "        self.bias = None\n",
    "        self.r_step = None\n",
    "        self.r_goal = None\n",
    "        self.r_dead = None\n",
    "        self.gamma = 1 # default is no discounting\n",
    "        self.wind = wind\n",
    "\n",
    "    def add_obstructions(self, obstructed_states=None, bad_states=None, restart_states=None):\n",
    "\n",
    "        self.obs_states = obstructed_states\n",
    "        self.bad_states = bad_states\n",
    "        if bad_states is not None:\n",
    "            self.num_bad_states = bad_states.shape[0]\n",
    "        else:\n",
    "            self.num_bad_states = 0\n",
    "        self.restart_states = restart_states\n",
    "        if restart_states is not None:\n",
    "            self.num_restart_states = restart_states.shape[0]\n",
    "        else:\n",
    "            self.num_restart_states = 0\n",
    "\n",
    "    def add_transition_probability(self, p_good_transition, bias):\n",
    "\n",
    "        self.p_good_trans = p_good_transition\n",
    "        self.bias = bias\n",
    "\n",
    "    def add_rewards(self, step_reward, goal_reward, bad_state_reward=None, restart_state_reward = None):\n",
    "\n",
    "        self.r_step = step_reward\n",
    "        self.r_goal = goal_reward\n",
    "        self.r_bad = bad_state_reward\n",
    "        self.r_restart = restart_state_reward\n",
    "\n",
    "\n",
    "    def create_gridworld(self):\n",
    "\n",
    "        self.num_actions = 4\n",
    "        self.num_states = self.num_cols * self.num_rows# +1\n",
    "        self.start_state_seq = row_col_to_seq(self.start_state, self.num_cols)\n",
    "        self.goal_states_seq = row_col_to_seq(self.goal_states, self.num_cols)\n",
    "\n",
    "        # rewards structure\n",
    "        self.R = self.r_step * np.ones((self.num_states, 1))\n",
    "        #self.R[self.num_states-1] = 0\n",
    "        self.R[self.goal_states_seq] = self.r_goal\n",
    "\n",
    "        for i in range(self.num_bad_states):\n",
    "            if self.r_bad is None:\n",
    "                raise Exception(\"Bad state specified but no reward is given\")\n",
    "            bad_state = row_col_to_seq(self.bad_states[i,:].reshape(1,-1), self.num_cols)\n",
    "            #print(\"bad states\", bad_state)\n",
    "            self.R[bad_state, :] = self.r_bad\n",
    "        for i in range(self.num_restart_states):\n",
    "            if self.r_restart is None:\n",
    "                raise Exception(\"Restart state specified but no reward is given\")\n",
    "            restart_state = row_col_to_seq(self.restart_states[i,:].reshape(1,-1), self.num_cols)\n",
    "            #print(\"restart_state\", restart_state)\n",
    "            self.R[restart_state, :] = self.r_restart\n",
    "\n",
    "        # probability model\n",
    "        if self.p_good_trans == None:\n",
    "            raise Exception(\"Must assign probability and bias terms via the add_transition_probability method.\")\n",
    "\n",
    "        self.P = np.zeros((self.num_states,self.num_states,self.num_actions))\n",
    "        for action in range(self.num_actions):\n",
    "            for state in range(self.num_states):\n",
    "\n",
    "\n",
    "                # check if the state is the goal state or an obstructed state - transition to end\n",
    "                row_col = seq_to_col_row(state, self.num_cols)\n",
    "                if self.obs_states is not None:\n",
    "                    end_states = np.vstack((self.obs_states, self.goal_states))\n",
    "                else:\n",
    "                    end_states = self.goal_states\n",
    "\n",
    "                if any(np.sum(np.abs(end_states-row_col), 1) == 0):\n",
    "                    self.P[state, state, action] = 1\n",
    "\n",
    "                # else consider stochastic effects of action\n",
    "                else:\n",
    "                    for dir in range(-1,2,1):\n",
    "\n",
    "                        direction = self._get_direction(action, dir)\n",
    "                        next_state = self._get_state(state, direction)\n",
    "                        if dir == 0:\n",
    "                            prob = self.p_good_trans\n",
    "                        elif dir == -1:\n",
    "                            prob = (1 - self.p_good_trans)*(self.bias)\n",
    "                        elif dir == 1:\n",
    "                            prob = (1 - self.p_good_trans)*(1-self.bias)\n",
    "\n",
    "                        self.P[state, next_state, action] += prob\n",
    "\n",
    "                # make restart states transition back to the start state with\n",
    "                # probability 1\n",
    "                if self.restart_states is not None:\n",
    "                    if any(np.sum(np.abs(self.restart_states-row_col),1)==0):\n",
    "                        next_state = row_col_to_seq(self.start_state, self.num_cols)\n",
    "                        self.P[state,:,:] = 0\n",
    "                        self.P[state,next_state,:] = 1\n",
    "        return self\n",
    "\n",
    "    def _get_direction(self, action, direction):\n",
    "\n",
    "        left = [2,3,1,0]\n",
    "        right = [3,2,0,1]\n",
    "        if direction == 0:\n",
    "            new_direction = action\n",
    "        elif direction == -1:\n",
    "            new_direction = left[action]\n",
    "        elif direction == 1:\n",
    "            new_direction = right[action]\n",
    "        else:\n",
    "            raise Exception(\"getDir received an unspecified case\")\n",
    "        return new_direction\n",
    "\n",
    "    def _get_state(self, state, direction):\n",
    "\n",
    "        row_change = [-1,1,0,0]\n",
    "        col_change = [0,0,-1,1]\n",
    "        row_col = seq_to_col_row(state, self.num_cols)\n",
    "        row_col[0,0] += row_change[direction]\n",
    "        row_col[0,1] += col_change[direction]\n",
    "\n",
    "        # check for invalid states\n",
    "        if self.obs_states is not None:\n",
    "            if (np.any(row_col < 0) or\n",
    "                np.any(row_col[:,0] > self.num_rows-1) or\n",
    "                np.any(row_col[:,1] > self.num_cols-1) or\n",
    "                np.any(np.sum(abs(self.obs_states - row_col), 1)==0)):\n",
    "                next_state = state\n",
    "            else:\n",
    "                next_state = row_col_to_seq(row_col, self.num_cols)[0]\n",
    "        else:\n",
    "            if (np.any(row_col < 0) or\n",
    "                np.any(row_col[:,0] > self.num_rows-1) or\n",
    "                np.any(row_col[:,1] > self.num_cols-1)):\n",
    "                next_state = state\n",
    "            else:\n",
    "                next_state = row_col_to_seq(row_col, self.num_cols)[0]\n",
    "\n",
    "        return next_state\n",
    "\n",
    "    def reset(self):\n",
    "      return int(self.start_state_seq)\n",
    "\n",
    "    def step(self, state, action):\n",
    "        p, r = 0, np.random.random()\n",
    "        for next_state in range(self.num_states):\n",
    "\n",
    "            p += self.P[state, next_state, action]\n",
    "\n",
    "            if r <= p:\n",
    "                break\n",
    "\n",
    "        if(self.wind and np.random.random() < 0.4):\n",
    "\n",
    "          arr = self.P[next_state, :, 3]\n",
    "          next_next = np.where(arr == np.amax(arr))\n",
    "          next_next = next_next[0][0]\n",
    "          return next_next, self.R[next_next]\n",
    "        else:\n",
    "          return next_state, self.R[next_state]\n"
   ]
  },
  {
   "cell_type": "code",
   "execution_count": 4,
   "metadata": {},
   "outputs": [],
   "source": [
    "# specify world parameters\n",
    "num_cols = 10\n",
    "num_rows = 10\n",
    "obstructions = np.array([[0,7],[1,1],[1,2],[1,3],[1,7],[2,1],[2,3],\n",
    "                         [2,7],[3,1],[3,3],[3,5],[4,3],[4,5],[4,7],\n",
    "                         [5,3],[5,7],[5,9],[6,3],[6,9],[7,1],[7,6],\n",
    "                         [7,7],[7,8],[7,9],[8,1],[8,5],[8,6],[9,1]])\n",
    "bad_states = np.array([[1,9],[4,2],[4,4],[7,5],[9,9]])\n",
    "restart_states = np.array([[3,7],[8,2]])\n",
    "start_state = np.array([[3,6]])\n",
    "goal_states = np.array([[0,9],[2,2],[8,7]])\n",
    "\n",
    "# create model\n",
    "gw = GridWorld(num_rows=num_rows,\n",
    "               num_cols=num_cols,\n",
    "               start_state=start_state,\n",
    "               goal_states=goal_states, wind = False)\n",
    "gw.add_obstructions(obstructed_states=obstructions,\n",
    "                    bad_states=bad_states,\n",
    "                    restart_states=restart_states)\n",
    "gw.add_rewards(step_reward=-1,\n",
    "               goal_reward=10,\n",
    "               bad_state_reward=-6,\n",
    "               restart_state_reward=-100)\n",
    "gw.add_transition_probability(p_good_transition=0.7,\n",
    "                              bias=0.5)\n",
    "env = gw.create_gridworld()"
   ]
  },
  {
   "cell_type": "code",
   "execution_count": 5,
   "metadata": {},
   "outputs": [
    {
     "name": "stdout",
     "output_type": "stream",
     "text": [
      "Number of actions 4\n",
      "Number of states 100\n",
      "start state [36]\n",
      "goal state(s) [ 9 22 87]\n"
     ]
    }
   ],
   "source": [
    "print(\"Number of actions\", env.num_actions) #0 -> UP, 1-> DOWN, 2 -> LEFT, 3-> RIGHT\n",
    "print(\"Number of states\", env.num_states)\n",
    "print(\"start state\", env.start_state_seq)\n",
    "print(\"goal state(s)\", env.goal_states_seq)"
   ]
  },
  {
   "cell_type": "code",
   "execution_count": 6,
   "metadata": {},
   "outputs": [
    {
     "data": {
      "image/png": "[encoded data removed]",
      "text/plain": [
       "<Figure size 576x576 with 1 Axes>"
      ]
     },
     "metadata": {
      "needs_background": "light"
     },
     "output_type": "display_data"
    }
   ],
   "source": [
    "# visualize the gridworld\n",
    "\n",
    "def visualize():\n",
    "\n",
    "    grid = np.ones((num_rows, num_cols, 3))\n",
    "    grid[obstructions[:,0], obstructions[:,1], :] = 0\n",
    "    grid[bad_states[:,0], bad_states[:,1], 0] = 1\n",
    "    grid[bad_states[:,0], bad_states[:,1], 1] = 0\n",
    "    grid[bad_states[:,0], bad_states[:,1], 2] = 0\n",
    "    grid[restart_states[:,0], restart_states[:,1], 0] = 0\n",
    "    grid[restart_states[:,0], restart_states[:,1], 1] = 0\n",
    "    grid[restart_states[:,0], restart_states[:,1], 2] = 1\n",
    "    grid[goal_states[:,0], goal_states[:,1], 0] = 0\n",
    "    grid[goal_states[:,0], goal_states[:,1], 1] = 1\n",
    "    grid[goal_states[:,0], goal_states[:,1], 2] = 0\n",
    "    grid[start_state[0,0], start_state[0,1], 0] = 1\n",
    "    grid[start_state[0,0], start_state[0,1], 1] = 1\n",
    "    grid[start_state[0,0], start_state[0,1], 2] = 0\n",
    "    plt.figure(figsize=(8,8))\n",
    "    plt.imshow(grid)\n",
    "    plt.show()\n",
    "\n",
    "\n",
    "visualize()"
   ]
  },
  {
   "cell_type": "code",
   "execution_count": null,
   "metadata": {},
   "outputs": [],
   "source": []
  },
  {
   "cell_type": "markdown",
   "metadata": {},
   "source": [
    "##"
   ]
  },
  {
   "cell_type": "code",
   "execution_count": 7,
   "metadata": {},
   "outputs": [],
   "source": [
    "alpha = 0.1\n",
    "gamma = 0.9\n",
    "epsilon = 0.1\n",
    "tau = 0.1\n",
    "num_episodes = 5000\n",
    "num_runs = 5\n",
    "max_steps = 100"
   ]
  },
  {
   "cell_type": "markdown",
   "metadata": {},
   "source": [
    "## Policy"
   ]
  },
  {
   "cell_type": "code",
   "execution_count": 8,
   "metadata": {},
   "outputs": [],
   "source": [
    "def softmax(Q, tau):\n",
    "    Q = Q - np.max(Q)\n",
    "    p = np.exp(Q/tau) / np.sum(np.exp(Q/tau))\n",
    "    return np.random.choice(len(Q), p=p)\n",
    "\n",
    "def epsilon_greedy(Q, epsilon):\n",
    "    if np.random.random() < epsilon:\n",
    "        return np.random.randint(len(Q))\n",
    "    else:\n",
    "        return np.argmax(Q)"
   ]
  },
  {
   "cell_type": "code",
   "execution_count": 9,
   "metadata": {},
   "outputs": [],
   "source": [
    "class TDQLearner:\n",
    "    def __init__(self, env, alpha, gamma, epsilon, tau, num_episodes, num_runs, policy='softmax'):\n",
    "        self.env = env\n",
    "        self.alpha = alpha\n",
    "        self.gamma = gamma\n",
    "        self.epsilon = epsilon\n",
    "        self.tau = tau\n",
    "        self.num_episodes = num_episodes\n",
    "        self.num_runs = num_runs\n",
    "        self.policy = policy\n",
    "\n",
    "    def _choose_action(self, Q):\n",
    "        if self.policy == 'softmax':\n",
    "            return softmax(Q, self.tau)\n",
    "        elif self.policy == 'epsilon_greedy':\n",
    "            return epsilon_greedy(Q, self.epsilon)\n",
    "        else:\n",
    "            raise Exception(\"Policy not recognized\")\n",
    "    \n",
    "    def train(self):\n",
    "        pass\n",
    "\n",
    "\n",
    "\n",
    "class SARSA(TDQLearner):\n",
    "    def train(self):\n",
    "        rewards = np.zeros((self.num_runs, self.num_episodes))\n",
    "        steps = np.zeros((self.num_runs, self.num_episodes))\n",
    "        avg_Q = np.zeros((self.env.num_states, self.env.num_actions))\n",
    "\n",
    "        for run in range(self.num_runs):\n",
    "            Q = np.zeros((self.env.num_states, self.env.num_actions))\n",
    "            for episode in tqdm(range(self.num_episodes), desc=\"Run: \"+str(run+1), position=1):\n",
    "                state = self.env.reset()\n",
    "                action = self._choose_action(Q[state, :])\n",
    "                done = False\n",
    "                while not done:\n",
    "                    next_state, reward = self.env.step(state, action)\n",
    "                    next_action = self._choose_action(Q[next_state, :])\n",
    "\n",
    "                    Q[state, action] += self.alpha * (reward + self.gamma * Q[next_state, next_action] - Q[state, action])\n",
    "\n",
    "                    state = next_state\n",
    "                    action = next_action\n",
    "                    rewards[run, episode] += reward\n",
    "                    steps[run, episode] += 1\n",
    "                    if state in self.env.goal_states_seq:\n",
    "                        done = True\n",
    "                    if steps[run, episode] > max_steps:\n",
    "                        done = True\n",
    "            avg_Q += Q\n",
    "\n",
    "        avg_Q /= self.num_runs\n",
    "        return avg_Q, rewards, steps\n",
    "    \n",
    "\n",
    "    \n",
    "class QLearning(TDQLearner):\n",
    "    def train(self):\n",
    "        rewards = np.zeros((self.num_runs, self.num_episodes))\n",
    "        steps = np.zeros((self.num_runs, self.num_episodes))\n",
    "        avg_Q = np.zeros((self.env.num_states, self.env.num_actions))\n",
    "\n",
    "        for run in range(self.num_runs):\n",
    "            Q = np.zeros((self.env.num_states, self.env.num_actions))\n",
    "            for episode in tqdm(range(self.num_episodes), desc=\"Run: \"+str(run+1), position=1):\n",
    "                state = self.env.reset()\n",
    "                done = False\n",
    "                while not done:\n",
    "                    action = self._choose_action(Q[state, :])\n",
    "                    next_state, reward = self.env.step(state, action)\n",
    "\n",
    "                    Q[state, action] += self.alpha * (reward + self.gamma * np.max(Q[next_state, :]) - Q[state, action])\n",
    "\n",
    "                    state = next_state\n",
    "                    rewards[run, episode] += reward\n",
    "                    steps[run, episode] += 1\n",
    "                    if state in self.env.goal_states_seq:\n",
    "                        done = True\n",
    "                    if steps[run, episode] > max_steps:\n",
    "                        done = True\n",
    "            avg_Q += Q\n",
    "\n",
    "        avg_Q /= self.num_runs\n",
    "        return avg_Q, rewards, steps\n"
   ]
  },
  {
   "cell_type": "code",
   "execution_count": 33,
   "metadata": {},
   "outputs": [],
   "source": [
    "class Plot():\n",
    "    def __init__(self, env, rewards, steps, Q):\n",
    "        self.env = env\n",
    "        self.rewards = rewards\n",
    "        self.steps = steps\n",
    "        self.Q = Q\n",
    "\n",
    "    def reward(self):\n",
    "        mean_rewards = np.mean(self.rewards, axis=0)\n",
    "        std_rewards = np.std(self.rewards, axis=0)\n",
    "        plt.figure(figsize=(10, 6))\n",
    "        plt.plot(mean_rewards, label=\"Mean Reward\")\n",
    "        plt.fill_between(range(len(mean_rewards)), mean_rewards-std_rewards, mean_rewards+std_rewards, alpha=0.3)\n",
    "        plt.xlabel(\"Episodes\")\n",
    "        plt.ylabel(\"Reward\")\n",
    "        plt.title(\"Reward Curve\")\n",
    "        plt.legend()\n",
    "        plt.show()\n",
    "\n",
    "    def steps_to_goal(self):\n",
    "        mean_steps = np.mean(self.steps, axis=0)\n",
    "        std_steps = np.std(self.steps, axis=0)\n",
    "        plt.figure(figsize=(10, 6))\n",
    "        plt.plot(mean_steps, label=\"Mean Steps\")\n",
    "        plt.fill_between(range(len(mean_steps)), mean_steps-std_steps, mean_steps+std_steps, alpha=0.3)\n",
    "        plt.xlabel(\"Episodes\")\n",
    "        plt.ylabel(\"Steps\")\n",
    "        plt.title(\"Steps to reach the goal\")\n",
    "        plt.legend()\n",
    "        plt.show()\n",
    "\n",
    "    def state_visits(self):\n",
    "        # Heatmap of the grid with state visit counts, i.e., the number of times each state was visited throughout the training phase.\n",
    "        pass\n",
    "\n",
    "\n",
    "\n",
    "    def Q_values(self):\n",
    "        optimal_actions = np.argmax(self.Q, axis=1)\n",
    "        optimal_action_dir = np.zeros_like(optimal_actions)\n",
    "        \n",
    "        plt.figure(figsize=(10,10))\n",
    "        # Need to decide whether mean or max\n",
    "        plt.imshow(np.max(self.Q, axis=1).reshape(self.env.num_rows, self.env.num_cols), cmap='jet')\n",
    "        for state in range(self.env.num_states):\n",
    "            row_col = seq_to_col_row(state, self.env.num_cols)\n",
    "            cell_state = np.array([row_col[0,0], row_col[0,1]])\n",
    "            if np.any(np.sum(np.abs(env.obs_states - cell_state), 1) == 0):\n",
    "                plt.text(row_col[0,1], row_col[0,0], 'X', ha='center', va='center', color='black', fontsize=12, fontweight='bold')\n",
    "            else:\n",
    "                action = optimal_actions[state]\n",
    "                if action == 0:\n",
    "                    plt.arrow(row_col[0,1], row_col[0,0]+0.25, 0, -0.5, head_width=0.1, head_length=0.1, fc='k', ec='k', length_includes_head=True)\n",
    "                elif action == 1:\n",
    "                    plt.arrow(row_col[0,1], row_col[0,0]-0.25, 0, 0.5, head_width=0.1, head_length=0.1, fc='k', ec='k', length_includes_head=True)\n",
    "                elif action == 2:\n",
    "                    plt.arrow(row_col[0,1]+0.25, row_col[0,0], -0.5, 0, head_width=0.1, head_length=0.1, fc='k', ec='k', length_includes_head=True)\n",
    "                elif action == 3:\n",
    "                    plt.arrow(row_col[0,1]-0.25, row_col[0,0], 0.5, 0, head_width=0.1, head_length=0.1, fc='k', ec='k', length_includes_head=True)\n",
    "        plt.title(\"Q Values and Optimal Actions\")\n",
    "        plt.colorbar()\n",
    "        plt.show()\n",
    "\n",
    "    def visualize_grid_world(self):\n",
    "        grid = np.ones((self.env.num_rows, self.env.num_cols, 3))\n",
    "        grid[self.env.obs_states[:,0], self.env.obs_states[:,1], :] = 0\n",
    "        grid[self.env.bad_states[:,0], self.env.bad_states[:,1], 0] = 1\n",
    "        grid[self.env.bad_states[:,0], self.env.bad_states[:,1], 1] = 0\n",
    "        grid[self.env.bad_states[:,0], self.env.bad_states[:,1], 2] = 0\n",
    "        grid[self.env.restart_states[:,0], self.env.restart_states[:,1], 0] = 0\n",
    "        grid[self.env.restart_states[:,0], self.env.restart_states[:,1], 1] = 0\n",
    "        grid[self.env.restart_states[:,0], self.env.restart_states[:,1], 2] = 1\n",
    "        grid[self.env.goal_states[:,0], self.env.goal_states[:,1], 0] = 0\n",
    "        grid[self.env.goal_states[:,0], self.env.goal_states[:,1], 1] = 1\n",
    "        grid[self.env.goal_states[:,0], self.env.goal_states[:,1], 2] = 0\n",
    "        grid[self.env.start_state[0,0], self.env.start_state[0,1], 0] = 1\n",
    "        grid[self.env.start_state[0,0], self.env.start_state[0,1], 1] = 1\n",
    "        grid[self.env.start_state[0,0], self.env.start_state[0,1], 2] = 0\n",
    "        plt.figure(figsize=(8,8))\n",
    "        plt.imshow(grid)\n",
    "\n",
    "        for state in range(self.env.num_states):\n",
    "            row_col = seq_to_col_row(state, self.env.num_cols)\n",
    "            cell_state = np.array([row_col[0,0], row_col[0,1]])\n",
    "            if np.any(np.sum(np.abs(env.obs_states - cell_state), 1) == 0):\n",
    "                plt.text(row_col[0,1], row_col[0,0], 'X', ha='center', va='center', color='black', fontsize=12, fontweight='bold')\n",
    "            if np.any(np.sum(np.abs(env.bad_states - cell_state), 1) == 0):\n",
    "                plt.text(row_col[0,1], row_col[0,0], 'B', ha='center', va='center', color='black', fontsize=12, fontweight='bold')\n",
    "            if np.any(np.sum(np.abs(env.restart_states - cell_state), 1) == 0):\n",
    "                plt.text(row_col[0,1], row_col[0,0], 'R', ha='center', va='center', color='black', fontsize=12, fontweight='bold')\n",
    "            if np.any(np.sum(np.abs(env.goal_states - cell_state), 1) == 0):\n",
    "                plt.text(row_col[0,1], row_col[0,0], 'G', ha='center', va='center', color='black', fontsize=12, fontweight='bold')\n",
    "            if np.any(np.sum(np.abs(env.start_state - cell_state), 1) == 0):\n",
    "                plt.text(row_col[0,1], row_col[0,0], 'S', ha='center', va='center', color='black', fontsize=12, fontweight='bold')\n",
    "\n",
    "\n",
    "    def optimal_path(self):\n",
    "        optimal_actions = np.argmax(self.Q, axis=1)\n",
    "        state = self.env.start_state_seq\n",
    "        path = [state]\n",
    "        done = False\n",
    "        while not done:\n",
    "            action = optimal_actions[state]\n",
    "            next_state, _ = self.env.step(state, action)\n",
    "            path.append(next_state)\n",
    "            state = next_state\n",
    "            if state in self.env.goal_states_seq:\n",
    "                done = True\n",
    "\n",
    "        self.visualize_grid_world()\n",
    "\n",
    "        path_x = [seq_to_col_row(state, num_cols)[0, 1] for state in path]\n",
    "        path_y = [seq_to_col_row(state, num_cols)[0, 0] for state in path]\n",
    "        plt.plot(path_x, path_y, color='green', marker='', linestyle='--', linewidth=2)\n"
   ]
  },
  {
   "cell_type": "code",
   "execution_count": null,
   "metadata": {},
   "outputs": [],
   "source": []
  },
  {
   "cell_type": "markdown",
   "metadata": {},
   "source": [
    "## Experiments"
   ]
  },
  {
   "cell_type": "markdown",
   "metadata": {},
   "source": [
    "### Grid World 1"
   ]
  },
  {
   "cell_type": "code",
   "execution_count": 22,
   "metadata": {},
   "outputs": [
    {
     "name": "stderr",
     "output_type": "stream",
     "text": []
    },
    {
     "name": "stderr",
     "output_type": "stream",
     "text": [
      "Run: 1: 100%|██████████| 5000/5000 [00:10<00:00, 460.68it/s]\n",
      "Run: 2: 100%|██████████| 5000/5000 [00:10<00:00, 475.66it/s]\n",
      "Run: 3: 100%|██████████| 5000/5000 [00:10<00:00, 486.96it/s]\n",
      "Run: 4: 100%|██████████| 5000/5000 [00:15<00:00, 328.62it/s]\n",
      "Run: 5: 100%|██████████| 5000/5000 [00:10<00:00, 479.01it/s]\n"
     ]
    },
    {
     "data": {
      "image/png": "[encoded data removed]",
      "text/plain": [
       "<Figure size 576x576 with 1 Axes>"
      ]
     },
     "metadata": {
      "needs_background": "light"
     },
     "output_type": "display_data"
    },
    {
     "data": {
      "image/png": "[encoded data removed]",
      "text/plain": [
       "<Figure size 720x432 with 1 Axes>"
      ]
     },
     "metadata": {
      "needs_background": "light"
     },
     "output_type": "display_data"
    },
    {
     "data": {
      "image/png": "[encoded data removed]",
      "text/plain": [
       "<Figure size 720x432 with 1 Axes>"
      ]
     },
     "metadata": {
      "needs_background": "light"
     },
     "output_type": "display_data"
    },
    {
     "data": {
      "image/png": "[encoded data removed]",
      "text/plain": [
       "<Figure size 720x720 with 2 Axes>"
      ]
     },
     "metadata": {
      "needs_background": "light"
     },
     "output_type": "display_data"
    }
   ],
   "source": [
    "# Experiment 1.1.1: wind=False(clear), p = 1.0(deterministic step), start state (0, 4), SARSA\n",
    "env = gw.create_gridworld()\n",
    "env.add_transition_probability(p_good_transition=1.0, bias=0.5)\n",
    "env.start_state = np.array([[0,4]])\n",
    "\n",
    "sarsa = SARSA(env, alpha=0.1, gamma=0.9, epsilon=0.1, tau=0.1, num_episodes=5000, num_runs=5, policy='softmax')\n",
    "Q, rewards, steps = sarsa.train()\n",
    "\n",
    "plot = Plot(env, rewards, steps, Q)\n",
    "plot.visualize_grid_world()\n",
    "plot.reward()\n",
    "plot.steps_to_goal()\n",
    "plot.Q_values()\n",
    "plot.optimal_path()"
   ]
  },
  {
   "cell_type": "code",
   "execution_count": null,
   "metadata": {},
   "outputs": [],
   "source": [
    "# Experiment 1.1.2: wind=False(clear), p = 1.0(deterministic step), start state (0, 4), Q-Learning\n",
    "env = gw.create_gridworld()\n",
    "env.add_transition_probability(p_good_transition=1.0, bias=0.5)\n",
    "env.start_state = np.array([[0,4]])\n",
    "\n",
    "q_learning = QLearning(env, alpha=0.1, gamma=0.9, epsilon=0.1, tau=0.1, num_episodes=5000, num_runs=5, policy='softmax')\n",
    "Q, rewards, steps = q_learning.train()\n",
    "plot = Plot(env, rewards, steps, Q)\n",
    "plot.reward()\n",
    "plot.steps_to_goal()\n",
    "plot.Q_values()\n"
   ]
  },
  {
   "cell_type": "code",
   "execution_count": null,
   "metadata": {},
   "outputs": [],
   "source": [
    "# Experiment 1.2.1: wind=False(clear), p = 1.0(deterministic step), start state (3, 6), SARSA\n",
    "env = gw.create_gridworld()\n",
    "env.add_transition_probability(p_good_transition=1.0, bias=0.5)\n",
    "env.start_state = np.array([[3,6]])\n",
    "\n",
    "sarsa = SARSA(env, alpha=0.1, gamma=0.9, epsilon=0.1, tau=0.1, num_episodes=5000, num_runs=5, policy='softmax')\n",
    "Q, rewards, steps = sarsa.train()\n",
    "plot = Plot(env, rewards, steps, Q)\n",
    "plot.reward()\n",
    "plot.steps_to_goal()\n",
    "plot.Q_values()"
   ]
  },
  {
   "cell_type": "code",
   "execution_count": null,
   "metadata": {},
   "outputs": [],
   "source": [
    "# Experiment 1.2.2: wind=False(clear), p = 1.0(deterministic step), start state (3, 6), Q-Learning\n",
    "env = gw.create_gridworld()\n",
    "env.add_transition_probability(p_good_transition=1.0, bias=0.5)\n",
    "env.start_state = np.array([[3,6]])\n",
    "\n",
    "q_learning = QLearning(env, alpha=0.1, gamma=0.9, epsilon=0.1, tau=0.1, num_episodes=5000, num_runs=5, policy='softmax')\n",
    "Q, rewards, steps = q_learning.train()\n",
    "plot = Plot(env, rewards, steps, Q)\n",
    "plot.reward()\n",
    "plot.steps_to_goal()\n",
    "plot.Q_values()\n",
    "\n"
   ]
  },
  {
   "cell_type": "markdown",
   "metadata": {},
   "source": [
    "### Grid World 2"
   ]
  },
  {
   "cell_type": "code",
   "execution_count": null,
   "metadata": {},
   "outputs": [],
   "source": [
    "# Experiment 2.1.1: wind=False(clear), p = 0.7(stochastic step), start state (0, 4), SARSA\n",
    "env = gw.create_gridworld()\n",
    "env.add_transition_probability(p_good_transition=0.7, bias=0.5)\n",
    "env.start_state = np.array([[0,4]])\n",
    "\n",
    "sarsa = SARSA(env, alpha=0.1, gamma=0.9, epsilon=0.1, tau=0.1, num_episodes=5000, num_runs=5, policy='softmax')\n",
    "Q, rewards, steps = sarsa.train()\n",
    "plot = Plot(env, rewards, steps, Q)\n",
    "plot.reward()\n",
    "plot.steps_to_goal()\n",
    "plot.Q_values()"
   ]
  },
  {
   "cell_type": "code",
   "execution_count": null,
   "metadata": {},
   "outputs": [],
   "source": [
    "# Experiment 2.1.2: wind=False(clear), p = 0.7(stochastic step), start state (0, 4), Q-Learning\n",
    "env = gw.create_gridworld()\n",
    "env.add_transition_probability(p_good_transition=0.7, bias=0.5)\n",
    "env.start_state = np.array([[0,4]])\n",
    "\n",
    "q_learning = QLearning(env, alpha=0.1, gamma=0.9, epsilon=0.1, tau=0.1, num_episodes=5000, num_runs=5, policy='softmax')\n",
    "Q, rewards, steps = q_learning.train()\n",
    "plot = Plot(env, rewards, steps, Q)\n",
    "plot.reward()\n",
    "plot.steps_to_goal()\n",
    "plot.Q_values()\n"
   ]
  },
  {
   "cell_type": "code",
   "execution_count": null,
   "metadata": {},
   "outputs": [],
   "source": [
    "# Experiment 2.2.1: wind=False(clear), p = 0.7(stochastic step), start state (3, 6), SARSA\n",
    "env = gw.create_gridworld()\n",
    "env.add_transition_probability(p_good_transition=0.7, bias=0.5)\n",
    "env.start_state = np.array([[3,6]])\n",
    "\n",
    "sarsa = SARSA(env, alpha=0.1, gamma=0.9, epsilon=0.1, tau=0.1, num_episodes=5000, num_runs=5, policy='softmax')\n",
    "Q, rewards, steps = sarsa.train()\n",
    "plot = Plot(env, rewards, steps, Q)\n",
    "plot.reward()\n",
    "plot.steps_to_goal()\n",
    "plot.Q_values()\n"
   ]
  },
  {
   "cell_type": "code",
   "execution_count": null,
   "metadata": {},
   "outputs": [],
   "source": [
    "# Experiment 2.2.2: wind=False(clear), p = 0.7(stochastic step), start state (3, 6), Q-Learning\n",
    "env = gw.create_gridworld()\n",
    "env.add_transition_probability(p_good_transition=0.7, bias=0.5)\n",
    "env.start_state = np.array([[3,6]])\n",
    "\n",
    "q_learning = QLearning(env, alpha=0.1, gamma=0.9, epsilon=0.1, tau=0.1, num_episodes=5000, num_runs=5, policy='softmax')\n",
    "Q, rewards, steps = q_learning.train()\n",
    "plot = Plot(env, rewards, steps, Q)\n",
    "plot.reward()\n",
    "plot.steps_to_goal()\n",
    "plot.Q_values()\n"
   ]
  },
  {
   "cell_type": "markdown",
   "metadata": {},
   "source": [
    "### Grid World 3"
   ]
  },
  {
   "cell_type": "code",
   "execution_count": null,
   "metadata": {},
   "outputs": [],
   "source": [
    "# Experiment 3.1.1: wind=True(windy), p = 1.0(deterministic step), start state (0, 4), SARSA\n",
    "env = gw.create_gridworld()\n",
    "env.add_transition_probability(p_good_transition=1.0, bias=0.5)\n",
    "env.start_state = np.array([[0,4]])\n",
    "env.wind = True\n",
    "\n",
    "sarsa = SARSA(env, alpha=0.1, gamma=0.9, epsilon=0.1, tau=0.1, num_episodes=5000, num_runs=5, policy='softmax')\n",
    "Q, rewards, steps = sarsa.train()\n",
    "plot = Plot(env, rewards, steps, Q)\n",
    "plot.reward()\n",
    "plot.steps_to_goal()\n",
    "plot.Q_values()\n",
    "\n"
   ]
  },
  {
   "cell_type": "code",
   "execution_count": null,
   "metadata": {},
   "outputs": [],
   "source": [
    "# Experiment 3.1.2: wind=True(windy), p = 1.0(deterministic step), start state (0, 4), Q-Learning\n",
    "env = gw.create_gridworld()\n",
    "env.add_transition_probability(p_good_transition=1.0, bias=0.5)\n",
    "env.start_state = np.array([[0,4]])\n",
    "env.wind = True\n",
    "\n",
    "q_learning = QLearning(env, alpha=0.1, gamma=0.9, epsilon=0.1, tau=0.1, num_episodes=5000, num_runs=5, policy='softmax')\n",
    "Q, rewards, steps = q_learning.train()\n",
    "plot = Plot(env, rewards, steps, Q)\n",
    "plot.reward()\n",
    "plot.steps_to_goal()\n",
    "plot.Q_values()\n"
   ]
  },
  {
   "cell_type": "code",
   "execution_count": null,
   "metadata": {},
   "outputs": [],
   "source": [
    "# Experiment 3.2.1: wind=True(windy), p = 1.0(deterministic step), start state (3, 6), SARSA\n",
    "env = gw.create_gridworld()\n",
    "env.add_transition_probability(p_good_transition=1.0, bias=0.5)\n",
    "env.start_state = np.array([[3,6]])\n",
    "env.wind = True\n",
    "\n",
    "sarsa = SARSA(env, alpha=0.1, gamma=0.9, epsilon=0.1, tau=0.1, num_episodes=5000, num_runs=5, policy='softmax')\n",
    "Q, rewards, steps = sarsa.train()\n",
    "plot = Plot(env, rewards, steps, Q)\n",
    "plot.reward()\n",
    "plot.steps_to_goal()\n",
    "plot.Q_values()\n"
   ]
  },
  {
   "cell_type": "code",
   "execution_count": null,
   "metadata": {},
   "outputs": [],
   "source": [
    "# Experiment 3.2.2: wind=True(windy), p = 1.0(deterministic step), start state (3, 6), Q-Learning\n",
    "env = gw.create_gridworld()\n",
    "env.add_transition_probability(p_good_transition=1.0, bias=0.5)\n",
    "env.start_state = np.array([[3,6]])\n",
    "env.wind = True\n",
    "\n",
    "q_learning = QLearning(env, alpha=0.1, gamma=0.9, epsilon=0.1, tau=0.1, num_episodes=5000, num_runs=5, policy='softmax')\n",
    "Q, rewards, steps = q_learning.train()\n",
    "plot = Plot(env, rewards, steps, Q)\n",
    "plot.reward()\n",
    "plot.steps_to_goal()\n",
    "plot.Q_values()\n"
   ]
  },
  {
   "cell_type": "markdown",
   "metadata": {},
   "source": [
    "## Crib"
   ]
  },
  {
   "cell_type": "code",
   "execution_count": null,
   "metadata": {},
   "outputs": [
    {
     "ename": "NameError",
     "evalue": "name 'stop' is not defined",
     "output_type": "error",
     "traceback": [
      "\u001b[1;31m---------------------------------------------------------------------------\u001b[0m",
      "\u001b[1;31mNameError\u001b[0m                                 Traceback (most recent call last)",
      "Input \u001b[1;32mIn [130]\u001b[0m, in \u001b[0;36m<module>\u001b[1;34m\u001b[0m\n\u001b[1;32m----> 1\u001b[0m \u001b[43mstop\u001b[49m\n",
      "\u001b[1;31mNameError\u001b[0m: name 'stop' is not defined"
     ]
    }
   ],
   "source": [
    "stop"
   ]
  },
  {
   "cell_type": "code",
   "execution_count": null,
   "metadata": {},
   "outputs": [
    {
     "data": {
      "text/plain": [
       "False"
      ]
     },
     "execution_count": 37,
     "metadata": {},
     "output_type": "execute_result"
    }
   ],
   "source": [
    "env.goal_states_seq\n",
    "env.reset() in env.goal_states_seq"
   ]
  },
  {
   "cell_type": "markdown",
   "metadata": {},
   "source": [
    "#### Sarsa\n",
    "$$\n",
    "Q(s_t,a_t) \\leftarrow  Q(s_t, a_t) + \\alpha[r_t + \\gamma Q(s_{t+1}, a_{t+1}) - Q(s_t, a_t)]\n",
    "$$"
   ]
  },
  {
   "cell_type": "code",
   "execution_count": null,
   "metadata": {},
   "outputs": [],
   "source": [
    "# Hyperparameters\n",
    "# Q = np.zeros((env.num_states, env.num_actions))\n",
    "alpha = 0.1\n",
    "gamma = 0.9\n",
    "epsilon = 0.1\n",
    "tau = 0.1\n",
    "max_steps = 100\n",
    "\n",
    "# SARSA\n",
    "def sarsa_(env, num_episodes, alpha, gamma, epsilon=epsilon, tau=tau, choose_action=epsilon_greedy, Q_=None):\n",
    "  print(alpha, gamma, epsilon, tau, num_episodes)\n",
    "  rewards = []\n",
    "  steps = []\n",
    "  for episode in range(num_episodes):\n",
    "    state = env.reset()\n",
    "    action = choose_action(Q_[state, :], epsilon)\n",
    "    done = False\n",
    "    total_reward = 0\n",
    "    total_steps = 0\n",
    "    while not done:\n",
    "      next_state, reward = env.step(state, action)\n",
    "      total_reward += reward\n",
    "      total_steps += 1\n",
    "\n",
    "      next_action = choose_action(Q_[next_state, :], epsilon)\n",
    "\n",
    "      # SARSA update\n",
    "      Q_[state, action] += alpha * (reward + gamma * Q_[next_state, next_action] - Q_[state, action])\n",
    "      \n",
    "      state = next_state\n",
    "      action = next_action\n",
    "      done = (state in env.goal_states_seq) or (total_steps > max_steps)\n",
    "    rewards.append(total_reward)\n",
    "    steps.append(total_steps)\n",
    "  return rewards, steps\n"
   ]
  },
  {
   "cell_type": "markdown",
   "metadata": {},
   "source": [
    "#### Q-Learning"
   ]
  },
  {
   "cell_type": "code",
   "execution_count": null,
   "metadata": {},
   "outputs": [],
   "source": [
    "def Q_Learning(env, num_episodes, alpha, gamma, epsilon=epsilon, tau=tau, choose_action=softmax, Q_=None):\n",
    "  rewards = []\n",
    "  steps = []\n",
    "  for episode in range(num_episodes):\n",
    "    state = env.reset()\n",
    "    done = False\n",
    "    total_reward = 0\n",
    "    total_steps = 0\n",
    "    while not done:\n",
    "      # Epsilon-greedy action selection\n",
    "      action = choose_action(Q_[state], tau)\n",
    "      next_state, reward = env.step(state, action)\n",
    "      total_reward += reward\n",
    "      total_steps += 1\n",
    "      # Q-Learning update\n",
    "      Q_[state, action] += alpha * (reward + gamma * np.max(Q_[next_state]) - Q_[state, action])\n",
    "      state = next_state\n",
    "      done = (state in env.goal_states_seq) or (total_steps > max_steps)\n",
    "    rewards.append(total_reward)\n",
    "    steps.append(total_steps)\n",
    "  return rewards, steps\n"
   ]
  },
  {
   "cell_type": "markdown",
   "metadata": {},
   "source": [
    "#### Experiments"
   ]
  },
  {
   "cell_type": "code",
   "execution_count": null,
   "metadata": {},
   "outputs": [
    {
     "name": "stdout",
     "output_type": "stream",
     "text": [
      "Run 5/5 complete\n"
     ]
    },
    {
     "data": {
      "image/png": "[encoded data removed]",
      "text/plain": [
       "<Figure size 720x360 with 2 Axes>"
      ]
     },
     "metadata": {
      "needs_background": "light"
     },
     "output_type": "display_data"
    }
   ],
   "source": [
    "# Run experiments for the start states (0, 4) and (3, 6). Consider the following three variants of stochasticity for each start state.\n",
    "# 1. wind=False(clear), p = 1.0(deterministic step).\n",
    "# we need :\n",
    "#  Reward curves and the number of steps to reach the goal in each episode.\n",
    "# 2. Heatmap of the grid with state visit counts, i.e., the number of times each state was\n",
    "# visited throughout the training phase.\n",
    "# 3. Heatmap of the grid with Q values after training is complete, and optimal actions for\n",
    "# the best policy.\n",
    "\n",
    "\n",
    "# Experiment 1\n",
    "\n",
    "gw = GridWorld(num_rows=num_rows, num_cols=num_cols, start_state=start_state, goal_states=goal_states, wind = False)\n",
    "gw.add_obstructions(obstructed_states=obstructions, bad_states=bad_states, restart_states=restart_states)\n",
    "gw.add_rewards(step_reward=-1, goal_reward=10, bad_state_reward=-6, restart_state_reward=-100)\n",
    "gw.add_transition_probability(p_good_transition=1.0, bias=0.5)\n",
    "env = gw.create_gridworld()\n",
    "\n",
    "# Initialization\n",
    "num_runs = 5\n",
    "num_episodes = 5000\n",
    "alpha = 0.1\n",
    "gamma = 0.9\n",
    "epsilon = 0.1\n",
    "tau = 0.1\n",
    "# Q = np.zeros((env.num_states, env.num_actions))\n",
    "\n",
    "\n",
    "rewards__ = np.zeros((num_runs, num_episodes))\n",
    "steps__ = np.zeros((num_runs, num_episodes))\n",
    "\n",
    "for run in range(num_runs):\n",
    "  Q__ = np.zeros((env.num_states, env.num_actions))\n",
    "  rewards__[run, :], steps__[run, :] = sarsa_(env, num_episodes=num_episodes, alpha=alpha, gamma=gamma, epsilon=epsilon, tau=tau, choose_action=softmax, Q_=Q__)\n",
    "  clear_output(wait=True)\n",
    "  print(f\"Run {run+1}/{num_runs} complete\")\n",
    "\n",
    "# Plot results\n",
    "mean_rewards__ = np.mean(rewards__, axis=0)\n",
    "std_rewards__ = np.std(rewards__, axis=0)\n",
    "mean_steps__ = np.mean(steps__, axis=0)\n",
    "std_steps__ = np.std(steps__, axis=0)\n",
    "\n",
    "plt.figure(figsize=(10, 5))\n",
    "plt.subplot(1, 2, 1)\n",
    "plt.plot(mean_rewards__)\n",
    "plt.fill_between(range(num_episodes), mean_rewards__ - std_rewards__, mean_rewards__ + std_rewards__, alpha=0.3)\n",
    "plt.title(\"Mean Reward\")\n",
    "plt.xlabel(\"Episode\")\n",
    "plt.ylabel(\"Reward\")\n",
    "\n",
    "plt.subplot(1, 2, 2)\n",
    "plt.plot(mean_steps__)\n",
    "plt.fill_between(range(num_episodes), mean_steps__ - std_steps__, mean_steps__ + std_steps__, alpha=0.3)\n",
    "plt.title(\"Mean Steps\")\n",
    "plt.xlabel(\"Episode\")\n",
    "plt.ylabel(\"Steps\")\n",
    "\n",
    "plt.tight_layout()\n",
    "plt.show()\n"
   ]
  },
  {
   "cell_type": "code",
   "execution_count": null,
   "metadata": {},
   "outputs": [],
   "source": []
  },
  {
   "cell_type": "code",
   "execution_count": null,
   "metadata": {},
   "outputs": [
    {
     "name": "stderr",
     "output_type": "stream",
     "text": []
    },
    {
     "name": "stderr",
     "output_type": "stream",
     "text": [
      "Run: 1: 100%|██████████| 5000/5000 [00:11<00:00, 425.77it/s]\n",
      "Run: 2: 100%|██████████| 5000/5000 [00:12<00:00, 407.23it/s]\n",
      "Run: 3: 100%|██████████| 5000/5000 [00:12<00:00, 406.65it/s]\n",
      "Run: 4: 100%|██████████| 5000/5000 [00:12<00:00, 398.56it/s]\n",
      "Run: 5: 100%|██████████| 5000/5000 [00:12<00:00, 400.80it/s]\n"
     ]
    },
    {
     "data": {
      "image/png": "[encoded data removed]",
      "text/plain": [
       "<Figure size 720x360 with 2 Axes>"
      ]
     },
     "metadata": {
      "needs_background": "light"
     },
     "output_type": "display_data"
    }
   ],
   "source": [
    "# Experiment 1\n",
    "\n",
    "gw = GridWorld(num_rows=num_rows, num_cols=num_cols, start_state=start_state, goal_states=goal_states, wind = False)\n",
    "gw.add_obstructions(obstructed_states=obstructions, bad_states=bad_states, restart_states=restart_states)\n",
    "gw.add_rewards(step_reward=-1, goal_reward=10, bad_state_reward=-6, restart_state_reward=-100)\n",
    "gw.add_transition_probability(p_good_transition=1.0, bias=0.5)\n",
    "env = gw.create_gridworld()\n",
    "\n",
    "# Initialization\n",
    "num_runs = 5\n",
    "num_episodes = 5000\n",
    "alpha = 0.1\n",
    "gamma = 0.9\n",
    "epsilon = 0.1\n",
    "tau = 0.1\n",
    "\n",
    "\n",
    "sarsa = SARSA(env, alpha, gamma, epsilon, tau, num_episodes, num_runs, policy='softmax')\n",
    "Q, rewards, steps = sarsa.train()\n",
    "\n",
    "mean_rewards = np.mean(rewards, axis=0)\n",
    "std_rewards = np.std(rewards, axis=0)\n",
    "mean_steps = np.mean(steps, axis=0)\n",
    "std_steps = np.std(steps, axis=0)\n",
    "\n",
    "plt.figure(figsize=(10, 5))\n",
    "plt.subplot(1, 2, 1)\n",
    "plt.plot(mean_rewards)\n",
    "plt.fill_between(range(num_episodes), mean_rewards - std_rewards, mean_rewards + std_rewards, alpha=0.3)\n",
    "plt.title(\"Mean Reward\")\n",
    "plt.xlabel(\"Episode\")\n",
    "plt.ylabel(\"Reward\")\n",
    "\n",
    "plt.subplot(1, 2, 2)\n",
    "plt.plot(mean_steps)\n",
    "plt.fill_between(range(num_episodes), mean_steps - std_steps, mean_steps + std_steps, alpha=0.3)\n",
    "plt.title(\"Mean Steps\")\n",
    "plt.xlabel(\"Episode\")\n",
    "plt.ylabel(\"Steps\")\n",
    "\n",
    "plt.tight_layout()\n",
    "plt.show()\n",
    "\n"
   ]
  },
  {
   "cell_type": "code",
   "execution_count": null,
   "metadata": {},
   "outputs": [
    {
     "data": {
      "image/png": "[encoded data removed]",
      "text/plain": [
       "<Figure size 720x360 with 2 Axes>"
      ]
     },
     "metadata": {
      "needs_background": "light"
     },
     "output_type": "display_data"
    }
   ],
   "source": [
    "gw = GridWorld(num_rows=num_rows, num_cols=num_cols, start_state=start_state, goal_states=goal_states, wind = False)\n",
    "gw.add_obstructions(obstructed_states=obstructions, bad_states=bad_states, restart_states=restart_states)\n",
    "gw.add_rewards(step_reward=-1, goal_reward=10, bad_state_reward=-6, restart_state_reward=-100)\n",
    "gw.add_transition_probability(p_good_transition=1.0, bias=0.5)\n",
    "env = gw.create_gridworld()\n",
    "\n",
    "# Initialization\n",
    "num_runs = 5\n",
    "num_episodes = 5000\n",
    "alpha = 0.1\n",
    "gamma = 0.9\n",
    "epsilon = 0.1\n",
    "tau = 0.1\n",
    "\n",
    "\n",
    "def Sarsa(env, num_episodes, alpha, gamma, epsilon=epsilon, tau=tau, choose_action=epsilon_greedy, Q=None):\n",
    "    rewards = np.zeros((num_runs, num_episodes))\n",
    "    steps = np.zeros((num_runs, num_episodes))\n",
    "    avg_Q = np.zeros((env.num_states, env.num_actions))\n",
    "\n",
    "    for run in range(num_runs):\n",
    "        Q = np.zeros((env.num_states, env.num_actions))\n",
    "        for episode in tqdm(range(num_episodes), desc=\"Run: \"+str(run+1), position=1):\n",
    "            state = env.reset()\n",
    "            action = choose_action(Q[state, :], epsilon)\n",
    "            done = False\n",
    "            while not done:\n",
    "                next_state, reward = env.step(state, action)\n",
    "                next_action = choose_action(Q[next_state, :], epsilon)\n",
    "\n",
    "                Q[state, action] += alpha * (reward + gamma * Q[next_state, next_action] - Q[state, action])\n",
    "\n",
    "                state = next_state\n",
    "                action = next_action\n",
    "                rewards[run, episode] += reward\n",
    "                steps[run, episode] += 1\n",
    "                if state in env.goal_states_seq:\n",
    "                    done = True\n",
    "                if steps[run, episode] > max_steps:\n",
    "                    done = True\n",
    "        avg_Q += Q\n",
    "\n",
    "    avg_Q /= num_runs\n",
    "    return avg_Q, rewards, steps\n",
    "\n",
    "Q, rewards, steps = Sarsa(env, num_episodes, alpha, gamma, epsilon, tau, choose_action=softmax, Q=None)\n",
    "\n",
    "mean_rewards = np.mean(rewards, axis=0)\n",
    "std_rewards = np.std(rewards, axis=0)\n",
    "mean_steps = np.mean(steps, axis=0)\n",
    "std_steps = np.std(steps, axis=0)\n",
    "\n",
    "plt.figure(figsize=(10, 5))\n",
    "plt.subplot(1, 2, 1)\n",
    "plt.plot(mean_rewards)\n",
    "plt.fill_between(range(num_episodes), mean_rewards - std_rewards, mean_rewards + std_rewards, alpha=0.3)\n",
    "plt.title(\"Mean Reward\")\n",
    "plt.xlabel(\"Episode\")\n",
    "plt.ylabel(\"Reward\")\n",
    "\n",
    "plt.subplot(1, 2, 2)\n",
    "plt.plot(mean_steps)\n",
    "plt.fill_between(range(num_episodes), mean_steps - std_steps, mean_steps + std_steps, alpha=0.3)\n",
    "plt.title(\"Mean Steps\")\n",
    "plt.xlabel(\"Episode\")\n",
    "plt.ylabel(\"Steps\")\n",
    "\n",
    "plt.tight_layout()\n",
    "plt.show()\n"
   ]
  },
  {
   "cell_type": "code",
   "execution_count": null,
   "metadata": {},
   "outputs": [],
   "source": []
  },
  {
   "cell_type": "code",
   "execution_count": null,
   "metadata": {},
   "outputs": [
    {
     "ename": "NameError",
     "evalue": "name 'stop' is not defined",
     "output_type": "error",
     "traceback": [
      "\u001b[1;31m---------------------------------------------------------------------------\u001b[0m",
      "\u001b[1;31mNameError\u001b[0m                                 Traceback (most recent call last)",
      "Input \u001b[1;32mIn [18]\u001b[0m, in \u001b[0;36m<module>\u001b[1;34m\u001b[0m\n\u001b[1;32m----> 1\u001b[0m \u001b[43mstop\u001b[49m\n",
      "\u001b[1;31mNameError\u001b[0m: name 'stop' is not defined"
     ]
    }
   ],
   "source": [
    "stop"
   ]
  },
  {
   "cell_type": "code",
   "execution_count": null,
   "metadata": {},
   "outputs": [
    {
     "data": {
      "image/png": "[encoded data removed]",
      "text/plain": [
       "<Figure size 360x360 with 2 Axes>"
      ]
     },
     "metadata": {
      "needs_background": "light"
     },
     "output_type": "display_data"
    }
   ],
   "source": [
    "\n",
    "# Heatmap of the grid with state visit counts, i.e., the number of times each state was visited throughout the training phase.\n",
    "state_visits = np.zeros((env.num_rows, env.num_cols))\n",
    "for state in range(env.num_states):\n",
    "  row_col = seq_to_col_row(state, env.num_cols)\n",
    "  state_visits[row_col[0, 0], row_col[0, 1]] = np.sum(steps[:, -1] >= state)\n",
    "\n",
    "plt.figure(figsize=(5, 5))\n",
    "plt.imshow(state_visits, cmap=\"hot\")\n",
    "plt.title(\"State Visits\")\n",
    "plt.colorbar()\n",
    "plt.show()\n"
   ]
  },
  {
   "cell_type": "code",
   "execution_count": null,
   "metadata": {},
   "outputs": [],
   "source": [
    "\n",
    "# num_episodes = 5000\n",
    "# num_runs = 5\n",
    "# rewards = np.zeros((num_runs, num_episodes))\n",
    "# steps = np.zeros((num_runs, num_episodes))\n",
    "# for run in range(num_runs):\n",
    "#   rewards[run], steps[run] = sarsa(env, num_episodes, alpha, gamma, epsilon, tau)\n",
    "#   clear_output(wait=True)\n",
    "#   print(f\"Run {run+1}/{num_runs} complete\")\n",
    "\n",
    "# # Plot reward curves and the number of steps to reach the goal in each episode\n",
    "# mean_rewards = np.mean(rewards, axis=0)\n",
    "# std_rewards = np.std(rewards, axis=0)\n",
    "# mean_steps = np.mean(steps, axis=0)\n",
    "# std_steps = np.std(steps, axis=0)\n",
    "# plt.figure(figsize=(15, 5))\n",
    "# plt.subplot(1, 2, 1)\n",
    "# plt.plot(mean_rewards)\n",
    "# plt.fill_between(range(num_episodes), mean_rewards + std_rewards, mean_rewards - std_rewards, alpha=0.5)\n",
    "# plt.title(\"Reward\")\n",
    "# plt.xlabel(\"Episode\")\n",
    "# plt.ylabel(\"Total Reward\")\n",
    "# plt.subplot(1, 2, 2)\n",
    "# plt.plot(mean_steps)\n",
    "# plt.fill_between(range(num_episodes), mean_steps + std_steps, mean_steps - std_steps, alpha=0.5)\n",
    "# plt.title(\"Steps\")\n",
    "# plt.xlabel(\"Episode\")\n",
    "# plt.ylabel(\"Total Steps\")\n",
    "# plt.show()\n"
   ]
  },
  {
   "cell_type": "code",
   "execution_count": null,
   "metadata": {},
   "outputs": [
    {
     "data": {
      "image/png": "[encoded data removed]",
      "text/plain": [
       "<Figure size 720x720 with 2 Axes>"
      ]
     },
     "metadata": {
      "needs_background": "light"
     },
     "output_type": "display_data"
    }
   ],
   "source": [
    "\n",
    "# Heatmap of the grid with state visit counts\n",
    "visit_counts = np.zeros((num_rows, num_cols))\n",
    "for state in range(env.num_states):\n",
    "  row_col = seq_to_col_row(state, num_cols)\n",
    "  visit_counts[row_col[0, 0], row_col[0, 1]] = np.sum([1 for step in steps.flatten() if step > state])\n",
    "plt.figure(figsize=(10, 10))\n",
    "plt.imshow(visit_counts, cmap='jet', interpolation='none')\n",
    "plt.title(\"State Visit Counts\")\n",
    "plt.colorbar()\n",
    "plt.show()\n",
    "\n"
   ]
  },
  {
   "cell_type": "code",
   "execution_count": null,
   "metadata": {},
   "outputs": [
    {
     "name": "stdout",
     "output_type": "stream",
     "text": [
      "[0 7]\n"
     ]
    }
   ],
   "source": [
    "print(env.obs_states[0])"
   ]
  },
  {
   "cell_type": "code",
   "execution_count": null,
   "metadata": {},
   "outputs": [
    {
     "name": "stdout",
     "output_type": "stream",
     "text": [
      "[0 7]\n",
      "yes\n"
     ]
    }
   ],
   "source": [
    "state = 7\n",
    "row_col = seq_to_col_row(state, env.num_cols)\n",
    "# make cell_state of type env.obs_states[0] so that it can be compared with env.obs_states\n",
    "cell_state = np.array([row_col[0,0], row_col[0,1]])\n",
    "print(cell_state)\n",
    "# check if cell_state is in env.obs_states\n",
    "if np.any(np.sum(np.abs(env.obs_states - cell_state), 1) == 0):\n",
    "    print(\"yes\")\n",
    "else:\n",
    "    print(\"no\")"
   ]
  },
  {
   "cell_type": "code",
   "execution_count": null,
   "metadata": {},
   "outputs": [
    {
     "data": {
      "text/plain": [
       "array([[9, 9]])"
      ]
     },
     "execution_count": 19,
     "metadata": {},
     "output_type": "execute_result"
    }
   ],
   "source": [
    "seq_to_col_row(99, 10)"
   ]
  },
  {
   "cell_type": "code",
   "execution_count": null,
   "metadata": {},
   "outputs": [
    {
     "data": {
      "image/png": "[encoded data removed]",
      "text/plain": [
       "<Figure size 720x720 with 2 Axes>"
      ]
     },
     "metadata": {
      "needs_background": "light"
     },
     "output_type": "display_data"
    },
    {
     "data": {
      "image/png": "[encoded data removed]",
      "text/plain": [
       "<Figure size 720x720 with 1 Axes>"
      ]
     },
     "metadata": {
      "needs_background": "light"
     },
     "output_type": "display_data"
    }
   ],
   "source": [
    "# Heatmap of the grid with Q values after training is complete, and optimal actions for the best policy\n",
    "# mark arrow directions for optimal actions\n",
    "optimal_actions = np.argmax(Q, axis=1)\n",
    "optimal_action_dir = np.array([[\"\" for _ in range(env.num_cols)] for _ in range(env.num_rows)])\n",
    "# print(optimal_actions)\n",
    "# print(optimal_action_dir)\n",
    "for state in range(env.num_states):\n",
    "    row_col = seq_to_col_row(state, env.num_cols)\n",
    "    cell_state = np.array([row_col[0, 0], row_col[0, 1]])\n",
    "    if np.any(np.sum(np.abs(env.obs_states - cell_state), 1) == 0):\n",
    "        optimal_action_dir[row_col[0, 0], row_col[0, 1]] = \"X\"\n",
    "    else:\n",
    "        action = optimal_actions[state]\n",
    "        if action == 0:\n",
    "            optimal_action_dir[row_col[0, 0], row_col[0, 1]] = \"↑\"\n",
    "        elif action == 1:\n",
    "            optimal_action_dir[row_col[0, 0], row_col[0, 1]] = \"↓\"\n",
    "        elif action == 2:\n",
    "            optimal_action_dir[row_col[0, 0], row_col[0, 1]] = \"←\"\n",
    "        elif action == 3:\n",
    "            optimal_action_dir[row_col[0, 0], row_col[0, 1]] = \"→\"\n",
    "\n",
    "# Heatmap of the grid with Q values along with optimal_action_dir\n",
    "plt.figure(figsize=(10, 10))\n",
    "plt.imshow(np.max(Q, axis=1).reshape(num_rows, num_cols), cmap='jet')\n",
    "# for i in range(num_rows):\n",
    "#     for j in range(num_cols):\n",
    "#         plt.text(j, i, optimal_action_dir[i, j], ha='center', va='center', color='black')\n",
    "\n",
    "for i in range(num_rows):\n",
    "    for j in range(num_cols):\n",
    "        action = optimal_action_dir[i, j]\n",
    "        if action == \"↑\":\n",
    "            plt.arrow(j, i+0.25, 0, -0.5, head_width=0.1, head_length=0.1, color='black', length_includes_head=True)\n",
    "        elif action == \"↓\":\n",
    "            plt.arrow(j, i-0.25, 0, 0.5, head_width=0.1, head_length=0.1, color='black', length_includes_head=True)\n",
    "        elif action == \"←\":\n",
    "            plt.arrow(j+0.25, i, -0.5, 0, head_width=0.1, head_length=0.1, color='black', length_includes_head=True)\n",
    "        elif action == \"→\":\n",
    "            plt.arrow(j-0.25, i, 0.5, 0, head_width=0.1, head_length=0.1, color='black', length_includes_head=True)\n",
    "\n",
    "\n",
    "plt.title(\"Q Values\")\n",
    "plt.colorbar()\n",
    "plt.show()\n",
    "\n",
    "# Plot only optimal_action_dir on a white background grid\n",
    "plt.figure(figsize=(10, 10))\n",
    "plt.imshow(np.ones((num_rows, num_cols, 3)))\n",
    "for i in range(num_rows):\n",
    "    for j in range(num_cols):\n",
    "        plt.text(j, i, optimal_action_dir[i, j], ha='center', va='center', color='black')\n",
    "plt.title(\"Optimal Actions\")\n",
    "plt.show()\n",
    "\n"
   ]
  },
  {
   "cell_type": "code",
   "execution_count": null,
   "metadata": {},
   "outputs": [
    {
     "data": {
      "image/png": "[encoded data removed]",
      "text/plain": [
       "<Figure size 720x720 with 2 Axes>"
      ]
     },
     "metadata": {
      "needs_background": "light"
     },
     "output_type": "display_data"
    }
   ],
   "source": [
    "# Heatmap of the grid with Q values after training is complete, and optimal actions for the best policy\n",
    "# mark arrow directions for optimal actions\n",
    "# use Plot class\n",
    "\n",
    "plot = Plot(env, rewards, steps, Q)\n",
    "plot.Q_values()\n"
   ]
  },
  {
   "cell_type": "code",
   "execution_count": null,
   "metadata": {},
   "outputs": [
    {
     "data": {
      "image/png": "[encoded data removed]",
      "text/plain": [
       "<Figure size 576x576 with 1 Axes>"
      ]
     },
     "metadata": {
      "needs_background": "light"
     },
     "output_type": "display_data"
    }
   ],
   "source": [
    "# Plot the optimal path from the start state to the goal state\n",
    "state = env.start_state_seq.item()\n",
    "path = [state]\n",
    "done = False\n",
    "while not done:\n",
    "    action = optimal_actions[state]\n",
    "    next_state, _ = env.step(state, action)\n",
    "    path.append(next_state)\n",
    "    state = next_state\n",
    "    done = (state in env.goal_states_seq)\n",
    "\n",
    "\n",
    "# Plot the path on the grid\n",
    "grid = np.ones((num_rows, num_cols, 3))\n",
    "grid[obstructions[:,0], obstructions[:,1], :] = 0\n",
    "grid[bad_states[:,0], bad_states[:,1], 0] = 1\n",
    "grid[bad_states[:,0], bad_states[:,1], 1] = 0\n",
    "grid[bad_states[:,0], bad_states[:,1], 2] = 0\n",
    "grid[restart_states[:,0], restart_states[:,1], 0] = 0\n",
    "grid[restart_states[:,0], restart_states[:,1], 1] = 0\n",
    "grid[restart_states[:,0], restart_states[:,1], 2] = 1\n",
    "grid[goal_states[:,0], goal_states[:,1], 0] = 0\n",
    "grid[goal_states[:,0], goal_states[:,1], 1] = 1\n",
    "grid[goal_states[:,0], goal_states[:,1], 2] = 0\n",
    "grid[start_state[0,0], start_state[0,1], 0] = 1\n",
    "grid[start_state[0,0], start_state[0,1], 1] = 1\n",
    "grid[start_state[0,0], start_state[0,1], 2] = 0\n",
    "for state in path:\n",
    "    row_col = seq_to_col_row(state, num_cols)\n",
    "    grid[row_col[0, 0], row_col[0, 1], :] = 0.5\n",
    "plt.figure(figsize=(8, 8))\n",
    "plt.imshow(grid)\n",
    "plt.title(\"Optimal Path\")\n",
    "\n",
    "path_x = [seq_to_col_row(state, num_cols)[0, 1] for state in path]\n",
    "path_y = [seq_to_col_row(state, num_cols)[0, 0] for state in path]\n",
    "plt.plot(path_x, path_y, color='green', marker='', linestyle='--', linewidth=2)\n",
    "\n",
    "plt.show()\n",
    "\n"
   ]
  },
  {
   "cell_type": "code",
   "execution_count": null,
   "metadata": {},
   "outputs": [],
   "source": []
  },
  {
   "cell_type": "code",
   "execution_count": null,
   "metadata": {},
   "outputs": [
    {
     "data": {
      "text/plain": [
       "101.0"
      ]
     },
     "execution_count": 22,
     "metadata": {},
     "output_type": "execute_result"
    }
   ],
   "source": [
    "steps[0][1]"
   ]
  },
  {
   "cell_type": "code",
   "execution_count": null,
   "metadata": {},
   "outputs": [],
   "source": []
  }
 ],
 "metadata": {
  "kernelspec": {
   "display_name": "Python 3",
   "language": "python",
   "name": "python3"
  },
  "language_info": {
   "codemirror_mode": {
    "name": "ipython",
    "version": 3
   },
   "file_extension": ".py",
   "mimetype": "text/x-python",
   "name": "python",
   "nbconvert_exporter": "python",
   "pygments_lexer": "ipython3",
   "version": "3.10.2"
  }
 },
 "nbformat": 4,
 "nbformat_minor": 2
}
