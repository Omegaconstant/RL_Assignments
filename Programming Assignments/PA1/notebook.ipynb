{
 "cells": [
  {
   "cell_type": "code",
   "execution_count": 19,
   "metadata": {},
   "outputs": [],
   "source": [
    "%%capture\n",
    "\n",
    "import os\n",
    "import math\n",
    "import copy\n",
    "import time\n",
    "import warnings\n",
    "import numpy as np\n",
    "from tqdm import tqdm\n",
    "import matplotlib.pyplot as plt\n",
    "from IPython.display import clear_output, Markdown\n",
    "from gridworld_pa1 import GridWorld, row_col_to_seq, seq_to_col_row\n",
    "\n",
    "warnings.filterwarnings('ignore')\n",
    "%matplotlib inline"
   ]
  },
  {
   "cell_type": "code",
   "execution_count": 20,
   "metadata": {},
   "outputs": [],
   "source": [
    "# Random Seed\n",
    "np.random.seed(87+122)"
   ]
  },
  {
   "cell_type": "markdown",
   "metadata": {},
   "source": [
    "## Global Invariants"
   ]
  },
  {
   "cell_type": "code",
   "execution_count": 21,
   "metadata": {},
   "outputs": [],
   "source": [
    "# Global Constants\n",
    "num_episodes = 5000\n",
    "num_runs = 5\n",
    "max_steps = 100"
   ]
  },
  {
   "cell_type": "markdown",
   "metadata": {},
   "source": [
    "## Environment"
   ]
  },
  {
   "cell_type": "code",
   "execution_count": 22,
   "metadata": {},
   "outputs": [],
   "source": [
    "def init_env(start_state, p_good_transition, bias, wind):\n",
    "\n",
    "    num_cols = 10\n",
    "    num_rows = 10\n",
    "    obstructions = np.array([[0,7],[1,1],[1,2],[1,3],[1,7],[2,1],[2,3],\n",
    "                            [2,7],[3,1],[3,3],[3,5],[4,3],[4,5],[4,7],\n",
    "                            [5,3],[5,7],[5,9],[6,3],[6,9],[7,1],[7,6],\n",
    "                            [7,7],[7,8],[7,9],[8,1],[8,5],[8,6],[9,1]])\n",
    "    bad_states = np.array([[1,9],[4,2],[4,4],[7,5],[9,9]])\n",
    "    restart_states = np.array([[3,7],[8,2]])\n",
    "    start_state = np.array([start_state])\n",
    "    goal_states = np.array([[0,9],[2,2],[8,7]])\n",
    "    \n",
    "    gw = GridWorld(num_rows=num_rows,\n",
    "                num_cols=num_cols,\n",
    "                start_state=start_state,\n",
    "                goal_states=goal_states, wind = wind)\n",
    "    gw.add_obstructions(obstructed_states=obstructions,\n",
    "                    bad_states=bad_states,\n",
    "                    restart_states=restart_states)\n",
    "    gw.add_rewards(step_reward=-1,\n",
    "                goal_reward=10,\n",
    "                bad_state_reward=-6,\n",
    "                restart_state_reward=-100)\n",
    "    gw.add_transition_probability(p_good_transition=p_good_transition,\n",
    "                                bias=bias)\n",
    "    env = gw.create_gridworld()\n",
    "    return env"
   ]
  },
  {
   "cell_type": "markdown",
   "metadata": {},
   "source": [
    "## Policy"
   ]
  },
  {
   "cell_type": "markdown",
   "metadata": {},
   "source": [
    "### (a) softmax"
   ]
  },
  {
   "cell_type": "code",
   "execution_count": 23,
   "metadata": {},
   "outputs": [],
   "source": [
    "def softmax(Q, tau):\n",
    "    Q = Q - np.max(Q)\n",
    "    p = np.exp(Q/tau) / np.sum(np.exp(Q/tau))\n",
    "    return np.random.choice(len(Q), p=p)\n"
   ]
  },
  {
   "cell_type": "markdown",
   "metadata": {},
   "source": [
    "### (b) $\\epsilon -$ greedy"
   ]
  },
  {
   "cell_type": "code",
   "execution_count": 24,
   "metadata": {},
   "outputs": [],
   "source": [
    "def epsilon_greedy(Q, epsilon):\n",
    "    if np.random.random() < epsilon:\n",
    "        return np.random.randint(len(Q))\n",
    "    else:\n",
    "        return np.argmax(Q)"
   ]
  },
  {
   "cell_type": "markdown",
   "metadata": {},
   "source": [
    "## Algorithm"
   ]
  },
  {
   "cell_type": "code",
   "execution_count": 25,
   "metadata": {},
   "outputs": [],
   "source": [
    "class TDQLearner:\n",
    "    def __init__(self, env, alpha, gamma, epsilon, tau, num_episodes, num_runs, policy='softmax'):\n",
    "        self.env = env\n",
    "        self.alpha = alpha\n",
    "        self.gamma = gamma\n",
    "        self.epsilon = epsilon\n",
    "        self.tau = tau\n",
    "        self.num_episodes = num_episodes\n",
    "        self.num_runs = num_runs\n",
    "        self.policy = policy\n",
    "\n",
    "    def _choose_action(self, Q):\n",
    "        if self.policy == 'softmax':\n",
    "            return softmax(Q, self.tau)\n",
    "        elif self.policy == 'epsilon_greedy':\n",
    "            return epsilon_greedy(Q, self.epsilon)\n",
    "        else:\n",
    "            raise Exception(\"Policy not recognized\")\n",
    "    \n",
    "    def train(self):\n",
    "        pass\n"
   ]
  },
  {
   "cell_type": "markdown",
   "metadata": {},
   "source": [
    "### (a) SARSA\n",
    "\n",
    "\\begin{equation*}\n",
    "Q(s_t,a_t) \\leftarrow  Q(s_t, a_t) + \\alpha[r_t + \\gamma Q(s_{t+1}, a_{t+1}) - Q(s_t, a_t)]\n",
    "\\end{equation*}"
   ]
  },
  {
   "cell_type": "code",
   "execution_count": 26,
   "metadata": {},
   "outputs": [],
   "source": [
    "class SARSA(TDQLearner):\n",
    "    def train(self):\n",
    "        rewards = np.zeros((self.num_runs, self.num_episodes))\n",
    "        steps = np.zeros((self.num_runs, self.num_episodes))\n",
    "        avg_Q = np.zeros((self.env.num_states, self.env.num_actions))\n",
    "        state_visits = np.zeros((self.env.num_states, 1))\n",
    "\n",
    "        for run in range(self.num_runs):\n",
    "            Q = np.zeros((self.env.num_states, self.env.num_actions))\n",
    "            for episode in tqdm(range(self.num_episodes), desc=\"Run:\"+str(run+1), position=1):\n",
    "                state = self.env.reset()\n",
    "                state_visits[state] += 1\n",
    "                done = False\n",
    "                action = self._choose_action(Q[state, :])\n",
    "                while not done:\n",
    "                    next_state, reward = self.env.step(state, action)\n",
    "                    next_action = self._choose_action(Q[next_state, :])\n",
    "\n",
    "                    Q[state, action] += self.alpha * (reward + self.gamma * Q[next_state, next_action] - Q[state, action])\n",
    "\n",
    "                    state = next_state\n",
    "                    action = next_action\n",
    "                    rewards[run, episode] += reward\n",
    "                    steps[run, episode] += 1\n",
    "                    state_visits[state] += 1\n",
    "                    if state in self.env.goal_states_seq:\n",
    "                        done = True\n",
    "                    if steps[run, episode] > max_steps:\n",
    "                        done = True\n",
    "            avg_Q += Q\n",
    "\n",
    "        avg_Q /= self.num_runs\n",
    "        state_visits /= self.num_runs\n",
    "        return avg_Q, rewards, steps, state_visits\n"
   ]
  },
  {
   "cell_type": "markdown",
   "metadata": {},
   "source": [
    "### (b) Q-Learning\n",
    "\n",
    "\\begin{equation*}\n",
    "Q(s_t,a_t) \\leftarrow  Q(s_t, a_t) + \\alpha[r_t + \\gamma \\max_a Q(s_{t+1}, a) - Q(s_t, a_t)]\n",
    "\\end{equation*}"
   ]
  },
  {
   "cell_type": "code",
   "execution_count": 27,
   "metadata": {},
   "outputs": [],
   "source": [
    "class QLearning(TDQLearner):\n",
    "    def train(self):\n",
    "        rewards = np.zeros((self.num_runs, self.num_episodes))\n",
    "        steps = np.zeros((self.num_runs, self.num_episodes))\n",
    "        avg_Q = np.zeros((self.env.num_states, self.env.num_actions))\n",
    "        state_visits = np.zeros((self.env.num_states, 1))\n",
    "\n",
    "        for run in range(self.num_runs):\n",
    "            Q = np.zeros((self.env.num_states, self.env.num_actions))\n",
    "            for episode in tqdm(range(self.num_episodes), desc=\"Run:\"+str(run+1), position=1):\n",
    "                state = self.env.reset()\n",
    "                state_visits[state] += 1\n",
    "                done = False\n",
    "                while not done:\n",
    "                    action = self._choose_action(Q[state, :])\n",
    "                    next_state, reward = self.env.step(state, action)\n",
    "\n",
    "                    Q[state, action] += self.alpha * (reward + self.gamma * np.max(Q[next_state, :]) - Q[state, action])\n",
    "\n",
    "                    state = next_state\n",
    "                    rewards[run, episode] += reward\n",
    "                    steps[run, episode] += 1\n",
    "                    state_visits[state] += 1\n",
    "                    if state in self.env.goal_states_seq:\n",
    "                        done = True\n",
    "                    if steps[run, episode] > max_steps:\n",
    "                        done = True\n",
    "            avg_Q += Q\n",
    "\n",
    "        avg_Q /= self.num_runs\n",
    "        state_visits /= self.num_runs\n",
    "        return avg_Q, rewards, steps, state_visits\n"
   ]
  },
  {
   "cell_type": "markdown",
   "metadata": {},
   "source": [
    "### (c) Optimal Policy"
   ]
  },
  {
   "cell_type": "code",
   "execution_count": 28,
   "metadata": {},
   "outputs": [],
   "source": [
    "class OptimalPolicy:\n",
    "    # Greedy policy based on Q values\n",
    "    # returns the optimal_path and reward\n",
    "\n",
    "    def __init__(self, env, Q):\n",
    "        self.env = env\n",
    "        self.Q = Q\n",
    "        \n",
    "    # def run(self):\n",
    "    #     optimal_actions = np.argmax(self.Q, axis=1)\n",
    "    #     state = self.env.start_state_seq.item()\n",
    "    #     path = [state]\n",
    "    #     reward = 0\n",
    "    #     while state not in self.env.goal_states_seq and len(path) < max_steps:\n",
    "    #         action = optimal_actions[state]\n",
    "    #         if action == 0:\n",
    "    #             state -= self.env.num_cols\n",
    "    #         elif action == 1:\n",
    "    #             state += self.env.num_cols\n",
    "    #         elif action == 2:\n",
    "    #             state -= 1\n",
    "    #         elif action == 3:\n",
    "    #             state += 1\n",
    "\n",
    "    #         path.append(state)\n",
    "    #         reward += self.env.R[state]\n",
    "    #     return path, reward\n",
    "        \n",
    "    def run(self):\n",
    "        state = self.env.start_state_seq.item()\n",
    "        path = [state]\n",
    "        reward = 0\n",
    "        while state not in self.env.goal_states_seq and len(path) < max_steps:\n",
    "            action = np.argmax(self.Q[state, :])\n",
    "            if action == 0:\n",
    "                next_state = state - self.env.num_cols\n",
    "            elif action == 1:\n",
    "                next_state = state + self.env.num_cols\n",
    "            elif action == 2:\n",
    "                next_state = state - 1\n",
    "            elif action == 3:\n",
    "                next_state = state + 1\n",
    "\n",
    "            # if optimal action leads to an obstruction/restart state, choose the next best action\n",
    "            Q = copy.deepcopy(self.Q[state, :])\n",
    "            while next_state in row_col_to_seq(self.env.obs_states, self.env.num_cols) or next_state in row_col_to_seq(self.env.restart_states, self.env.num_cols):\n",
    "                Q[action] = -np.inf\n",
    "                action = np.argmax(Q)\n",
    "                if action == 0:\n",
    "                    next_state = state - self.env.num_cols\n",
    "                elif action == 1:\n",
    "                    next_state = state + self.env.num_cols\n",
    "                elif action == 2:\n",
    "                    next_state = state - 1\n",
    "                elif action == 3:\n",
    "                    next_state = state + 1\n",
    "\n",
    "            path.append(next_state)\n",
    "            reward += self.env.R[next_state]\n",
    "            state = next_state\n",
    "        return path, reward\n",
    "    \n",
    "    def path(self):\n",
    "        return self.run()[0]\n",
    "\n",
    "    def reward(self):\n",
    "        return self.run()[1]\n"
   ]
  },
  {
   "cell_type": "markdown",
   "metadata": {},
   "source": [
    "## Plot"
   ]
  },
  {
   "cell_type": "code",
   "execution_count": 29,
   "metadata": {},
   "outputs": [],
   "source": [
    "class Plot():\n",
    "    def __init__(self, env, rewards, steps, state_visits, Q, save=False, exp=None):\n",
    "        self.env = env\n",
    "        self.rewards = rewards\n",
    "        self.steps = steps\n",
    "        self.state_visits = state_visits\n",
    "        self.Q = Q\n",
    "        self.save = save\n",
    "        self.exp = exp #Experiment number\n",
    "\n",
    "    def reward(self):\n",
    "        mean_rewards = np.mean(self.rewards, axis=0)\n",
    "        std_rewards = np.std(self.rewards, axis=0)\n",
    "        plt.figure(figsize=(10, 6))\n",
    "        plt.plot(mean_rewards, label=\"Mean Reward\", color='blue')\n",
    "        plt.fill_between(range(len(mean_rewards)), mean_rewards-std_rewards, mean_rewards+std_rewards, alpha=0.3, color='blue')\n",
    "        plt.xlabel(\"Episodes\", fontsize=18)\n",
    "        plt.ylabel(\"Reward\", fontsize=18)\n",
    "        plt.title(\"Reward Curve\", fontsize=24)\n",
    "        plt.legend(fontsize=18)\n",
    "        plt.xticks(fontsize=16)\n",
    "        plt.yticks(fontsize=16)\n",
    "        if self.save:\n",
    "            os.makedirs(f\"images/{self.exp}\", exist_ok=True)\n",
    "            plt.savefig(f\"images/{self.exp}/reward.pdf\", format='pdf')\n",
    "        plt.show()\n",
    "            \n",
    "\n",
    "    def steps_to_goal(self):\n",
    "        mean_steps = np.mean(self.steps, axis=0)\n",
    "        std_steps = np.std(self.steps, axis=0)\n",
    "        plt.figure(figsize=(10, 6))\n",
    "        plt.plot(mean_steps, label=\"Mean Steps\", color='red')\n",
    "        plt.fill_between(range(len(mean_steps)), mean_steps-std_steps, mean_steps+std_steps, alpha=0.3, color='red')\n",
    "        plt.xlabel(\"Episodes\", fontsize=18)\n",
    "        plt.ylabel(\"Steps\", fontsize=18)\n",
    "        plt.title(\"Steps to reach the goal\", fontsize=24)\n",
    "        plt.legend(fontsize=18)\n",
    "        plt.xticks(fontsize=16)\n",
    "        plt.yticks(fontsize=16)\n",
    "        if self.save:\n",
    "            plt.savefig(f\"images/{self.exp}/steps.pdf\", format='pdf')\n",
    "        plt.show()\n",
    "\n",
    "    def state_visit_count(self):\n",
    "        state_visits = np.sum(self.state_visits, axis=1)\n",
    "        plt.figure(figsize=(10,10))\n",
    "        plt.imshow(state_visits.reshape(self.env.num_rows, self.env.num_cols), cmap='jet')\n",
    "        plt.title(\"State Visits\", fontsize=24)\n",
    "        plt.colorbar(shrink=0.825).ax.tick_params(labelsize=16)\n",
    "        plt.xticks(fontsize=16)\n",
    "        plt.yticks(fontsize=16)\n",
    "        if self.save:\n",
    "            plt.savefig(f\"images/{self.exp}/state_visits.pdf\", format='pdf')\n",
    "        plt.show()\n",
    "\n",
    "    def Q_values(self):\n",
    "        optimal_actions = np.argmax(self.Q, axis=1)\n",
    "        \n",
    "        plt.figure(figsize=(10,10))\n",
    "        # Need to decide whether mean or max\n",
    "        plt.imshow(np.max(self.Q, axis=1).reshape(self.env.num_rows, self.env.num_cols), cmap='jet')\n",
    "        for state in range(self.env.num_states):\n",
    "            row_col = seq_to_col_row(state, self.env.num_cols)\n",
    "            cell_state = np.array([row_col[0,0], row_col[0,1]])\n",
    "            if np.any(np.sum(np.abs(self.env.obs_states - cell_state), 1) == 0):\n",
    "                plt.text(row_col[0,1], row_col[0,0], 'X', ha='center', va='center', color='black', fontsize=12, fontweight='bold')\n",
    "            else:\n",
    "                action = optimal_actions[state]\n",
    "                if action == 0:\n",
    "                    plt.arrow(row_col[0,1], row_col[0,0]+0.25, 0, -0.5, head_width=0.1, head_length=0.1, fc='k', ec='k', length_includes_head=True)\n",
    "                elif action == 1:\n",
    "                    plt.arrow(row_col[0,1], row_col[0,0]-0.25, 0, 0.5, head_width=0.1, head_length=0.1, fc='k', ec='k', length_includes_head=True)\n",
    "                elif action == 2:\n",
    "                    plt.arrow(row_col[0,1]+0.25, row_col[0,0], -0.5, 0, head_width=0.1, head_length=0.1, fc='k', ec='k', length_includes_head=True)\n",
    "                elif action == 3:\n",
    "                    plt.arrow(row_col[0,1]-0.25, row_col[0,0], 0.5, 0, head_width=0.1, head_length=0.1, fc='k', ec='k', length_includes_head=True)\n",
    "        plt.title(\"Q Values and Optimal Actions\", fontsize=24)\n",
    "        plt.colorbar(shrink=0.825).ax.tick_params(labelsize=16)\n",
    "        plt.xticks(fontsize=16)\n",
    "        plt.yticks(fontsize=16)\n",
    "        \n",
    "        # Add horizontal grid lines\n",
    "        for i in range(self.env.num_rows + 1):\n",
    "            plt.axhline(i - 0.5, color='black', linewidth=1)\n",
    "\n",
    "        # Add vertical grid lines\n",
    "        for i in range(self.env.num_cols + 1):\n",
    "            plt.axvline(i - 0.5, color='black', linewidth=1)\n",
    "\n",
    "        if self.save:\n",
    "            plt.savefig(f\"images/{self.exp}/q_values.pdf\", format='pdf')\n",
    "        plt.show()\n",
    "\n",
    "    def visualize_grid_world(self):\n",
    "        grid = np.ones((self.env.num_rows, self.env.num_cols, 3))\n",
    "\n",
    "        # Set obstacles to black\n",
    "        grid[self.env.obs_states[:, 0], self.env.obs_states[:, 1], :] = [0, 0, 0]\n",
    "\n",
    "        # Set bad states to red\n",
    "        grid[self.env.bad_states[:, 0], self.env.bad_states[:, 1], 0] = 1\n",
    "        grid[self.env.bad_states[:, 0], self.env.bad_states[:, 1], 1] = 0\n",
    "        grid[self.env.bad_states[:, 0], self.env.bad_states[:, 1], 2] = 0\n",
    "\n",
    "        # Set restart states to blue\n",
    "        grid[self.env.restart_states[:, 0], self.env.restart_states[:, 1], 0] = 0\n",
    "        grid[self.env.restart_states[:, 0], self.env.restart_states[:, 1], 1] = 0\n",
    "        grid[self.env.restart_states[:, 0], self.env.restart_states[:, 1], 2] = 1\n",
    "\n",
    "        # Set goal states to green\n",
    "        grid[self.env.goal_states[:, 0], self.env.goal_states[:, 1], 0] = 0\n",
    "        grid[self.env.goal_states[:, 0], self.env.goal_states[:, 1], 1] = 1\n",
    "        grid[self.env.goal_states[:, 0], self.env.goal_states[:, 1], 2] = 0\n",
    "\n",
    "        # Set start state to yellow\n",
    "        grid[self.env.start_state[0, 0], self.env.start_state[0, 1], 0] = 1\n",
    "        grid[self.env.start_state[0, 0], self.env.start_state[0, 1], 1] = 1\n",
    "        grid[self.env.start_state[0, 0], self.env.start_state[0, 1], 2] = 0\n",
    "        \n",
    "        plt.figure(figsize=(8, 8))\n",
    "        plt.imshow(grid)\n",
    "\n",
    "        # Add horizontal grid lines\n",
    "        for i in range(self.env.num_rows + 1):\n",
    "            plt.axhline(i - 0.5, color='black', linewidth=1)\n",
    "\n",
    "        # Add vertical grid lines\n",
    "        for i in range(self.env.num_cols + 1):\n",
    "            plt.axvline(i - 0.5, color='black', linewidth=1)\n",
    "\n",
    "        # Add legend outside the plot\n",
    "        legend_labels = ['Obstructed', 'Bad State', 'Restart State', 'Goal State', 'Start State']\n",
    "        legend_colors = ['#000000', '#FF0000', '#0000FF', '#00FF00', '#FFFF00']\n",
    "        legend_patches = [plt.Line2D([0], [0], marker='s', color='w', markerfacecolor=color, markersize=10) for color in legend_colors]\n",
    "        plt.legend(legend_patches, legend_labels, loc='upper center', bbox_to_anchor=(0.5, -0.15), ncol=3, prop={'size': 15}, fontsize=18)\n",
    "        plt.xticks(fontsize=16)\n",
    "        plt.yticks(fontsize=16)\n",
    "\n",
    "        if self.save:\n",
    "            os.makedirs(f\"images/{self.exp}\", exist_ok=True)\n",
    "            plt.savefig(f\"images/{self.exp}/grid_world.pdf\", format='pdf', bbox_inches='tight')\n",
    "\n",
    "    def optimal_path(self):\n",
    "        opt_policy = OptimalPolicy(self.env, self.Q)\n",
    "        path, total_reward = opt_policy.run()\n",
    "\n",
    "        self.visualize_grid_world()\n",
    "\n",
    "        path_x = [seq_to_col_row(state, self.env.num_cols)[0, 1] for state in path]\n",
    "        path_y = [seq_to_col_row(state, self.env.num_cols)[0, 0] for state in path]\n",
    "\n",
    "        # Add arrows to the path with larger size\n",
    "        for i in range(len(path_x)-1):\n",
    "            dx = path_x[i+1] - path_x[i]\n",
    "            dy = path_y[i+1] - path_y[i]\n",
    "            \n",
    "            # Draw a single arrow for each segment\n",
    "            plt.arrow(path_x[i], path_y[i], dx, dy, head_width=0.2, head_length=0.2, fc='k', ec='k', length_includes_head=True)\n",
    "\n",
    "        plt.title(\"Optimal Path\", fontsize=24)\n",
    "        plt.xticks(fontsize=16)\n",
    "        plt.yticks(fontsize=16)\n",
    "\n",
    "        if self.save:\n",
    "            plt.savefig(f\"images/{self.exp}/optimal_path.pdf\", format='pdf', bbox_inches='tight')\n",
    "        plt.show()\n",
    "        print(\"Path Taken:\", path)\n",
    "        print(\"Total Reward\", total_reward)"
   ]
  },
  {
   "cell_type": "markdown",
   "metadata": {},
   "source": [
    "## Hyperparameter tuning"
   ]
  },
  {
   "cell_type": "code",
   "execution_count": 30,
   "metadata": {},
   "outputs": [],
   "source": [
    "def hyperparameter_tuning(env, algo, alphas, gammas, epsilons, taus, policy=None):\n",
    "    # if policy is None, then both epsilon_greedy and softmax will be tuned\n",
    "    # else we tune only for the specified policy\n",
    "\n",
    "    best_reward = -np.inf\n",
    "    best_mean_reward = -np.inf\n",
    "    best_alpha = None\n",
    "    best_gamma = None\n",
    "    best_epsilon = None\n",
    "    best_tau = None\n",
    "    best_policy = None\n",
    "\n",
    "    cnt = 0\n",
    "    for alpha in alphas:\n",
    "        for gamma in gammas:\n",
    "            # policy = 'epsilon_greedy'\n",
    "            if policy == 'epsilon_greedy' or policy is None:\n",
    "                for epsilon in epsilons:\n",
    "                    cnt += 1\n",
    "                    clear_output(wait=True)\n",
    "                    time.sleep(0.3)\n",
    "                    print(f\"Progress: {cnt}/{len(alphas)*len(gammas)*len(epsilons)}\")\n",
    "                    if algo == 'sarsa':\n",
    "                        sarsa = SARSA(env, alpha, gamma, epsilon, 0, num_episodes, num_runs, policy='epsilon_greedy')\n",
    "                        avg_Q, rewards, steps, state_visits = sarsa.train()\n",
    "                    elif algo == 'qlearning':\n",
    "                        qlearning = QLearning(env, alpha, gamma, epsilon, 0, num_episodes, num_runs, policy='epsilon_greedy')\n",
    "                        avg_Q, rewards, steps, state_visits = qlearning.train()\n",
    "\n",
    "                    opt_policy = OptimalPolicy(env, avg_Q)\n",
    "                    reward = opt_policy.reward()\n",
    "                    mean_reward = np.mean(rewards)\n",
    "\n",
    "                    if reward >= best_reward and mean_reward > best_mean_reward:\n",
    "                        best_reward = reward\n",
    "                        best_mean_reward = mean_reward\n",
    "                        best_alpha = alpha\n",
    "                        best_gamma = gamma\n",
    "                        best_epsilon = epsilon\n",
    "                        best_tau = None\n",
    "                        best_policy = 'epsilon_greedy'\n",
    "\n",
    "            # policy = 'softmax'\n",
    "            if policy == 'softmax' or policy is None:\n",
    "                for tau in taus:\n",
    "                    cnt += 1\n",
    "                    clear_output(wait=True)\n",
    "                    time.sleep(0.3)\n",
    "                    print(f\"Progress: {cnt}/{len(alphas)*len(gammas)*len(taus)}\")\n",
    "                    if algo == 'sarsa':\n",
    "                        sarsa = SARSA(env, alpha, gamma, 0, tau, num_episodes, num_runs, policy='softmax')\n",
    "                        avg_Q, rewards, steps, state_visits = sarsa.train()\n",
    "                    elif algo == 'qlearning':\n",
    "                        qlearning = QLearning(env, alpha, gamma, 0, tau, num_episodes, num_runs, policy='softmax')\n",
    "                        avg_Q, rewards, steps, state_visits = qlearning.train()\n",
    "\n",
    "                    opt_policy = OptimalPolicy(env, avg_Q)\n",
    "                    reward = opt_policy.reward()\n",
    "                    mean_reward = np.mean(rewards)\n",
    "\n",
    "                    if reward >= best_reward and mean_reward > best_mean_reward:\n",
    "                        best_reward = reward\n",
    "                        best_mean_reward = mean_reward\n",
    "                        best_alpha = alpha\n",
    "                        best_gamma = gamma\n",
    "                        best_epsilon = None\n",
    "                        best_tau = tau\n",
    "                        best_policy = 'softmax'\n",
    "\n",
    "    return best_alpha, best_gamma, best_epsilon, best_tau, best_policy"
   ]
  },
  {
   "cell_type": "code",
   "execution_count": null,
   "metadata": {},
   "outputs": [],
   "source": []
  },
  {
   "cell_type": "markdown",
   "metadata": {},
   "source": [
    "## Experiments"
   ]
  },
  {
   "cell_type": "code",
   "execution_count": 31,
   "metadata": {},
   "outputs": [],
   "source": [
    "alphas = [0.10, 0.20, 0.30]\n",
    "gammas = [0.90, 0.95, 0.99]\n",
    "epsilons = [0.01, 0.05, 0.10]\n",
    "taus = [0.01, 0.05, 0.10]"
   ]
  },
  {
   "cell_type": "markdown",
   "metadata": {},
   "source": [
    "### Stochasticity Variant 1: `wind=False` (clear); `p = 1.0`(deterministic step)"
   ]
  },
  {
   "cell_type": "markdown",
   "metadata": {},
   "source": [
    "#### Start state: (0, 4); Algorithm: SARSA; Policy: Softmax"
   ]
  },
  {
   "cell_type": "code",
   "execution_count": 32,
   "metadata": {},
   "outputs": [],
   "source": [
    "\"\"\"\n",
    "Experiment 1.1.1.1:\n",
    "wind=False (clear), p = 1.0 (deterministic step); Start state: (0, 4); Algorithm: SARSA; Policy: Softmax\n",
    "\"\"\"\n",
    "\n",
    "env = init_env(start_state=[0, 4], p_good_transition=1.0, bias=0.5, wind=False)\n",
    "\n",
    "alpha = None\n",
    "gamma = None\n",
    "tau = None\n",
    "epsilon = None"
   ]
  },
  {
   "cell_type": "code",
   "execution_count": 33,
   "metadata": {},
   "outputs": [
    {
     "data": {
      "image/png": "[encoded data removed]",
      "text/plain": [
       "<Figure size 576x576 with 1 Axes>"
      ]
     },
     "metadata": {
      "needs_background": "light"
     },
     "output_type": "display_data"
    }
   ],
   "source": [
    "# Visualize the environment\n",
    "plot = Plot(env, rewards=None, steps=None, state_visits=None, Q=None, save=True, exp=\"environment\")\n",
    "\n",
    "plot.visualize_grid_world()"
   ]
  },
  {
   "cell_type": "code",
   "execution_count": 37,
   "metadata": {},
   "outputs": [
    {
     "name": "stdout",
     "output_type": "stream",
     "text": [
      "Best alpha: 0.2\n",
      "Best gamma: 0.95\n",
      "Best epsilon: None\n",
      "Best tau: 0.05\n",
      "Best policy: softmax\n"
     ]
    }
   ],
   "source": [
    "# Hyperparameter tuning\n",
    "best_alpha, best_gamma, best_epsilon, best_tau, best_policy = hyperparameter_tuning(env, 'sarsa', alphas, gammas, epsilons, taus, policy='softmax')\n",
    "\n",
    "clear_output(wait=True)\n",
    "time.sleep(0.3)\n",
    "\n",
    "print(\"Best alpha:\", best_alpha)\n",
    "print(\"Best gamma:\", best_gamma)\n",
    "print(\"Best epsilon:\", best_epsilon)\n",
    "print(\"Best tau:\", best_tau)\n",
    "print(\"Best policy:\", best_policy)"
   ]
  },
  {
   "cell_type": "code",
   "execution_count": 36,
   "metadata": {},
   "outputs": [
    {
     "name": "stderr",
     "output_type": "stream",
     "text": [
      "Run:1: 100%|██████████| 5000/5000 [00:10<00:00, 479.90it/s]\n",
      "Run:2: 100%|██████████| 5000/5000 [00:11<00:00, 446.82it/s]\n",
      "Run:3: 100%|██████████| 5000/5000 [00:10<00:00, 473.78it/s]\n",
      "Run:4: 100%|██████████| 5000/5000 [00:15<00:00, 320.62it/s]\n",
      "Run:5: 100%|██████████| 5000/5000 [00:09<00:00, 506.33it/s]\n"
     ]
    },
    {
     "data": {
      "image/png": "[encoded data removed]",
      "text/plain": [
       "<Figure size 720x432 with 1 Axes>"
      ]
     },
     "metadata": {
      "needs_background": "light"
     },
     "output_type": "display_data"
    },
    {
     "data": {
      "image/png": "[encoded data removed]",
      "text/plain": [
       "<Figure size 720x432 with 1 Axes>"
      ]
     },
     "metadata": {
      "needs_background": "light"
     },
     "output_type": "display_data"
    },
    {
     "data": {
      "image/png": "[encoded data removed]",
      "text/plain": [
       "<Figure size 720x720 with 2 Axes>"
      ]
     },
     "metadata": {
      "needs_background": "light"
     },
     "output_type": "display_data"
    },
    {
     "data": {
      "image/png": "[encoded data removed]",
      "text/plain": [
       "<Figure size 720x720 with 2 Axes>"
      ]
     },
     "metadata": {
      "needs_background": "light"
     },
     "output_type": "display_data"
    },
    {
     "data": {
      "image/png": "[encoded data removed]",
      "text/plain": [
       "<Figure size 576x576 with 1 Axes>"
      ]
     },
     "metadata": {
      "needs_background": "light"
     },
     "output_type": "display_data"
    },
    {
     "name": "stdout",
     "output_type": "stream",
     "text": [
      "Path Taken: [4, 3, 2, 1, 0, 10, 20, 30, 40, 41, 42, 32, 22]\n",
      "Total Reward [-6.]\n"
     ]
    }
   ],
   "source": [
    "# Softmax\n",
    "sarsa = SARSA(env=env, alpha=best_alpha, gamma=best_gamma, epsilon=best_epsilon, tau=best_tau, num_episodes=num_episodes, num_runs=num_runs, policy='softmax')\n",
    "Q, rewards, steps, state_visits = sarsa.train()\n",
    "\n",
    "plot = Plot(env, rewards, steps, state_visits, Q, save=True, exp=\"5K-episodes/1.1.1.1\")\n",
    "\n",
    "plot.reward()\n",
    "plot.steps_to_goal()\n",
    "plot.state_visit_count()\n",
    "plot.Q_values()\n",
    "plot.optimal_path()"
   ]
  },
  {
   "cell_type": "code",
   "execution_count": null,
   "metadata": {},
   "outputs": [],
   "source": [
    "\"\"\"\n",
    "Experiment for 100 episodes\n",
    "Objective: To understand the initial learning\n",
    "\"\"\"\n",
    "sarsa = SARSA(env=env, alpha=best_alpha, gamma=best_gamma, epsilon=best_epsilon, tau=best_tau, num_episodes=100, num_runs=num_runs, policy='softmax')\n",
    "Q, rewards, steps, state_visits = sarsa.train()\n",
    "\n",
    "plot = Plot(env, rewards, steps, state_visits, Q, save=True, exp=\"100-episodes/1.1.1.1\")\n",
    "\n",
    "plot.reward()\n",
    "plot.steps_to_goal()"
   ]
  },
  {
   "cell_type": "markdown",
   "metadata": {},
   "source": [
    "#### Start state: (0, 4); Algorithm: SARSA; Policy: $\\epsilon - $ greedy"
   ]
  },
  {
   "cell_type": "code",
   "execution_count": null,
   "metadata": {},
   "outputs": [],
   "source": [
    "\"\"\"\n",
    "Experiment 1.1.1.2:\n",
    "wind=False (clear); p = 1.0 (deterministic step); Start state: (0, 4); Algorithm: SARSA; Policy: epsilon-greedy\n",
    "\"\"\"\n",
    "\n",
    "env = init_env(start_state=[0, 4], p_good_transition=1.0, bias=0.5, wind=False)\n",
    "\n",
    "alpha = None\n",
    "gamma = None\n",
    "tau = None\n",
    "epsilon = None"
   ]
  },
  {
   "cell_type": "code",
   "execution_count": null,
   "metadata": {},
   "outputs": [],
   "source": [
    "# Hyperparameter tuning\n",
    "best_alpha, best_gamma, best_epsilon, best_tau, best_policy = hyperparameter_tuning(env, 'sarsa', alphas, gammas, epsilons, taus, policy='epsilon_greedy')\n",
    "\n",
    "clear_output(wait=True)\n",
    "time.sleep(0.3)\n",
    "\n",
    "print(\"Best alpha:\", best_alpha)\n",
    "print(\"Best gamma:\", best_gamma)\n",
    "print(\"Best epsilon:\", best_epsilon)\n",
    "print(\"Best tau:\", best_tau)\n",
    "print(\"Best policy:\", best_policy)"
   ]
  },
  {
   "cell_type": "code",
   "execution_count": null,
   "metadata": {},
   "outputs": [],
   "source": [
    "# Epsilon-greedy\n",
    "sarsa = SARSA(env=env, alpha=best_alpha, gamma=best_gamma, epsilon=best_epsilon, tau=best_tau, num_episodes=num_episodes, num_runs=num_runs, policy='epsilon_greedy')\n",
    "Q, rewards, steps, state_visits = sarsa.train()\n",
    "\n",
    "plot = Plot(env, rewards, steps, state_visits, Q, save=True, exp=\"5K-episodes/1.1.1.2\")\n",
    "\n",
    "plot.reward()\n",
    "plot.steps_to_goal()\n",
    "plot.state_visit_count()\n",
    "plot.Q_values()\n",
    "plot.optimal_path()"
   ]
  },
  {
   "cell_type": "code",
   "execution_count": null,
   "metadata": {},
   "outputs": [],
   "source": [
    "\"\"\"\n",
    "Experiment for 100 episodes\n",
    "Objective: To understand the initial learning\n",
    "\"\"\"\n",
    "sarsa = SARSA(env=env, alpha=best_alpha, gamma=best_gamma, epsilon=best_epsilon, tau=best_tau, num_episodes=100, num_runs=num_runs, policy='epsilon_greedy')\n",
    "Q, rewards, steps, state_visits = sarsa.train()\n",
    "\n",
    "plot = Plot(env, rewards, steps, state_visits, Q, save=True, exp=\"100-episodes/1.1.1.2\")\n",
    "\n",
    "plot.reward()\n",
    "plot.steps_to_goal()"
   ]
  },
  {
   "cell_type": "markdown",
   "metadata": {},
   "source": [
    "#### Start state: (0, 4); Algorithm: Q-Learning; Policy: Softmax"
   ]
  },
  {
   "cell_type": "code",
   "execution_count": null,
   "metadata": {},
   "outputs": [],
   "source": [
    "\"\"\"\n",
    "Experiment 1.1.2.1:\n",
    "wind=False (clear); p = 1.0 (deterministic step); Start state: (0, 4); Algorithm: Q-Learning; Policy: Softmax\n",
    "\"\"\"\n",
    "\n",
    "env = init_env(start_state=[0, 4], p_good_transition=1.0, bias=0.5, wind=False)\n",
    "\n",
    "alpha = None\n",
    "gamma = None\n",
    "tau = None\n",
    "epsilon = None"
   ]
  },
  {
   "cell_type": "code",
   "execution_count": null,
   "metadata": {},
   "outputs": [],
   "source": [
    "# Hyperparameter tuning\n",
    "best_alpha, best_gamma, best_epsilon, best_tau, best_policy = hyperparameter_tuning(env, 'qlearning', alphas, gammas, epsilons, taus, policy='softmax')\n",
    "\n",
    "clear_output(wait=True)\n",
    "time.sleep(0.3)\n",
    "\n",
    "print(\"Best alpha:\", best_alpha)\n",
    "print(\"Best gamma:\", best_gamma)\n",
    "print(\"Best epsilon:\", best_epsilon)\n",
    "print(\"Best tau:\", best_tau)\n",
    "print(\"Best policy:\", best_policy)"
   ]
  },
  {
   "cell_type": "code",
   "execution_count": null,
   "metadata": {},
   "outputs": [],
   "source": [
    "# Softmax\n",
    "q_learning = QLearning(env=env, alpha=best_alpha, gamma=best_gamma, epsilon=best_epsilon, tau=best_tau, num_episodes=num_episodes, num_runs=num_runs, policy='softmax')\n",
    "Q, rewards, steps, state_visits = q_learning.train()\n",
    "\n",
    "plot = Plot(env, rewards, steps, state_visits, Q, save=True, exp=\"5K-episodes/1.1.2.1\")\n",
    "\n",
    "plot.reward()\n",
    "plot.steps_to_goal()\n",
    "plot.state_visit_count()\n",
    "plot.Q_values()\n",
    "plot.optimal_path()"
   ]
  },
  {
   "cell_type": "code",
   "execution_count": null,
   "metadata": {},
   "outputs": [],
   "source": [
    "\"\"\"\n",
    "Experiment for 100 episodes\n",
    "Objective: To understand the initial learning\n",
    "\"\"\"\n",
    "\n",
    "q_learning = QLearning(env=env, alpha=best_alpha, gamma=best_gamma, epsilon=best_epsilon, tau=best_tau, num_episodes=100, num_runs=num_runs, policy='softmax')\n",
    "Q, rewards, steps, state_visits = q_learning.train()\n",
    "\n",
    "plot = Plot(env, rewards, steps, state_visits, Q, save=True, exp=\"100-episodes/1.1.2.1\")\n",
    "\n",
    "plot.reward()\n",
    "plot.steps_to_goal()"
   ]
  },
  {
   "cell_type": "markdown",
   "metadata": {},
   "source": [
    "#### Start state: (0, 4); Algorithm: Q-Learning; Policy: $\\epsilon - $ greedy"
   ]
  },
  {
   "cell_type": "code",
   "execution_count": null,
   "metadata": {},
   "outputs": [],
   "source": [
    "\"\"\"\n",
    "Experiment 1.1.2.2:\n",
    "wind=False (clear); p = 1.0 (deterministic step); Start state: (0, 4); Algorithm: Q-Learning; Policy: epsilon-greedy\n",
    "\"\"\"\n",
    "\n",
    "env = init_env(start_state=[0, 4], p_good_transition=1.0, bias=0.5, wind=False)\n",
    "\n",
    "alpha = None\n",
    "gamma = None\n",
    "tau = None\n",
    "epsilon = None"
   ]
  },
  {
   "cell_type": "code",
   "execution_count": null,
   "metadata": {},
   "outputs": [],
   "source": [
    "# Hyperparameter tuning\n",
    "best_alpha, best_gamma, best_epsilon, best_tau, best_policy = hyperparameter_tuning(env, 'qlearning', alphas, gammas, epsilons, taus, policy='epsilon_greedy')\n",
    "\n",
    "clear_output(wait=True)\n",
    "time.sleep(0.3)\n",
    "\n",
    "print(\"Best alpha:\", best_alpha)\n",
    "print(\"Best gamma:\", best_gamma)\n",
    "print(\"Best epsilon:\", best_epsilon)\n",
    "print(\"Best tau:\", best_tau)\n",
    "print(\"Best policy:\", best_policy)"
   ]
  },
  {
   "cell_type": "code",
   "execution_count": null,
   "metadata": {},
   "outputs": [],
   "source": [
    "# Epsilon-greedy\n",
    "q_learning = QLearning(env=env, alpha=best_alpha, gamma=best_gamma, epsilon=best_epsilon, tau=best_tau, num_episodes=num_episodes, num_runs=num_runs, policy='epsilon-greedy')\n",
    "Q, rewards, steps, state_visits = q_learning.train()\n",
    "\n",
    "plot = Plot(env, rewards, steps, state_visits, Q, save=True, exp=\"5K-episodes/1.1.2.2\")\n",
    "\n",
    "plot.reward()\n",
    "plot.steps_to_goal()\n",
    "plot.state_visit_count()\n",
    "plot.Q_values()\n",
    "plot.optimal_path()"
   ]
  },
  {
   "cell_type": "code",
   "execution_count": null,
   "metadata": {},
   "outputs": [],
   "source": [
    "\"\"\"\n",
    "Experiment for 100 episodes\n",
    "Objective: To understand the initial learning\n",
    "\"\"\"\n",
    "\n",
    "q_learning = QLearning(env=env, alpha=best_alpha, gamma=best_gamma, epsilon=best_epsilon, tau=best_tau, num_episodes=100, num_runs=num_runs, policy='epsilon-greedy')\n",
    "Q, rewards, steps, state_visits = q_learning.train()\n",
    "\n",
    "plot = Plot(env, rewards, steps, state_visits, Q, save=True, exp=\"100-episodes/1.1.2.2\")\n",
    "\n",
    "plot.reward()\n",
    "plot.steps_to_goal()"
   ]
  },
  {
   "cell_type": "markdown",
   "metadata": {},
   "source": [
    "#### Start state: (3, 6); Algorithm: SARSA; Policy: Softmax"
   ]
  },
  {
   "cell_type": "code",
   "execution_count": null,
   "metadata": {},
   "outputs": [],
   "source": [
    "\"\"\"\n",
    "Experiment 1.2.1.1:\n",
    "wind=False (clear), p = 1.0 (deterministic step); Start state: (3, 6); Algorithm: SARSA; Policy: Softmax\n",
    "\"\"\"\n",
    "\n",
    "env = init_env(start_state=[3, 6], p_good_transition=1.0, bias=0.5, wind=False)\n",
    "\n",
    "alpha = None\n",
    "gamma = None\n",
    "tau = None\n",
    "epsilon = None"
   ]
  },
  {
   "cell_type": "code",
   "execution_count": null,
   "metadata": {},
   "outputs": [],
   "source": [
    "# Hyperparameter tuning\n",
    "best_alpha, best_gamma, best_epsilon, best_tau, best_policy = hyperparameter_tuning(env, 'sarsa', alphas, gammas, epsilons, taus, policy='softmax')\n",
    "\n",
    "clear_output(wait=True)\n",
    "time.sleep(0.3)\n",
    "\n",
    "print(\"Best alpha:\", best_alpha)\n",
    "print(\"Best gamma:\", best_gamma)\n",
    "print(\"Best epsilon:\", best_epsilon)\n",
    "print(\"Best tau:\", best_tau)\n",
    "print(\"Best policy:\", best_policy)"
   ]
  },
  {
   "cell_type": "code",
   "execution_count": null,
   "metadata": {},
   "outputs": [],
   "source": [
    "# Softmax\n",
    "sarsa = SARSA(env=env, alpha=best_alpha, gamma=best_gamma, epsilon=best_epsilon, tau=best_tau, num_episodes=num_episodes, num_runs=num_runs, policy='softmax')\n",
    "Q, rewards, steps, state_visits = sarsa.train()\n",
    "\n",
    "plot = Plot(env, rewards, steps, state_visits, Q, save=True, exp=\"5K-episodes/1.2.1.1\")\n",
    "\n",
    "plot.reward()\n",
    "plot.steps_to_goal()\n",
    "plot.state_visit_count()\n",
    "plot.Q_values()\n",
    "plot.optimal_path()"
   ]
  },
  {
   "cell_type": "code",
   "execution_count": null,
   "metadata": {},
   "outputs": [],
   "source": [
    "\"\"\"\n",
    "Experiment for 100 episodes\n",
    "Objective: To understand the initial learning\n",
    "\"\"\"\n",
    "\n",
    "sarsa = SARSA(env=env, alpha=best_alpha, gamma=best_gamma, epsilon=best_epsilon, tau=best_tau, num_episodes=100, num_runs=num_runs, policy='softmax')\n",
    "Q, rewards, steps, state_visits = sarsa.train()\n",
    "\n",
    "plot = Plot(env, rewards, steps, state_visits, Q, save=True, exp=\"100-episodes/1.2.1.1\")\n",
    "\n",
    "plot.reward()\n",
    "plot.steps_to_goal()"
   ]
  },
  {
   "cell_type": "markdown",
   "metadata": {},
   "source": [
    "#### Start state: (3, 6); Algorithm: SARSA; Policy: $\\epsilon - $ greedy"
   ]
  },
  {
   "cell_type": "code",
   "execution_count": null,
   "metadata": {},
   "outputs": [],
   "source": [
    "\"\"\"\n",
    "Experiment 1.2.1.2:\n",
    "wind=False (clear), p = 1.0 (deterministic step); Start state: (3, 6); Algorithm: SARSA; Policy: epsilon-greedy\n",
    "\"\"\"\n",
    "\n",
    "env = init_env(start_state=[3, 6], p_good_transition=1.0, bias=0.5, wind=False)\n",
    "\n",
    "alpha = None\n",
    "gamma = None\n",
    "tau = None\n",
    "epsilon = None"
   ]
  },
  {
   "cell_type": "code",
   "execution_count": null,
   "metadata": {},
   "outputs": [],
   "source": [
    "# Hyperparameter tuning\n",
    "best_alpha, best_gamma, best_epsilon, best_tau, best_policy = hyperparameter_tuning(env, 'sarsa', alphas, gammas, epsilons, taus, policy='epsilon_greedy')\n",
    "\n",
    "clear_output(wait=True)\n",
    "time.sleep(0.3)\n",
    "\n",
    "print(\"Best alpha:\", best_alpha)\n",
    "print(\"Best gamma:\", best_gamma)\n",
    "print(\"Best epsilon:\", best_epsilon)\n",
    "print(\"Best tau:\", best_tau)\n",
    "print(\"Best policy:\", best_policy)"
   ]
  },
  {
   "cell_type": "code",
   "execution_count": null,
   "metadata": {},
   "outputs": [],
   "source": [
    "# Epsilon-greedy\n",
    "sarsa = SARSA(env=env, alpha=best_alpha, gamma=best_gamma, epsilon=best_epsilon, tau=best_tau, num_episodes=num_episodes, num_runs=num_runs, policy='epsilon-greedy')\n",
    "Q, rewards, steps, state_visits = sarsa.train()\n",
    "\n",
    "plot = Plot(env, rewards, steps, state_visits, Q, save=True, exp=\"5K-episodes/1.2.1.2\")\n",
    "\n",
    "plot.reward()\n",
    "plot.steps_to_goal()\n",
    "plot.state_visit_count()\n",
    "plot.Q_values()\n",
    "plot.optimal_path()"
   ]
  },
  {
   "cell_type": "code",
   "execution_count": null,
   "metadata": {},
   "outputs": [],
   "source": [
    "\"\"\"\n",
    "Experiment for 100 episodes\n",
    "Objective: To understand the initial learning\n",
    "\"\"\"\n",
    "\n",
    "sarsa = SARSA(env=env, alpha=best_alpha, gamma=best_gamma, epsilon=best_epsilon, tau=best_tau, num_episodes=100, num_runs=num_runs, policy='epsilon-greedy')\n",
    "Q, rewards, steps, state_visits = sarsa.train()\n",
    "\n",
    "plot = Plot(env, rewards, steps, state_visits, Q, save=True, exp=\"100-episodes/1.2.1.2\")\n",
    "\n",
    "plot.reward()\n",
    "plot.steps_to_goal()"
   ]
  },
  {
   "cell_type": "markdown",
   "metadata": {},
   "source": [
    "#### Start state: (3, 6); Algorithm: Q-Learning; Policy: Softmax"
   ]
  },
  {
   "cell_type": "code",
   "execution_count": null,
   "metadata": {},
   "outputs": [],
   "source": [
    "\"\"\"\n",
    "Experiment 1.2.2.1:\n",
    "wind=False (clear), p = 1.0 (deterministic step); Start state: (3, 6); Algorithm: Q-Learning; Policy: Softmax\n",
    "\"\"\"\n",
    "\n",
    "env = init_env(start_state=[3, 6], p_good_transition=1.0, bias=0.5, wind=False)\n",
    "\n",
    "alpha = None\n",
    "gamma = None\n",
    "tau = None\n",
    "epsilon = None"
   ]
  },
  {
   "cell_type": "code",
   "execution_count": null,
   "metadata": {},
   "outputs": [],
   "source": [
    "# Hyperparameter tuning\n",
    "best_alpha, best_gamma, best_epsilon, best_tau, best_policy = hyperparameter_tuning(env, 'qlearning', alphas, gammas, epsilons, taus, policy='softmax')\n",
    "\n",
    "clear_output(wait=True)\n",
    "time.sleep(0.3)\n",
    "\n",
    "print(\"Best alpha:\", best_alpha)\n",
    "print(\"Best gamma:\", best_gamma)\n",
    "print(\"Best epsilon:\", best_epsilon)\n",
    "print(\"Best tau:\", best_tau)\n",
    "print(\"Best policy:\", best_policy)"
   ]
  },
  {
   "cell_type": "code",
   "execution_count": null,
   "metadata": {},
   "outputs": [],
   "source": [
    "# Softmax\n",
    "q_learning = QLearning(env=env, alpha=best_alpha, gamma=best_gamma, epsilon=best_epsilon, tau=best_tau, num_episodes=num_episodes, num_runs=num_runs, policy='softmax')\n",
    "Q, rewards, steps, state_visits = q_learning.train()\n",
    "\n",
    "plot = Plot(env, rewards, steps, state_visits, Q, save=True, exp=\"5K-episodes/1.2.2.1\")\n",
    "\n",
    "plot.reward()\n",
    "plot.steps_to_goal()\n",
    "plot.state_visit_count()\n",
    "plot.Q_values()\n",
    "plot.optimal_path()"
   ]
  },
  {
   "cell_type": "code",
   "execution_count": null,
   "metadata": {},
   "outputs": [],
   "source": [
    "\"\"\"\n",
    "Experiment for 100 episodes\n",
    "Objective: To understand the initial learning\n",
    "\"\"\"\n",
    "\n",
    "q_learning = QLearning(env=env, alpha=best_alpha, gamma=best_gamma, epsilon=best_epsilon, tau=best_tau, num_episodes=100, num_runs=num_runs, policy='softmax')\n",
    "Q, rewards, steps, state_visits = q_learning.train()\n",
    "\n",
    "plot = Plot(env, rewards, steps, state_visits, Q, save=True, exp=\"100-episodes/1.2.2.1\")\n",
    "\n",
    "plot.reward()\n",
    "plot.steps_to_goal()"
   ]
  },
  {
   "cell_type": "markdown",
   "metadata": {},
   "source": [
    "#### Start state: (3, 6); Algorithm: Q-Learning; Policy: $\\epsilon -$ greedy"
   ]
  },
  {
   "cell_type": "code",
   "execution_count": null,
   "metadata": {},
   "outputs": [],
   "source": [
    "\"\"\"\n",
    "Experiment 1.2.2.2:\n",
    "wind=False (clear); p = 1.0 (deterministic step); Start state: (3, 6); Algorithm: Q-Learning; Policy: epsilon-greedy\n",
    "\"\"\"\n",
    "\n",
    "env = init_env(start_state=[3, 6], p_good_transition=1.0, bias=0.5, wind=False)\n",
    "\n",
    "alpha = None\n",
    "gamma = None\n",
    "tau = None\n",
    "epsilon = None"
   ]
  },
  {
   "cell_type": "code",
   "execution_count": null,
   "metadata": {},
   "outputs": [],
   "source": [
    "# Hyperparameter tuning\n",
    "best_alpha, best_gamma, best_epsilon, best_tau, best_policy = hyperparameter_tuning(env, 'qlearning', alphas, gammas, epsilons, taus, policy='epsilon_greedy')\n",
    "\n",
    "clear_output(wait=True)\n",
    "time.sleep(0.3)\n",
    "\n",
    "print(\"Best alpha:\", best_alpha)\n",
    "print(\"Best gamma:\", best_gamma)\n",
    "print(\"Best epsilon:\", best_epsilon)\n",
    "print(\"Best tau:\", best_tau)\n",
    "print(\"Best policy:\", best_policy)"
   ]
  },
  {
   "cell_type": "code",
   "execution_count": null,
   "metadata": {},
   "outputs": [],
   "source": [
    "# Epsilon-greedy\n",
    "q_learning = QLearning(env=env, alpha=best_alpha, gamma=best_gamma, epsilon=best_epsilon, tau=best_tau, num_episodes=num_episodes, num_runs=num_runs, policy='epsilon_greedy')\n",
    "Q, rewards, steps, state_visits = q_learning.train()\n",
    "\n",
    "plot = Plot(env, rewards, steps, state_visits, Q, save=True, exp=\"5K-episodes/1.2.2.2\")\n",
    "\n",
    "plot.reward()\n",
    "plot.steps_to_goal()\n",
    "plot.state_visit_count()\n",
    "plot.Q_values()\n",
    "plot.optimal_path()"
   ]
  },
  {
   "cell_type": "code",
   "execution_count": null,
   "metadata": {},
   "outputs": [],
   "source": [
    "\"\"\"\n",
    "Experiment for 100 episodes\n",
    "Objective: To understand the initial learning\n",
    "\"\"\"\n",
    "\n",
    "# Epsilon-greedy\n",
    "q_learning = QLearning(env=env, alpha=best_alpha, gamma=best_gamma, epsilon=best_epsilon, tau=best_tau, num_episodes=100, num_runs=num_runs, policy='epsilon_greedy')\n",
    "Q, rewards, steps, state_visits = q_learning.train()\n",
    "\n",
    "plot = Plot(env, rewards, steps, state_visits, Q, save=True, exp=\"100-episodes/1.2.2.2\")\n",
    "\n",
    "plot.reward()\n",
    "plot.steps_to_goal()"
   ]
  },
  {
   "cell_type": "markdown",
   "metadata": {},
   "source": [
    "### Stochasticity Variant 2: `wind=False` (clear); `p = 0.7`(stochastic step)"
   ]
  },
  {
   "cell_type": "markdown",
   "metadata": {},
   "source": [
    "#### Start state: (0, 4); Algorithm: SARSA; Policy: Softmax"
   ]
  },
  {
   "cell_type": "code",
   "execution_count": null,
   "metadata": {},
   "outputs": [],
   "source": [
    "\"\"\"\n",
    "Experiment 2.1.1.1:\n",
    "wind=False (clear), p = 0.7 (stochastic step); Start state: (0, 4); Algorithm: SARSA; Policy: Softmax\n",
    "\"\"\"\n",
    "\n",
    "env = init_env(start_state=[0, 4], p_good_transition=0.7, bias=0.5, wind=False)\n",
    "\n",
    "alpha = None\n",
    "gamma = None\n",
    "tau = None\n",
    "epsilon = None"
   ]
  },
  {
   "cell_type": "code",
   "execution_count": null,
   "metadata": {},
   "outputs": [],
   "source": [
    "# Hyperparameter tuning\n",
    "best_alpha, best_gamma, best_epsilon, best_tau, best_policy = hyperparameter_tuning(env, 'sarsa', alphas, gammas, epsilons, taus, policy='softmax')\n",
    "\n",
    "clear_output(wait=True)\n",
    "time.sleep(0.3)\n",
    "\n",
    "print(\"Best alpha:\", best_alpha)\n",
    "print(\"Best gamma:\", best_gamma)\n",
    "print(\"Best epsilon:\", best_epsilon)\n",
    "print(\"Best tau:\", best_tau)\n",
    "print(\"Best policy:\", best_policy)"
   ]
  },
  {
   "cell_type": "code",
   "execution_count": null,
   "metadata": {},
   "outputs": [],
   "source": [
    "# Softmax\n",
    "sarsa = SARSA(env=env, alpha=best_alpha, gamma=best_gamma, epsilon=best_epsilon, tau=best_tau, num_episodes=num_episodes, num_runs=num_runs, policy='softmax')\n",
    "Q, rewards, steps, state_visits = sarsa.train()\n",
    "\n",
    "plot = Plot(env, rewards, steps, state_visits, Q, save=True, exp=\"5K-episodes/2.1.1.1\")\n",
    "\n",
    "plot.reward()\n",
    "plot.steps_to_goal()\n",
    "plot.state_visit_count()\n",
    "plot.Q_values()\n",
    "plot.optimal_path()"
   ]
  },
  {
   "cell_type": "code",
   "execution_count": null,
   "metadata": {},
   "outputs": [],
   "source": [
    "\"\"\"\n",
    "Experiment for 100 episodes\n",
    "Objective: To understand the initial learning\n",
    "\"\"\"\n",
    "\n",
    "sarsa = SARSA(env=env, alpha=best_alpha, gamma=best_gamma, epsilon=best_epsilon, tau=best_tau, num_episodes=100, num_runs=num_runs, policy='softmax')\n",
    "Q, rewards, steps, state_visits = sarsa.train()\n",
    "\n",
    "plot = Plot(env, rewards, steps, state_visits, Q, save=True, exp=\"100-episodes/2.1.1.1\")\n",
    "\n",
    "plot.reward()\n",
    "plot.steps_to_goal()"
   ]
  },
  {
   "cell_type": "markdown",
   "metadata": {},
   "source": [
    "#### Start state: (0, 4); Algorithm: SARSA; Policy: $\\epsilon -$ greedy"
   ]
  },
  {
   "cell_type": "code",
   "execution_count": null,
   "metadata": {},
   "outputs": [],
   "source": [
    "\"\"\"\n",
    "Experiment 2.1.1.2:\n",
    "wind=False (clear); p = 0.7 (stochastic step); Start state: (0, 4); Algorithm: SARSA; Policy: epsilon-greedy\n",
    "\"\"\"\n",
    "\n",
    "env = init_env(start_state=[0, 4], p_good_transition=0.7, bias=0.5, wind=False)\n",
    "\n",
    "alpha = None\n",
    "gamma = None\n",
    "tau = None\n",
    "epsilon = None"
   ]
  },
  {
   "cell_type": "code",
   "execution_count": null,
   "metadata": {},
   "outputs": [],
   "source": [
    "# Hyperparameter tuning\n",
    "best_alpha, best_gamma, best_epsilon, best_tau, best_policy = hyperparameter_tuning(env, 'sarsa', alphas, gammas, epsilons, taus, policy='epsilon-greedy')\n",
    "\n",
    "clear_output(wait=True)\n",
    "time.sleep(0.3)\n",
    "\n",
    "print(\"Best alpha:\", best_alpha)\n",
    "print(\"Best gamma:\", best_gamma)\n",
    "print(\"Best epsilon:\", best_epsilon)\n",
    "print(\"Best tau:\", best_tau)\n",
    "print(\"Best policy:\", best_policy)"
   ]
  },
  {
   "cell_type": "code",
   "execution_count": null,
   "metadata": {},
   "outputs": [],
   "source": [
    "# Epsilon-greedy\n",
    "sarsa = SARSA(env=env, alpha=best_alpha, gamma=best_gamma, epsilon=best_epsilon, tau=best_tau, num_episodes=num_episodes, num_runs=num_runs, policy='epsilon_greedy')\n",
    "Q, rewards, steps, state_visits = sarsa.train()\n",
    "\n",
    "plot = Plot(env, rewards, steps, state_visits, Q, save=True, exp=\"5K-episodes/2.1.1.2\")\n",
    "\n",
    "plot.reward()\n",
    "plot.steps_to_goal()\n",
    "plot.state_visit_count()\n",
    "plot.Q_values()\n",
    "plot.optimal_path()"
   ]
  },
  {
   "cell_type": "code",
   "execution_count": null,
   "metadata": {},
   "outputs": [],
   "source": [
    "\"\"\"\n",
    "Experiment for 100 episodes\n",
    "Objective: To understand the initial learning\n",
    "\"\"\"\n",
    "\n",
    "# Epsilon-greedy\n",
    "sarsa = SARSA(env=env, alpha=best_alpha, gamma=best_gamma, epsilon=best_epsilon, tau=best_tau, num_episodes=100, num_runs=num_runs, policy='epsilon_greedy')\n",
    "Q, rewards, steps, state_visits = sarsa.train()\n",
    "\n",
    "plot = Plot(env, rewards, steps, state_visits, Q, save=True, exp=\"100-episodes/2.1.1.2\")\n",
    "\n",
    "plot.reward()\n",
    "plot.steps_to_goal()"
   ]
  },
  {
   "cell_type": "markdown",
   "metadata": {},
   "source": [
    "#### Start state: (0, 4); Algorithm: Q-Learning; Policy: Softmax"
   ]
  },
  {
   "cell_type": "code",
   "execution_count": null,
   "metadata": {},
   "outputs": [],
   "source": [
    "\"\"\"\n",
    "Experiment 2.1.2.1:\n",
    "wind=False (clear); p = 0.7 (stochastic step); Start state: (0, 4); Algorithm: Q-Learning; Policy: Softmax\n",
    "\"\"\"\n",
    "\n",
    "env = init_env(start_state=[0, 4], p_good_transition=0.7, bias=0.5, wind=False)\n",
    "\n",
    "alpha = None\n",
    "gamma = None\n",
    "tau = None\n",
    "epsilon = None"
   ]
  },
  {
   "cell_type": "code",
   "execution_count": null,
   "metadata": {},
   "outputs": [],
   "source": [
    "# Hyperparameter tuning\n",
    "best_alpha, best_gamma, best_epsilon, best_tau, best_policy = hyperparameter_tuning(env, 'qlearning', alphas, gammas, epsilons, taus, policy='softmax')\n",
    "\n",
    "clear_output(wait=True)\n",
    "time.sleep(0.3)\n",
    "\n",
    "print(\"Best alpha:\", best_alpha)\n",
    "print(\"Best gamma:\", best_gamma)\n",
    "print(\"Best epsilon:\", best_epsilon)\n",
    "print(\"Best tau:\", best_tau)\n",
    "print(\"Best policy:\", best_policy)"
   ]
  },
  {
   "cell_type": "code",
   "execution_count": null,
   "metadata": {},
   "outputs": [],
   "source": [
    "# Softmax\n",
    "q_learning = QLearning(env=env, alpha=best_alpha, gamma=best_gamma, epsilon=best_epsilon, tau=best_tau, num_episodes=num_episodes, num_runs=num_runs, policy='softmax')\n",
    "Q, rewards, steps, state_visits = q_learning.train()\n",
    "\n",
    "plot = Plot(env, rewards, steps, state_visits, Q, save=True, exp=\"5K-episodes/2.1.2.1\")\n",
    "\n",
    "plot.reward()\n",
    "plot.steps_to_goal()\n",
    "plot.state_visit_count()\n",
    "plot.Q_values()\n",
    "plot.optimal_path()"
   ]
  },
  {
   "cell_type": "code",
   "execution_count": null,
   "metadata": {},
   "outputs": [],
   "source": [
    "\"\"\"\n",
    "Experiment for 100 episodes\n",
    "Objective: To understand the initial learning\n",
    "\"\"\"\n",
    "\n",
    "q_learning = QLearning(env=env, alpha=best_alpha, gamma=best_gamma, epsilon=best_epsilon, tau=best_tau, num_episodes=100, num_runs=num_runs, policy='softmax')\n",
    "Q, rewards, steps, state_visits = q_learning.train()\n",
    "\n",
    "plot = Plot(env, rewards, steps, state_visits, Q, save=True, exp=\"100-episodes/2.1.2.1\")\n",
    "\n",
    "plot.reward()\n",
    "plot.steps_to_goal()"
   ]
  },
  {
   "cell_type": "markdown",
   "metadata": {},
   "source": [
    "#### Start state: (0, 4); Algorithm: Q-Learning; Policy: $\\epsilon - $ greedy"
   ]
  },
  {
   "cell_type": "code",
   "execution_count": null,
   "metadata": {},
   "outputs": [],
   "source": [
    "\"\"\"\n",
    "Experiment 2.1.2.2:\n",
    "wind=False (clear); p = 0.7 (stochastic step); Start state: (0, 4); Algorithm: Q-Learning; Policy: epsilon-greedy\n",
    "\"\"\"\n",
    "\n",
    "env = init_env(start_state=[0, 4], p_good_transition=0.7, bias=0.5, wind=False)\n",
    "\n",
    "alpha = None\n",
    "gamma = None\n",
    "tau = None\n",
    "epsilon = None"
   ]
  },
  {
   "cell_type": "code",
   "execution_count": null,
   "metadata": {},
   "outputs": [],
   "source": [
    "# Hyperparameter tuning\n",
    "best_alpha, best_gamma, best_epsilon, best_tau, best_policy = hyperparameter_tuning(env, 'qlearning', alphas, gammas, epsilons, taus, policy='epsilon_greedy')\n",
    "\n",
    "clear_output(wait=True)\n",
    "time.sleep(0.3)\n",
    "\n",
    "print(\"Best alpha:\", best_alpha)\n",
    "print(\"Best gamma:\", best_gamma)\n",
    "print(\"Best epsilon:\", best_epsilon)\n",
    "print(\"Best tau:\", best_tau)\n",
    "print(\"Best policy:\", best_policy)"
   ]
  },
  {
   "cell_type": "code",
   "execution_count": null,
   "metadata": {},
   "outputs": [],
   "source": [
    "# Epsilon-greedy\n",
    "q_learning = QLearning(env=env, alpha=best_alpha, gamma=best_gamma, epsilon=best_epsilon, tau=best_tau, num_episodes=num_episodes, num_runs=num_runs, policy='epsilon-greedy')\n",
    "Q, rewards, steps, state_visits = q_learning.train()\n",
    "\n",
    "plot = Plot(env, rewards, steps, state_visits, Q, save=True, exp=\"5K-episodes/2.1.2.2\")\n",
    "\n",
    "plot.reward()\n",
    "plot.steps_to_goal()\n",
    "plot.state_visit_count()\n",
    "plot.Q_values()\n",
    "plot.optimal_path()"
   ]
  },
  {
   "cell_type": "code",
   "execution_count": null,
   "metadata": {},
   "outputs": [],
   "source": [
    "\"\"\"\n",
    "Experiment for 100 episodes\n",
    "Objective: To understand the initial learning\n",
    "\"\"\"\n",
    "\n",
    "q_learning = QLearning(env=env, alpha=best_alpha, gamma=best_gamma, epsilon=best_epsilon, tau=best_tau, num_episodes=100, num_runs=num_runs, policy='epsilon-greedy')\n",
    "Q, rewards, steps, state_visits = q_learning.train()\n",
    "\n",
    "plot = Plot(env, rewards, steps, state_visits, Q, save=True, exp=\"100-episodes/2.1.2.2\")\n",
    "\n",
    "plot.reward()\n",
    "plot.steps_to_goal()"
   ]
  },
  {
   "cell_type": "markdown",
   "metadata": {},
   "source": [
    "#### Start state: (3, 6); Algorithm: SARSA; Policy: Softmax"
   ]
  },
  {
   "cell_type": "code",
   "execution_count": null,
   "metadata": {},
   "outputs": [],
   "source": [
    "\"\"\"\n",
    "Experiment 2.2.1.1:\n",
    "wind=False (clear), p = 0.7 (stochastic step); Start state: (3, 6); Algorithm: SARSA; Policy: Softmax\n",
    "\"\"\"\n",
    "\n",
    "env = init_env(start_state=[3, 6], p_good_transition=0.7, bias=0.5, wind=False)\n",
    "\n",
    "alpha = None\n",
    "gamma = None\n",
    "tau = None\n",
    "epsilon = None"
   ]
  },
  {
   "cell_type": "code",
   "execution_count": null,
   "metadata": {},
   "outputs": [],
   "source": [
    "# Hyperparameter tuning\n",
    "best_alpha, best_gamma, best_epsilon, best_tau, best_policy = hyperparameter_tuning(env, 'sarsa', alphas, gammas, epsilons, taus, policy='softmax')\n",
    "\n",
    "clear_output(wait=True)\n",
    "time.sleep(0.3)\n",
    "\n",
    "print(\"Best alpha:\", best_alpha)\n",
    "print(\"Best gamma:\", best_gamma)\n",
    "print(\"Best epsilon:\", best_epsilon)\n",
    "print(\"Best tau:\", best_tau)\n",
    "print(\"Best policy:\", best_policy)"
   ]
  },
  {
   "cell_type": "code",
   "execution_count": null,
   "metadata": {},
   "outputs": [],
   "source": [
    "# Softmax\n",
    "sarsa = SARSA(env=env, alpha=best_alpha, gamma=best_gamma, epsilon=best_epsilon, tau=best_tau, num_episodes=num_episodes, num_runs=num_runs, policy='softmax')\n",
    "Q, rewards, steps, state_visits = sarsa.train()\n",
    "\n",
    "plot = Plot(env, rewards, steps, state_visits, Q, save=True, exp=\"5K-episodes/2.2.1.1\")\n",
    "\n",
    "plot.reward()\n",
    "plot.steps_to_goal()\n",
    "plot.state_visit_count()\n",
    "plot.Q_values()\n",
    "plot.optimal_path()"
   ]
  },
  {
   "cell_type": "code",
   "execution_count": null,
   "metadata": {},
   "outputs": [],
   "source": [
    "\"\"\"\n",
    "Experiment for 100 episodes\n",
    "Objective: To understand the initial learning\n",
    "\"\"\"\n",
    "\n",
    "sarsa = SARSA(env=env, alpha=best_alpha, gamma=best_gamma, epsilon=best_epsilon, tau=best_tau, num_episodes=100, num_runs=num_runs, policy='softmax')\n",
    "Q, rewards, steps, state_visits = sarsa.train()\n",
    "\n",
    "plot = Plot(env, rewards, steps, state_visits, Q, save=True, exp=\"100-episodes/2.2.1.1\")\n",
    "\n",
    "plot.reward()\n",
    "plot.steps_to_goal()"
   ]
  },
  {
   "cell_type": "markdown",
   "metadata": {},
   "source": [
    "#### Start state: (3, 6); Algorithm: SARSA; Policy: $\\epsilon - $ greedy"
   ]
  },
  {
   "cell_type": "code",
   "execution_count": null,
   "metadata": {},
   "outputs": [],
   "source": [
    "\"\"\"\n",
    "Experiment 2.2.1.2:\n",
    "wind=False (clear), p = 0.7 (stochastic step); Start state: (3, 6); Algorithm: SARSA; Policy: epsilon-greedy\n",
    "\"\"\"\n",
    "\n",
    "env = init_env(start_state=[3, 6], p_good_transition=0.7, bias=0.5, wind=False)\n",
    "\n",
    "alpha = None\n",
    "gamma = None\n",
    "tau = None\n",
    "epsilon = None"
   ]
  },
  {
   "cell_type": "code",
   "execution_count": null,
   "metadata": {},
   "outputs": [],
   "source": [
    "# Hyperparameter tuning\n",
    "best_alpha, best_gamma, best_epsilon, best_tau, best_policy = hyperparameter_tuning(env, 'sarsa', alphas, gammas, epsilons, taus, policy='epsilon_greedy')\n",
    "\n",
    "clear_output(wait=True)\n",
    "time.sleep(0.3)\n",
    "\n",
    "print(\"Best alpha:\", best_alpha)\n",
    "print(\"Best gamma:\", best_gamma)\n",
    "print(\"Best epsilon:\", best_epsilon)\n",
    "print(\"Best tau:\", best_tau)\n",
    "print(\"Best policy:\", best_policy)"
   ]
  },
  {
   "cell_type": "code",
   "execution_count": null,
   "metadata": {},
   "outputs": [],
   "source": [
    "# Epsilon-greedy\n",
    "sarsa = SARSA(env=env, alpha=best_alpha, gamma=best_gamma, epsilon=best_epsilon, tau=best_tau, num_episodes=num_episodes, num_runs=num_runs, policy='epsilon-greedy')\n",
    "Q, rewards, steps, state_visits = sarsa.train()\n",
    "\n",
    "plot = Plot(env, rewards, steps, state_visits, Q, save=True, exp=\"5K-episodes/2.2.1.2\")\n",
    "\n",
    "plot.reward()\n",
    "plot.steps_to_goal()\n",
    "plot.state_visit_count()\n",
    "plot.Q_values()\n",
    "plot.optimal_path()"
   ]
  },
  {
   "cell_type": "code",
   "execution_count": null,
   "metadata": {},
   "outputs": [],
   "source": [
    "\"\"\"\n",
    "Experiment for 100 episodes\n",
    "Objective: To understand the initial learning\n",
    "\"\"\"\n",
    "\n",
    "sarsa = SARSA(env=env, alpha=best_alpha, gamma=best_gamma, epsilon=best_epsilon, tau=best_tau, num_episodes=100, num_runs=num_runs, policy='epsilon-greedy')\n",
    "Q, rewards, steps, state_visits = sarsa.train()\n",
    "\n",
    "plot = Plot(env, rewards, steps, state_visits, Q, save=True, exp=\"100-episodes/2.2.1.2\")\n",
    "\n",
    "plot.reward()\n",
    "plot.steps_to_goal()"
   ]
  },
  {
   "cell_type": "markdown",
   "metadata": {},
   "source": [
    "#### Start state: (3, 6); Algorithm: Q-Learning; Policy: Softmax"
   ]
  },
  {
   "cell_type": "code",
   "execution_count": null,
   "metadata": {},
   "outputs": [],
   "source": [
    "\"\"\"\n",
    "Experiment 2.2.2.1:\n",
    "wind=False (clear), p = 0.7 (stochastic step); Start state: (3, 6); Algorithm: Q-Learning; Policy: Softmax\n",
    "\"\"\"\n",
    "\n",
    "env = init_env(start_state=[3, 6], p_good_transition=0.7, bias=0.5, wind=False)\n",
    "\n",
    "alpha = None\n",
    "gamma = None\n",
    "tau = None\n",
    "epsilon = None"
   ]
  },
  {
   "cell_type": "code",
   "execution_count": null,
   "metadata": {},
   "outputs": [],
   "source": [
    "# Hyperparameter tuning\n",
    "best_alpha, best_gamma, best_epsilon, best_tau, best_policy = hyperparameter_tuning(env, 'qlearning', alphas, gammas, epsilons, taus, policy='softmax')\n",
    "\n",
    "clear_output(wait=True)\n",
    "time.sleep(0.3)\n",
    "\n",
    "print(\"Best alpha:\", best_alpha)\n",
    "print(\"Best gamma:\", best_gamma)\n",
    "print(\"Best epsilon:\", best_epsilon)\n",
    "print(\"Best tau:\", best_tau)\n",
    "print(\"Best policy:\", best_policy)"
   ]
  },
  {
   "cell_type": "code",
   "execution_count": null,
   "metadata": {},
   "outputs": [],
   "source": [
    "# Softmax\n",
    "q_learning = QLearning(env=env, alpha=best_alpha, gamma=best_gamma, epsilon=best_epsilon, tau=best_tau, num_episodes=num_episodes, num_runs=num_runs, policy='softmax')\n",
    "Q, rewards, steps, state_visits = q_learning.train()\n",
    "\n",
    "plot = Plot(env, rewards, steps, state_visits, Q, save=True, exp=\"5K-episodes/2.2.2.1\")\n",
    "\n",
    "plot.reward()\n",
    "plot.steps_to_goal()\n",
    "plot.state_visit_count()\n",
    "plot.Q_values()\n",
    "plot.optimal_path()"
   ]
  },
  {
   "cell_type": "code",
   "execution_count": null,
   "metadata": {},
   "outputs": [],
   "source": [
    "\"\"\"\n",
    "Experiment for 100 episodes\n",
    "Objective: To understand the initial learning\n",
    "\"\"\"\n",
    "\n",
    "# Softmax\n",
    "q_learning = QLearning(env=env, alpha=best_alpha, gamma=best_gamma, epsilon=best_epsilon, tau=best_tau, num_episodes=100, num_runs=num_runs, policy='softmax')\n",
    "Q, rewards, steps, state_visits = q_learning.train()\n",
    "\n",
    "plot = Plot(env, rewards, steps, state_visits, Q, save=True, exp=\"100-episodes/2.2.2.1\")\n",
    "\n",
    "plot.reward()\n",
    "plot.steps_to_goal()"
   ]
  },
  {
   "cell_type": "markdown",
   "metadata": {},
   "source": [
    "#### Start state: (3, 6); Algorithm: Q-Learning; Policy: $\\epsilon -$ greedy"
   ]
  },
  {
   "cell_type": "code",
   "execution_count": null,
   "metadata": {},
   "outputs": [],
   "source": [
    "\"\"\"\n",
    "Experiment 2.2.2.2:\n",
    "wind=False (clear); p = 0.7 (stochastic step); Start state: (3, 6); Algorithm: Q-Learning; Policy: epsilon-greedy\n",
    "\"\"\"\n",
    "\n",
    "env = init_env(start_state=[3, 6], p_good_transition=0.7, bias=0.5, wind=False)\n",
    "\n",
    "alpha = None\n",
    "gamma = None\n",
    "tau = None\n",
    "epsilon = None"
   ]
  },
  {
   "cell_type": "code",
   "execution_count": null,
   "metadata": {},
   "outputs": [],
   "source": [
    "# Hyperparameter tuning\n",
    "best_alpha, best_gamma, best_epsilon, best_tau, best_policy = hyperparameter_tuning(env, 'qlearning', alphas, gammas, epsilons, taus, policy='epsilon_greedy')\n",
    "\n",
    "clear_output(wait=True)\n",
    "time.sleep(0.3)\n",
    "\n",
    "print(\"Best alpha:\", best_alpha)\n",
    "print(\"Best gamma:\", best_gamma)\n",
    "print(\"Best epsilon:\", best_epsilon)\n",
    "print(\"Best tau:\", best_tau)\n",
    "print(\"Best policy:\", best_policy)"
   ]
  },
  {
   "cell_type": "code",
   "execution_count": null,
   "metadata": {},
   "outputs": [],
   "source": [
    "# Epsilon-greedy\n",
    "q_learning = QLearning(env=env, alpha=best_alpha, gamma=best_gamma, epsilon=best_epsilon, tau=best_tau, num_episodes=num_episodes, num_runs=num_runs, policy='epsilon_greedy')\n",
    "Q, rewards, steps, state_visits = q_learning.train()\n",
    "\n",
    "plot = Plot(env, rewards, steps, state_visits, Q, save=True, exp=\"5K-episodes/2.2.2.2\")\n",
    "\n",
    "plot.reward()\n",
    "plot.steps_to_goal()\n",
    "plot.state_visit_count()\n",
    "plot.Q_values()\n",
    "plot.optimal_path()"
   ]
  },
  {
   "cell_type": "code",
   "execution_count": null,
   "metadata": {},
   "outputs": [],
   "source": [
    "\"\"\"\n",
    "Experiment for 100 episodes\n",
    "Objective: To understand the initial learning\n",
    "\"\"\"\n",
    "\n",
    "q_learning = QLearning(env=env, alpha=best_alpha, gamma=best_gamma, epsilon=best_epsilon, tau=best_tau, num_episodes=100, num_runs=num_runs, policy='epsilon_greedy')\n",
    "Q, rewards, steps, state_visits = q_learning.train()\n",
    "\n",
    "plot = Plot(env, rewards, steps, state_visits, Q, save=True, exp=\"100-episodes/2.2.2.2\")\n",
    "\n",
    "plot.reward()\n",
    "plot.steps_to_goal()"
   ]
  },
  {
   "cell_type": "markdown",
   "metadata": {},
   "source": [
    "### Stochasticity Variant 3: `wind=True` (windy); `p = 1.0`(deterministic step)"
   ]
  },
  {
   "cell_type": "markdown",
   "metadata": {},
   "source": [
    "#### Start state: (0, 4); Algorithm: SARSA; Policy: Softmax"
   ]
  },
  {
   "cell_type": "code",
   "execution_count": null,
   "metadata": {},
   "outputs": [],
   "source": [
    "\"\"\"\n",
    "Experiment 3.1.1.1:\n",
    "wind=True (windy), p = 1.0 (deterministic step); Start state: (0, 4); Algorithm: SARSA; Policy: Softmax\n",
    "\"\"\"\n",
    "\n",
    "env = init_env(start_state=[0, 4], p_good_transition=1.0, bias=0.5, wind=True)\n",
    "\n",
    "alpha = None\n",
    "gamma = None\n",
    "tau = None\n",
    "epsilon = None"
   ]
  },
  {
   "cell_type": "code",
   "execution_count": null,
   "metadata": {},
   "outputs": [],
   "source": [
    "# Hyperparameter tuning\n",
    "best_alpha, best_gamma, best_epsilon, best_tau, best_policy = hyperparameter_tuning(env, 'sarsa', alphas, gammas, epsilons, taus, policy='softmax')\n",
    "\n",
    "clear_output(wait=True)\n",
    "time.sleep(0.3)\n",
    "\n",
    "print(\"Best alpha:\", best_alpha)\n",
    "print(\"Best gamma:\", best_gamma)\n",
    "print(\"Best epsilon:\", best_epsilon)\n",
    "print(\"Best tau:\", best_tau)\n",
    "print(\"Best policy:\", best_policy)"
   ]
  },
  {
   "cell_type": "code",
   "execution_count": null,
   "metadata": {},
   "outputs": [],
   "source": [
    "# Softmax\n",
    "sarsa = SARSA(env=env, alpha=best_alpha, gamma=best_gamma, epsilon=best_epsilon, tau=best_tau, num_episodes=num_episodes, num_runs=num_runs, policy='softmax')\n",
    "Q, rewards, steps, state_visits = sarsa.train()\n",
    "\n",
    "plot = Plot(env, rewards, steps, state_visits, Q, save=True, exp=\"5K-episodes/3.1.1.1\")\n",
    "\n",
    "plot.reward()\n",
    "plot.steps_to_goal()\n",
    "plot.state_visit_count()\n",
    "plot.Q_values()\n",
    "plot.optimal_path()"
   ]
  },
  {
   "cell_type": "code",
   "execution_count": null,
   "metadata": {},
   "outputs": [],
   "source": [
    "\"\"\"\n",
    "Experiment for 100 episodes\n",
    "Objective: To understand the initial learning\n",
    "\"\"\"\n",
    "\n",
    "sarsa = SARSA(env=env, alpha=best_alpha, gamma=best_gamma, epsilon=best_epsilon, tau=best_tau, num_episodes=100, num_runs=num_runs, policy='softmax')\n",
    "Q, rewards, steps, state_visits = sarsa.train()\n",
    "\n",
    "plot = Plot(env, rewards, steps, state_visits, Q, save=True, exp=\"100-episodes/3.1.1.1\")\n",
    "\n",
    "plot.reward()\n",
    "plot.steps_to_goal()"
   ]
  },
  {
   "cell_type": "markdown",
   "metadata": {},
   "source": [
    "#### Start state: (0, 4); Algorithm: SARSA; Policy: $\\epsilon - $ greedy"
   ]
  },
  {
   "cell_type": "code",
   "execution_count": null,
   "metadata": {},
   "outputs": [],
   "source": [
    "\"\"\"\n",
    "Experiment 3.1.1.2:\n",
    "wind=True (windy); p = 1.0 (deterministic step); Start state: (0, 4); Algorithm: SARSA; Policy: epsilon-greedy\n",
    "\"\"\"\n",
    "\n",
    "env = init_env(start_state=[0, 4], p_good_transition=1.0, bias=0.5, wind=True)\n",
    "\n",
    "alpha = None\n",
    "gamma = None\n",
    "tau = None\n",
    "epsilon = None"
   ]
  },
  {
   "cell_type": "code",
   "execution_count": null,
   "metadata": {},
   "outputs": [],
   "source": [
    "# Hyperparameter tuning\n",
    "best_alpha, best_gamma, best_epsilon, best_tau, best_policy = hyperparameter_tuning(env, 'sarsa', alphas, gammas, epsilons, taus, policy='epsilon-greedy')\n",
    "\n",
    "clear_output(wait=True)\n",
    "time.sleep(0.3)\n",
    "\n",
    "print(\"Best alpha:\", best_alpha)\n",
    "print(\"Best gamma:\", best_gamma)\n",
    "print(\"Best epsilon:\", best_epsilon)\n",
    "print(\"Best tau:\", best_tau)\n",
    "print(\"Best policy:\", best_policy)"
   ]
  },
  {
   "cell_type": "code",
   "execution_count": null,
   "metadata": {},
   "outputs": [],
   "source": [
    "# Epsilon-greedy\n",
    "sarsa = SARSA(env=env, alpha=best_alpha, gamma=best_gamma, epsilon=best_epsilon, tau=best_tau, num_episodes=num_episodes, num_runs=num_runs, policy='epsilon_greedy')\n",
    "Q, rewards, steps, state_visits = sarsa.train()\n",
    "\n",
    "plot = Plot(env, rewards, steps, state_visits, Q, save=True, exp=\"5K-episodes/3.1.1.2\")\n",
    "\n",
    "plot.reward()\n",
    "plot.steps_to_goal()\n",
    "plot.state_visit_count()\n",
    "plot.Q_values()\n",
    "plot.optimal_path()"
   ]
  },
  {
   "cell_type": "code",
   "execution_count": null,
   "metadata": {},
   "outputs": [],
   "source": [
    "\"\"\"\n",
    "Experiment for 100 episodes\n",
    "Objective: To understand the initial learning\n",
    "\"\"\"\n",
    "\n",
    "sarsa = SARSA(env=env, alpha=best_alpha, gamma=best_gamma, epsilon=best_epsilon, tau=best_tau, num_episodes=100, num_runs=num_runs, policy='epsilon_greedy')\n",
    "Q, rewards, steps, state_visits = sarsa.train()\n",
    "\n",
    "plot = Plot(env, rewards, steps, state_visits, Q, save=True, exp=\"100-episodes/3.1.1.2\")\n",
    "\n",
    "plot.reward()\n",
    "plot.steps_to_goal()"
   ]
  },
  {
   "cell_type": "markdown",
   "metadata": {},
   "source": [
    "#### Start state: (0, 4); Algorithm: Q-Learning; Policy: Softmax"
   ]
  },
  {
   "cell_type": "code",
   "execution_count": null,
   "metadata": {},
   "outputs": [],
   "source": [
    "\"\"\"\n",
    "Experiment 3.1.2.1:\n",
    "wind=True (windy); p = 1.0 (deterministic step); Start state: (0, 4); Algorithm: Q-Learning; Policy: Softmax\n",
    "\"\"\"\n",
    "\n",
    "env = init_env(start_state=[0, 4], p_good_transition=1.0, bias=0.5, wind=True)\n",
    "\n",
    "alpha = None\n",
    "gamma = None\n",
    "tau = None\n",
    "epsilon = None"
   ]
  },
  {
   "cell_type": "code",
   "execution_count": null,
   "metadata": {},
   "outputs": [],
   "source": [
    "# Hyperparameter tuning\n",
    "best_alpha, best_gamma, best_epsilon, best_tau, best_policy = hyperparameter_tuning(env, 'qlearning', alphas, gammas, epsilons, taus, policy='softmax')\n",
    "\n",
    "clear_output(wait=True)\n",
    "time.sleep(0.3)\n",
    "\n",
    "print(\"Best alpha:\", best_alpha)\n",
    "print(\"Best gamma:\", best_gamma)\n",
    "print(\"Best epsilon:\", best_epsilon)\n",
    "print(\"Best tau:\", best_tau)\n",
    "print(\"Best policy:\", best_policy)"
   ]
  },
  {
   "cell_type": "code",
   "execution_count": null,
   "metadata": {},
   "outputs": [],
   "source": [
    "# Softmax\n",
    "q_learning = QLearning(env=env, alpha=best_alpha, gamma=best_gamma, epsilon=best_epsilon, tau=best_tau, num_episodes=num_episodes, num_runs=num_runs, policy='softmax')\n",
    "Q, rewards, steps, state_visits = q_learning.train()\n",
    "\n",
    "plot = Plot(env, rewards, steps, state_visits, Q, save=True, exp=\"5K-episodes/3.1.2.1\")\n",
    "\n",
    "plot.reward()\n",
    "plot.steps_to_goal()\n",
    "plot.state_visit_count()\n",
    "plot.Q_values()\n",
    "plot.optimal_path()"
   ]
  },
  {
   "cell_type": "code",
   "execution_count": null,
   "metadata": {},
   "outputs": [],
   "source": [
    "\"\"\"\n",
    "Experiment for 100 episodes\n",
    "Objective: To understand the initial learning\n",
    "\"\"\"\n",
    "\n",
    "q_learning = QLearning(env=env, alpha=best_alpha, gamma=best_gamma, epsilon=best_epsilon, tau=best_tau, num_episodes=100, num_runs=num_runs, policy='softmax')\n",
    "Q, rewards, steps, state_visits = q_learning.train()\n",
    "\n",
    "plot = Plot(env, rewards, steps, state_visits, Q, save=True, exp=\"100-episodes/3.1.2.1\")\n",
    "\n",
    "plot.reward()\n",
    "plot.steps_to_goal()"
   ]
  },
  {
   "cell_type": "markdown",
   "metadata": {},
   "source": [
    "#### Start state: (0, 4); Algorithm: Q-Learning; Policy: $\\epsilon - $ greedy"
   ]
  },
  {
   "cell_type": "code",
   "execution_count": null,
   "metadata": {},
   "outputs": [],
   "source": [
    "\"\"\"\n",
    "Experiment 3.1.2.2:\n",
    "wind=True (windy); p = 1.0 (deterministic step); Start state: (0, 4); Algorithm: Q-Learning; Policy: epsilon-greedy\n",
    "\"\"\"\n",
    "\n",
    "env = init_env(start_state=[0, 4], p_good_transition=1.0, bias=0.5, wind=True)\n",
    "\n",
    "alpha = None\n",
    "gamma = None\n",
    "tau = None\n",
    "epsilon = None"
   ]
  },
  {
   "cell_type": "code",
   "execution_count": null,
   "metadata": {},
   "outputs": [],
   "source": [
    "# Hyperparameter tuning\n",
    "best_alpha, best_gamma, best_epsilon, best_tau, best_policy = hyperparameter_tuning(env, 'qlearning', alphas, gammas, epsilons, taus, policy='epsilon_greedy')\n",
    "\n",
    "clear_output(wait=True)\n",
    "time.sleep(0.3)\n",
    "\n",
    "print(\"Best alpha:\", best_alpha)\n",
    "print(\"Best gamma:\", best_gamma)\n",
    "print(\"Best epsilon:\", best_epsilon)\n",
    "print(\"Best tau:\", best_tau)\n",
    "print(\"Best policy:\", best_policy)"
   ]
  },
  {
   "cell_type": "code",
   "execution_count": null,
   "metadata": {},
   "outputs": [],
   "source": [
    "# Epsilon-greedy\n",
    "q_learning = QLearning(env=env, alpha=best_alpha, gamma=best_gamma, epsilon=best_epsilon, tau=best_tau, num_episodes=num_episodes, num_runs=num_runs, policy='epsilon-greedy')\n",
    "Q, rewards, steps, state_visits = q_learning.train()\n",
    "\n",
    "plot = Plot(env, rewards, steps, state_visits, Q, save=True, exp=\"5K-episodes/3.1.2.2\")\n",
    "\n",
    "plot.reward()\n",
    "plot.steps_to_goal()\n",
    "plot.state_visit_count()\n",
    "plot.Q_values()\n",
    "plot.optimal_path()"
   ]
  },
  {
   "cell_type": "code",
   "execution_count": null,
   "metadata": {},
   "outputs": [],
   "source": [
    "\"\"\"\n",
    "Experiment for 100 episodes\n",
    "Objective: To understand the initial learning\n",
    "\"\"\"\n",
    "\n",
    "q_learning = QLearning(env=env, alpha=best_alpha, gamma=best_gamma, epsilon=best_epsilon, tau=best_tau, num_episodes=100, num_runs=num_runs, policy='epsilon-greedy')\n",
    "Q, rewards, steps, state_visits = q_learning.train()\n",
    "\n",
    "plot = Plot(env, rewards, steps, state_visits, Q, save=True, exp=\"100-episodes/3.1.2.2\")\n",
    "\n",
    "plot.reward()\n",
    "plot.steps_to_goal()"
   ]
  },
  {
   "cell_type": "markdown",
   "metadata": {},
   "source": [
    "#### Start state: (3, 6); Algorithm: SARSA; Policy: Softmax"
   ]
  },
  {
   "cell_type": "code",
   "execution_count": null,
   "metadata": {},
   "outputs": [],
   "source": [
    "\"\"\"\n",
    "Experiment 3.2.1.1:\n",
    "wind=True (windy), p = 1.0 (deterministic step); Start state: (3, 6); Algorithm: SARSA; Policy: Softmax\n",
    "\"\"\"\n",
    "\n",
    "env = init_env(start_state=[3, 6], p_good_transition=1.0, bias=0.5, wind=True)\n",
    "\n",
    "alpha = None\n",
    "gamma = None\n",
    "tau = None\n",
    "epsilon = None"
   ]
  },
  {
   "cell_type": "code",
   "execution_count": null,
   "metadata": {},
   "outputs": [],
   "source": [
    "# Hyperparameter tuning\n",
    "best_alpha, best_gamma, best_epsilon, best_tau, best_policy = hyperparameter_tuning(env, 'sarsa', alphas, gammas, epsilons, taus, policy='softmax')\n",
    "\n",
    "clear_output(wait=True)\n",
    "time.sleep(0.3)\n",
    "\n",
    "print(\"Best alpha:\", best_alpha)\n",
    "print(\"Best gamma:\", best_gamma)\n",
    "print(\"Best epsilon:\", best_epsilon)\n",
    "print(\"Best tau:\", best_tau)\n",
    "print(\"Best policy:\", best_policy)"
   ]
  },
  {
   "cell_type": "code",
   "execution_count": null,
   "metadata": {},
   "outputs": [],
   "source": [
    "# Softmax\n",
    "sarsa = SARSA(env=env, alpha=best_alpha, gamma=best_gamma, epsilon=best_epsilon, tau=best_tau, num_episodes=num_episodes, num_runs=num_runs, policy='softmax')\n",
    "Q, rewards, steps, state_visits = sarsa.train()\n",
    "\n",
    "plot = Plot(env, rewards, steps, state_visits, Q, save=True, exp=\"5K-episodes/3.2.1.1\")\n",
    "\n",
    "plot.reward()\n",
    "plot.steps_to_goal()\n",
    "plot.state_visit_count()\n",
    "plot.Q_values()\n",
    "plot.optimal_path()"
   ]
  },
  {
   "cell_type": "code",
   "execution_count": null,
   "metadata": {},
   "outputs": [],
   "source": [
    "\"\"\"\n",
    "Experiment for 100 episodes\n",
    "Objective: To understand the initial learning\n",
    "\"\"\"\n",
    "\n",
    "sarsa = SARSA(env=env, alpha=best_alpha, gamma=best_gamma, epsilon=best_epsilon, tau=best_tau, num_episodes=100, num_runs=num_runs, policy='softmax')\n",
    "Q, rewards, steps, state_visits = sarsa.train()\n",
    "\n",
    "plot = Plot(env, rewards, steps, state_visits, Q, save=True, exp=\"100-episodes/3.2.1.1\")\n",
    "\n",
    "plot.reward()\n",
    "plot.steps_to_goal()"
   ]
  },
  {
   "cell_type": "markdown",
   "metadata": {},
   "source": [
    "#### Start state: (3, 6); Algorithm: SARSA; Policy: $\\epsilon - $ greedy"
   ]
  },
  {
   "cell_type": "code",
   "execution_count": null,
   "metadata": {},
   "outputs": [],
   "source": [
    "\"\"\"\n",
    "Experiment 3.2.1.2:\n",
    "wind=True (windy), p = 1.0 (deterministic step); Start state: (3, 6); Algorithm: SARSA; Policy: epsilon-greedy\n",
    "\"\"\"\n",
    "\n",
    "env = init_env(start_state=[3, 6], p_good_transition=1.0, bias=0.5, wind=True)\n",
    "\n",
    "alpha = None\n",
    "gamma = None\n",
    "tau = None\n",
    "epsilon = None"
   ]
  },
  {
   "cell_type": "code",
   "execution_count": null,
   "metadata": {},
   "outputs": [],
   "source": [
    "# Hyperparameter tuning\n",
    "best_alpha, best_gamma, best_epsilon, best_tau, best_policy = hyperparameter_tuning(env, 'sarsa', alphas, gammas, epsilons, taus, policy='epsilon_greedy')\n",
    "\n",
    "clear_output(wait=True)\n",
    "time.sleep(0.3)\n",
    "\n",
    "print(\"Best alpha:\", best_alpha)\n",
    "print(\"Best gamma:\", best_gamma)\n",
    "print(\"Best epsilon:\", best_epsilon)\n",
    "print(\"Best tau:\", best_tau)\n",
    "print(\"Best policy:\", best_policy)"
   ]
  },
  {
   "cell_type": "code",
   "execution_count": null,
   "metadata": {},
   "outputs": [],
   "source": [
    "# Epsilon-greedy\n",
    "sarsa = SARSA(env=env, alpha=best_alpha, gamma=best_gamma, epsilon=best_epsilon, tau=best_tau, num_episodes=num_episodes, num_runs=num_runs, policy='epsilon-greedy')\n",
    "Q, rewards, steps, state_visits = sarsa.train()\n",
    "\n",
    "plot = Plot(env, rewards, steps, state_visits, Q, save=True, exp=\"5K-episodes/3.2.1.2\")\n",
    "\n",
    "plot.reward()\n",
    "plot.steps_to_goal()\n",
    "plot.state_visit_count()\n",
    "plot.Q_values()\n",
    "plot.optimal_path()"
   ]
  },
  {
   "cell_type": "code",
   "execution_count": null,
   "metadata": {},
   "outputs": [],
   "source": [
    "\"\"\"\n",
    "Experiment for 100 episodes\n",
    "Objective: To understand the initial learning\n",
    "\"\"\"\n",
    "\n",
    "sarsa = SARSA(env=env, alpha=best_alpha, gamma=best_gamma, epsilon=best_epsilon, tau=best_tau, num_episodes=100, num_runs=num_runs, policy='epsilon-greedy')\n",
    "Q, rewards, steps, state_visits = sarsa.train()\n",
    "\n",
    "plot = Plot(env, rewards, steps, state_visits, Q, save=True, exp=\"100-episodes/3.2.1.2\")\n",
    "\n",
    "plot.reward()\n",
    "plot.steps_to_goal()"
   ]
  },
  {
   "cell_type": "markdown",
   "metadata": {},
   "source": [
    "#### Start state: (3, 6); Algorithm: Q-Learning; Policy: Softmax"
   ]
  },
  {
   "cell_type": "code",
   "execution_count": null,
   "metadata": {},
   "outputs": [],
   "source": [
    "\"\"\"\n",
    "Experiment 3.2.2.1:\n",
    "wind=True (windy), p = 1.0 (deterministic step); Start state: (3, 6); Algorithm: Q-Learning; Policy: Softmax\n",
    "\"\"\"\n",
    "\n",
    "env = init_env(start_state=[3, 6], p_good_transition=1.0, bias=0.5, wind=True)\n",
    "\n",
    "alpha = None\n",
    "gamma = None\n",
    "tau = None\n",
    "epsilon = None"
   ]
  },
  {
   "cell_type": "code",
   "execution_count": null,
   "metadata": {},
   "outputs": [],
   "source": [
    "# Hyperparameter tuning\n",
    "best_alpha, best_gamma, best_epsilon, best_tau, best_policy = hyperparameter_tuning(env, 'qlearning', alphas, gammas, epsilons, taus, policy='softmax')\n",
    "\n",
    "clear_output(wait=True)\n",
    "time.sleep(0.3)\n",
    "\n",
    "print(\"Best alpha:\", best_alpha)\n",
    "print(\"Best gamma:\", best_gamma)\n",
    "print(\"Best epsilon:\", best_epsilon)\n",
    "print(\"Best tau:\", best_tau)\n",
    "print(\"Best policy:\", best_policy)"
   ]
  },
  {
   "cell_type": "code",
   "execution_count": null,
   "metadata": {},
   "outputs": [],
   "source": [
    "# Softmax\n",
    "q_learning = QLearning(env=env, alpha=best_alpha, gamma=best_gamma, epsilon=best_epsilon, tau=best_tau, num_episodes=num_episodes, num_runs=num_runs, policy='softmax')\n",
    "Q, rewards, steps, state_visits = q_learning.train()\n",
    "\n",
    "plot = Plot(env, rewards, steps, state_visits, Q, save=True, exp=\"5K-episodes/3.2.2.1\")\n",
    "\n",
    "plot.reward()\n",
    "plot.steps_to_goal()\n",
    "plot.state_visit_count()\n",
    "plot.Q_values()\n",
    "plot.optimal_path()"
   ]
  },
  {
   "cell_type": "code",
   "execution_count": null,
   "metadata": {},
   "outputs": [],
   "source": [
    "\"\"\"\n",
    "Experiment for 100 episodes\n",
    "Objective: To understand the initial learning\n",
    "\"\"\"\n",
    "\n",
    "q_learning = QLearning(env=env, alpha=best_alpha, gamma=best_gamma, epsilon=best_epsilon, tau=best_tau, num_episodes=100, num_runs=num_runs, policy='softmax')\n",
    "Q, rewards, steps, state_visits = q_learning.train()\n",
    "\n",
    "plot = Plot(env, rewards, steps, state_visits, Q, save=True, exp=\"100-episodes/3.2.2.1\")\n",
    "\n",
    "plot.reward()\n",
    "plot.steps_to_goal()"
   ]
  },
  {
   "cell_type": "markdown",
   "metadata": {},
   "source": [
    "#### Start state: (3, 6); Algorithm: Q-Learning; Policy: $\\epsilon -$ greedy"
   ]
  },
  {
   "cell_type": "code",
   "execution_count": null,
   "metadata": {},
   "outputs": [],
   "source": [
    "\"\"\"\n",
    "Experiment 3.2.2.2:\n",
    "wind=True (windy); p = 1.0 (deterministic step); Start state: (3, 6); Algorithm: Q-Learning; Policy: epsilon-greedy\n",
    "\"\"\"\n",
    "\n",
    "env = init_env(start_state=[3, 6], p_good_transition=1.0, bias=0.5, wind=True)\n",
    "\n",
    "alpha = None\n",
    "gamma = None\n",
    "tau = None\n",
    "epsilon = None"
   ]
  },
  {
   "cell_type": "code",
   "execution_count": null,
   "metadata": {},
   "outputs": [],
   "source": [
    "# Hyperparameter tuning\n",
    "best_alpha, best_gamma, best_epsilon, best_tau, best_policy = hyperparameter_tuning(env, 'qlearning', alphas, gammas, epsilons, taus, policy='epsilon_greedy')\n",
    "\n",
    "clear_output(wait=True)\n",
    "time.sleep(0.3)\n",
    "\n",
    "print(\"Best alpha:\", best_alpha)\n",
    "print(\"Best gamma:\", best_gamma)\n",
    "print(\"Best epsilon:\", best_epsilon)\n",
    "print(\"Best tau:\", best_tau)\n",
    "print(\"Best policy:\", best_policy)"
   ]
  },
  {
   "cell_type": "code",
   "execution_count": null,
   "metadata": {},
   "outputs": [],
   "source": [
    "# Epsilon-greedy\n",
    "q_learning = QLearning(env=env, alpha=best_alpha, gamma=best_gamma, epsilon=best_epsilon, tau=best_tau, num_episodes=num_episodes, num_runs=num_runs, policy='epsilon_greedy')\n",
    "Q, rewards, steps, state_visits = q_learning.train()\n",
    "\n",
    "plot = Plot(env, rewards, steps, state_visits, Q, save=True, exp=\"5K-episodes/3.2.2.2\")\n",
    "\n",
    "plot.reward()\n",
    "plot.steps_to_goal()\n",
    "plot.state_visit_count()\n",
    "plot.Q_values()\n",
    "plot.optimal_path()"
   ]
  },
  {
   "cell_type": "code",
   "execution_count": null,
   "metadata": {},
   "outputs": [],
   "source": [
    "\"\"\"\n",
    "Experiment for 100 episodes\n",
    "Objective: To understand the initial learning\n",
    "\"\"\"\n",
    "\n",
    "q_learning = QLearning(env=env, alpha=best_alpha, gamma=best_gamma, epsilon=best_epsilon, tau=best_tau, num_episodes=100, num_runs=100, policy='epsilon_greedy')\n",
    "Q, rewards, steps, state_visits = q_learning.train()\n",
    "\n",
    "plot = Plot(env, rewards, steps, state_visits, Q, save=True, exp=\"100-episodes/3.2.2.2\")\n",
    "\n",
    "plot.reward()\n",
    "plot.steps_to_goal()"
   ]
  }
 ],
 "metadata": {
  "kernelspec": {
   "display_name": "Python 3",
   "language": "python",
   "name": "python3"
  },
  "language_info": {
   "codemirror_mode": {
    "name": "ipython",
    "version": 3
   },
   "file_extension": ".py",
   "mimetype": "text/x-python",
   "name": "python",
   "nbconvert_exporter": "python",
   "pygments_lexer": "ipython3",
   "version": "3.10.2"
  }
 },
 "nbformat": 4,
 "nbformat_minor": 2
}
